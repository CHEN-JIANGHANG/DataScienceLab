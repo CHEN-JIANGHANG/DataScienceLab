{
 "metadata": {
  "name": "",
  "signature": "sha256:3d673487fa82b890b3a9244f6750754b4ba1c3b074f33384b7c0839b60f9a37c"
 },
 "nbformat": 3,
 "nbformat_minor": 0,
 "worksheets": [
  {
   "cells": [
    {
     "cell_type": "markdown",
     "metadata": {},
     "source": [
      "Metrics (Precision/Recall, ROC curve, Marginal Precision, Score Distribution - all items vs true items)\n",
      "\n",
      "Cross-validation\n",
      "\n",
      "Model Comparison\n",
      "\n",
      "Feature Comparison"
     ]
    },
    {
     "cell_type": "markdown",
     "metadata": {},
     "source": [
      "how to improve precision/recall of a logreg model?\n",
      "\n",
      "- check data is clean: \n",
      "    - remove any row / sample with a NaN features, \n",
      "    - center features and scale them to unit variances\n",
      "- perform a grid search for all the parameters on the model\n",
      "\n",
      "- try more complex, non linear models such as SVM with kernels or random forest models such as the ExtraTreesClassifier\n",
      "\n",
      "- grid search for the optimal parameters : very important but more costly: there are more of them with non linear models."
     ]
    },
    {
     "cell_type": "code",
     "collapsed": false,
     "input": [],
     "language": "python",
     "metadata": {},
     "outputs": []
    },
    {
     "cell_type": "code",
     "collapsed": false,
     "input": [],
     "language": "python",
     "metadata": {},
     "outputs": []
    },
    {
     "cell_type": "code",
     "collapsed": false,
     "input": [],
     "language": "python",
     "metadata": {},
     "outputs": []
    }
   ],
   "metadata": {}
  }
 ]
}