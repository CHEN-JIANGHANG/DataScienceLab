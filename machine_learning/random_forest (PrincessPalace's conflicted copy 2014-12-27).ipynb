{
 "metadata": {
  "name": "",
  "signature": "sha256:22f69d382686feaebb1f340d7dd1582008dfe76d887e20f5627dd56f8f903f51"
 },
 "nbformat": 3,
 "nbformat_minor": 0,
 "worksheets": [
  {
   "cells": [
    {
     "cell_type": "markdown",
     "metadata": {},
     "source": [
      "#<span style=\"background-color:#66FF99\">Random Forest<span/>\n",
      "<img src=\"../images/random_forest.png\" style=\"height:400px\">"
     ]
    },
    {
     "cell_type": "markdown",
     "metadata": {},
     "source": [
      "###Contents\n",
      "- [Background](#background)\n",
      "- [Titanic Dataset](#titanic-dataset)\n",
      "    - [Preliminaries](#preliminaries)\n",
      "    - [Load Data](#load-data)\n",
      "    - [Build Dataframe](#build-dataframe)\n",
      "    - [Fit Model](#fit-model)\n",
      "    - [Model Evaluation](#model-evaluation)\n",
      "        - [Cross Validation](#cross-validation)\n",
      "        - [Confusion Matrix](#confusion-matrix)\n",
      "        - [Precision-Recall](#precision-recall)\n",
      "        - [Prediction Probability](#prediction-probability)\n",
      "        - [ROC](#roc)\n",
      "        - [Cross Validation Score](#cross-validation-score)\n",
      "- [References](#references)"
     ]
    },
    {
     "cell_type": "markdown",
     "metadata": {},
     "source": [
      "###Background\n",
      "[back to top](#contents)\n",
      "\n",
      "###<span style=\"background-color:#FF99FF)\">Basics of Decision Trees</span>\n",
      "* Can be applied to both regression and classification problems\n",
      "\n",
      "###1. Regression Trees\n",
      "* Log a variable so its distribution has more of a typical bell-shape\n",
      "* More interpretable\n",
      "* Process of building a regression tree:\n",
      "    1. Divide the data into different non-overlapping regions\n",
      "    * Every observation that falls in a region, we make the same prediction (which is the mean of the response values for training observations in the region\n",
      "* How to divide into different regions?\n",
      "    * Can be any shape but we divide into rectangles and boxes for simplicity\n",
      "    * Goal is to find boxes which minimize the RSS\n",
      "    * Impossible to consider every partition, so we take top-down, greedy approach (recursive binary splitting)\n",
      "    * Top-down: Begins at the top and split into different branches\n",
      "    * Greedy: At each step, best split is made instead of looking ahead and pick 1 which might lead to better\n",
      "* Tree Pruning - build tree once the decrease in RSS due to each split exceeds a threshold\n",
      "* Good strategy would be to grow a very large tree, then prune it to obtain a subtree\n",
      "* What is the best way to prune a tree? Cost complexity pruning (weakest link pruning) -  index by nonnegative tuning parameter $\\alpha$\n",
      "* **How to build a regression tree?**\n",
      "    1. Use recursive binary splitting to grow a large tree. Stop when each terminal node has less than a no. of observations\n",
      "    * Apply cost complexity pruning - to get best subtrees as a function of $\\alpha$\n",
      "    * Use K-fold CV to choose $\\alpha$ which minimize the average error\n",
      "    * Return the subtree from step 2 which uses the chosen value of $\\alpha$\n",
      "     \n",
      "###2. Classification Trees\n",
      "* Predict observation response based on most commonly occuring class of training observations\n",
      "* Same process as regression trees\n",
      "* Cannot use RSS, we use:\n",
      "    1. Classification error rate: Fraction of training observations which do not belong to the most common class\n",
      "    * Gini index: measure of total variance across the K classes (takes on small value when proportion of wrongly classified is small)\n",
      "    * Cross-entropy: Similar to Gini Index, small when error is small\n",
      "* When building a classification tree, Gini or Cross-entropy used to evaluate the quality of particular split\n",
      "* A tree might lead to 2 yes, it just shows the certainty of a yes\n",
      "\n",
      "###3. Trees vs Linear Models\n",
      "* Which is better?\n",
      "    * If relationship between features and responses well-approximated by linear regression, use linear regression\n",
      "    * If highly non-linear and complex relationship, use decision trees\n",
      "    * Use CV to estimate the test error\n",
      "\n",
      "###4. Adv and Disadv of Trees\n",
      "1. Easy to explain to people\n",
      "* Closer to mirror human decision-making \n",
      "* Can be displayed graphically, easily interpretable\n",
      "* Can handle qualitative predictors without creating dummy variables\n",
      "* HOWEVER, trees do not have same predictive accuracy (BUT! aggregating many decision trees, we can improve the performance!)\n",
      "\n",
      "###<span style=\"background-color:#FF99FF)\">Bagging, Random Forests, Boosting</span>\n",
      "* Used to construct more powerful prediction models\n",
      "1. Bagging\n",
      "    * Decision trees suffer from high variance\n",
      "    * Bootstrap Aggregating (Bagging) - procedure for reducing the variance\n",
      "    * Averaging a set of observations reduces variance\n",
      "    * Not practical if we do not have access to multiple training sets, therefore use bootstrap by taking repeated sames from 1 training set\n",
      "    * Construct B regression trees using B bootstrapped training sets, and average the predictions\n",
      "    * Applying to classification trees: Use majority vote (predict based on most commonly occuring class among B predictions)\n",
      "    * Straightforward way to estimate test error of a bagged model (without CV): Out-of-Bag Error Estimation\n",
      "    * Use variable importance measures to see which variable is most important (based on decrease in Gini index)\n",
      "* Random Forests\n",
      "    * Improvement over bagged trees by de-correlating the trees\n",
      "    * At each split, algorithm NOT allowed to consider a majority of the available predictors\n",
      "    * RF force each split to consider only a subset of the predictors (decorrelating)\n",
      "    * Main difference between RF and Bagging: Choice of predictor subset size M\n",
      "* Boosting\n",
      "    * Instead of fitting the data hard and potentially overfitting, boosting learns slowly\n",
      "    * Difference between boosting and random forests: in boosting, growth of a particular tree takes into account other trees which have been grown. Smaller trees can aid in interpretability\n"
     ]
    },
    {
     "cell_type": "markdown",
     "metadata": {},
     "source": [
      "#Titanic Dataset\n",
      "[back to top](#contents)"
     ]
    },
    {
     "cell_type": "markdown",
     "metadata": {},
     "source": [
      "###Preliminaries\n",
      "[back to top](#contents)"
     ]
    },
    {
     "cell_type": "code",
     "collapsed": false,
     "input": [
      "%matplotlib inline\n",
      "import pandas as pd\n",
      "import numpy as np\n",
      "import matplotlib.pyplot as plt\n",
      "import seaborn as sns\n",
      "sns.set(style=\"white\")\n",
      "plt.rc(\"figure\", figsize=(10, 6))\n",
      "np.set_printoptions(precision=4)\n",
      "\n",
      "import warnings\n",
      "warnings.simplefilter('ignore', DeprecationWarning)"
     ],
     "language": "python",
     "metadata": {},
     "outputs": [],
     "prompt_number": 101
    },
    {
     "cell_type": "markdown",
     "metadata": {},
     "source": [
      "###Load Data\n",
      "[back to top](#contents)"
     ]
    },
    {
     "cell_type": "code",
     "collapsed": false,
     "input": [
      "titanic = pd.read_csv('../data/titanic.csv')\n",
      "titanic.head(2)"
     ],
     "language": "python",
     "metadata": {},
     "outputs": [
      {
       "html": [
        "<div style=\"max-height:1000px;max-width:1500px;overflow:auto;\">\n",
        "<table border=\"1\" class=\"dataframe\">\n",
        "  <thead>\n",
        "    <tr style=\"text-align: right;\">\n",
        "      <th></th>\n",
        "      <th>survived</th>\n",
        "      <th>pclass</th>\n",
        "      <th>sex</th>\n",
        "      <th>age</th>\n",
        "      <th>sibsp</th>\n",
        "      <th>parch</th>\n",
        "      <th>fare</th>\n",
        "      <th>embarked</th>\n",
        "      <th>class</th>\n",
        "      <th>who</th>\n",
        "      <th>adult_male</th>\n",
        "      <th>deck</th>\n",
        "      <th>embark_town</th>\n",
        "      <th>alive</th>\n",
        "      <th>alone</th>\n",
        "    </tr>\n",
        "  </thead>\n",
        "  <tbody>\n",
        "    <tr>\n",
        "      <th>0</th>\n",
        "      <td> 0</td>\n",
        "      <td> 3</td>\n",
        "      <td>   male</td>\n",
        "      <td> 22</td>\n",
        "      <td> 1</td>\n",
        "      <td> 0</td>\n",
        "      <td>  7.2500</td>\n",
        "      <td> S</td>\n",
        "      <td> Third</td>\n",
        "      <td>   man</td>\n",
        "      <td>  True</td>\n",
        "      <td> NaN</td>\n",
        "      <td> Southampton</td>\n",
        "      <td>  no</td>\n",
        "      <td> False</td>\n",
        "    </tr>\n",
        "    <tr>\n",
        "      <th>1</th>\n",
        "      <td> 1</td>\n",
        "      <td> 1</td>\n",
        "      <td> female</td>\n",
        "      <td> 38</td>\n",
        "      <td> 1</td>\n",
        "      <td> 0</td>\n",
        "      <td> 71.2833</td>\n",
        "      <td> C</td>\n",
        "      <td> First</td>\n",
        "      <td> woman</td>\n",
        "      <td> False</td>\n",
        "      <td>   C</td>\n",
        "      <td>   Cherbourg</td>\n",
        "      <td> yes</td>\n",
        "      <td> False</td>\n",
        "    </tr>\n",
        "  </tbody>\n",
        "</table>\n",
        "</div>"
       ],
       "metadata": {},
       "output_type": "pyout",
       "prompt_number": 104,
       "text": [
        "   survived  pclass     sex  age  sibsp  parch     fare embarked  class  \\\n",
        "0         0       3    male   22      1      0   7.2500        S  Third   \n",
        "1         1       1  female   38      1      0  71.2833        C  First   \n",
        "\n",
        "     who adult_male deck  embark_town alive  alone  \n",
        "0    man       True  NaN  Southampton    no  False  \n",
        "1  woman      False    C    Cherbourg   yes  False  "
       ]
      }
     ],
     "prompt_number": 104
    },
    {
     "cell_type": "markdown",
     "metadata": {},
     "source": [
      "###Build Dataframe\n",
      "[back to top](#contents)"
     ]
    },
    {
     "cell_type": "code",
     "collapsed": false,
     "input": [
      "df = titanic\n",
      "# df = df.fillna(df.dropna().median()) #cheating as we using test set to compute\n",
      "feature1 = 'fare'\n",
      "feature2 = 'pclass'\n",
      "feature3 = 'age'\n",
      "dummy1 = 'sex'\n",
      "dummy2 = 'embarked'\n",
      "target = 'survived'\n",
      "\n",
      "#Extract categorical features\n",
      "df_features = pd.concat([df[[feature1, feature2, feature3]],\n",
      "                pd.get_dummies(df[dummy1], prefix=dummy1),\n",
      "                pd.get_dummies(df[dummy2], prefix=dummy2)],\n",
      "                axis=1)\n",
      "\n",
      "df_features = df_features.drop('sex_male', 1) #remove redundant binary feature\n",
      "df_features = df_features.fillna(-1) #to indicate -1 is missing value\n",
      "\n",
      "# df_features.head()\n",
      "df_features.count()"
     ],
     "language": "python",
     "metadata": {},
     "outputs": [
      {
       "metadata": {},
       "output_type": "pyout",
       "prompt_number": 119,
       "text": [
        "fare          891\n",
        "pclass        891\n",
        "age           891\n",
        "sex_female    891\n",
        "embarked_C    891\n",
        "embarked_Q    891\n",
        "embarked_S    891\n",
        "dtype: int64"
       ]
      }
     ],
     "prompt_number": 119
    },
    {
     "cell_type": "markdown",
     "metadata": {},
     "source": [
      "###Fit Model\n",
      "[back to top](#contents)"
     ]
    },
    {
     "cell_type": "code",
     "collapsed": false,
     "input": [
      "%%time\n",
      "\n",
      "from sklearn.cross_validation import train_test_split\n",
      "from sklearn.pipeline import Pipeline\n",
      "from sklearn.preprocessing import Imputer\n",
      "from sklearn.ensemble import RandomForestClassifier\n",
      "\n",
      "X = df_features.values\n",
      "y = df[target].values\n",
      "\n",
      "X_train, X_test, y_train, y_test = train_test_split(X, y, test_size=0.20, random_state=0)\n",
      "\n",
      "imputer = Imputer(strategy='median', missing_values=-1)\n",
      "\n",
      "classifier = GradientBoostingClassifier(n_estimators=100, \n",
      "                                 learning_rate=0.1,\n",
      "                                 subsample=.8, \n",
      "                                 max_features=.5)\n",
      "\n",
      "pipeline = Pipeline([\n",
      "    ('imp', imputer),\n",
      "    ('clf', classifier),\n",
      "])\n",
      "\n",
      "scores = cross_val_score(pipeline, X, y, \n",
      "                         cv=5, \n",
      "                         n_jobs=4,\n",
      "                         scoring='accuracy')\n",
      "\n",
      "print \"CV Score (min): %0.2f%%\" % (100 * scores.min())\n",
      "print \"CV Score (mean): %0.2f%%\" % (100 * scores.mean())\n",
      "print \"CV Score (max): %0.2f%%\" % (100 * scores.max())"
     ],
     "language": "python",
     "metadata": {},
     "outputs": [
      {
       "output_type": "stream",
       "stream": "stdout",
       "text": [
        "CV Score (min): 78.77%\n",
        "CV Score (mean): 82.27%\n",
        "CV Score (max): 85.31%\n",
        "CPU times: user 60.4 ms, sys: 24.3 ms, total: 84.8 ms\n",
        "Wall time: 369 ms\n"
       ]
      }
     ],
     "prompt_number": 120
    },
    {
     "cell_type": "markdown",
     "metadata": {},
     "source": [
      "###Parameter Estimation"
     ]
    },
    {
     "cell_type": "code",
     "collapsed": false,
     "input": [
      "%%time\n",
      "\n",
      "params = {'imp__strategy': ['mean', 'median'],\n",
      "          'clf__max_features': [0.05, 0.1, 0.5],\n",
      "          'clf__max_features': [0.5, 1],\n",
      "          'clf__max_depth': [3, 4, 5]\n",
      "          }\n",
      "\n",
      "gs = GridSearchCV(pipeline, params, cv=5, scoring='roc_auc', n_jobs=4)\n",
      "gs.fit(X_train, y_train)\n",
      "print \"GS Best Score: %0.2f%%\" % (100 * gs.best_score_)\n",
      "print \"GS Best Params:\", gs.best_params_"
     ],
     "language": "python",
     "metadata": {},
     "outputs": [
      {
       "output_type": "stream",
       "stream": "stdout",
       "text": [
        "GS Best Score: 86.15%\n",
        "GS Best Params: {'clf__max_features': 0.5, 'clf__max_depth': 3, 'imp__strategy': 'mean'}\n",
        "CPU times: user 306 ms, sys: 41.9 ms, total: 348 ms\n",
        "Wall time: 3.18 s\n"
       ]
      }
     ],
     "prompt_number": 121
    },
    {
     "cell_type": "markdown",
     "metadata": {},
     "source": [
      "###Model Evaluation\n",
      "[back to top](#contents)"
     ]
    },
    {
     "cell_type": "markdown",
     "metadata": {},
     "source": [
      "####Confusion Matrix\n",
      "[back to top](#contents)"
     ]
    },
    {
     "cell_type": "code",
     "collapsed": false,
     "input": [
      "from sklearn.metrics import confusion_matrix\n",
      "\n",
      "def plot_confusion(cm):\n",
      "    plt.imshow(cm, interpolation='nearest')\n",
      "    plt.title('Confusion matrix')\n",
      "    plt.set_cmap('Blues')\n",
      "    plt.colorbar()\n",
      "    \n",
      "    target_names = ['not survived', 'survived'] #[0,1]\n",
      "\n",
      "    tick_marks = np.arange(len(target_names))\n",
      "    plt.xticks(tick_marks, target_names)\n",
      "    plt.yticks(tick_marks, target_names)\n",
      "    \n",
      "    plt.ylabel('True label')\n",
      "    plt.xlabel('Predicted label')\n",
      "    plt.tight_layout()\n",
      "\n",
      "y_pred = clf.predict(X_test)\n",
      "cm = confusion_matrix(y_test, y_pred)\n",
      "cm_normalized = cm.astype(np.float64) / cm.sum(axis=1)\n",
      "\n",
      "plot_confusion(cm_normalized)\n",
      "print cm_normalized"
     ],
     "language": "python",
     "metadata": {},
     "outputs": [
      {
       "output_type": "stream",
       "stream": "stdout",
       "text": [
        "[[ 0.9364  0.1014]\n",
        " [ 0.2091  0.6667]]\n"
       ]
      },
      {
       "metadata": {},
       "output_type": "display_data",
       "png": "[encoded data removed]",
       "text": [
        "<matplotlib.figure.Figure at 0x109a10450>"
       ]
      }
     ],
     "prompt_number": 124
    },
    {
     "cell_type": "markdown",
     "metadata": {},
     "source": [
      "####Precision-Recall\n",
      "[back to top](#contents)"
     ]
    },
    {
     "cell_type": "code",
     "collapsed": false,
     "input": [
      "from sklearn.metrics import classification_report\n",
      "\n",
      "print(classification_report(y_test, y_pred,\n",
      "                            target_names=['not survived', 'survived']))"
     ],
     "language": "python",
     "metadata": {},
     "outputs": [
      {
       "output_type": "stream",
       "stream": "stdout",
       "text": [
        "              precision    recall  f1-score   support\n",
        "\n",
        "not survived       0.82      0.94      0.87       110\n",
        "    survived       0.87      0.67      0.75        69\n",
        "\n",
        " avg / total       0.84      0.83      0.83       179\n",
        "\n"
       ]
      }
     ],
     "prompt_number": 125
    },
    {
     "cell_type": "markdown",
     "metadata": {},
     "source": [
      "####Prediction Probability\n",
      "[back to top](#contents)"
     ]
    },
    {
     "cell_type": "code",
     "collapsed": false,
     "input": [
      "y_pred_proba = clf.predict_proba(X_test)\n",
      "y_pred_proba[:5]"
     ],
     "language": "python",
     "metadata": {},
     "outputs": [
      {
       "metadata": {},
       "output_type": "pyout",
       "prompt_number": 126,
       "text": [
        "array([[ 0.7729,  0.2271],\n",
        "       [ 0.9513,  0.0487],\n",
        "       [ 0.8827,  0.1173],\n",
        "       [ 0.06  ,  0.94  ],\n",
        "       [ 0.4189,  0.5811]])"
       ]
      }
     ],
     "prompt_number": 126
    },
    {
     "cell_type": "markdown",
     "metadata": {},
     "source": [
      "####ROC\n",
      "[back to top](#contents)"
     ]
    },
    {
     "cell_type": "code",
     "collapsed": false,
     "input": [
      "from sklearn.metrics import roc_curve\n",
      "from sklearn.metrics import auc\n",
      "\n",
      "def plot_roc_curve(y_test, y_pred_proba):\n",
      "    fpr, tpr, thresholds = roc_curve(y_test, y_pred_proba[:, 1])\n",
      "    \n",
      "    roc_auc = auc(fpr, tpr)\n",
      "    plt.plot(fpr, tpr, label='ROC curve (area = %0.3f)' % roc_auc)\n",
      "    plt.plot([0, 1], [0, 1], 'k--')\n",
      "    plt.xlim([0.0, 1.0])\n",
      "    plt.ylim([0.0, 1.0])\n",
      "    plt.xlabel('False Positive Rate or (1 - Specificity)')\n",
      "    plt.ylabel('True Positive Rate or (Sensitivity)')\n",
      "    plt.title('Receiver Operating Characteristic')\n",
      "    plt.legend(loc=\"lower right\")"
     ],
     "language": "python",
     "metadata": {},
     "outputs": [],
     "prompt_number": 127
    },
    {
     "cell_type": "code",
     "collapsed": false,
     "input": [
      "plot_roc_curve(y_test, y_pred_proba)"
     ],
     "language": "python",
     "metadata": {},
     "outputs": [
      {
       "metadata": {},
       "output_type": "display_data",
       "png": "[encoded data removed]",
       "text": [
        "<matplotlib.figure.Figure at 0x10994f290>"
       ]
      }
     ],
     "prompt_number": 128
    },
    {
     "cell_type": "markdown",
     "metadata": {},
     "source": [
      "###Comparison between Classifiers"
     ]
    },
    {
     "cell_type": "code",
     "collapsed": false,
     "input": [
      "from sklearn.linear_model import LogisticRegression\n",
      "from sklearn.ensemble import RandomForestClassifier\n",
      "from sklearn.ensemble import GradientBoostingClassifier\n",
      "from sklearn.cross_validation import cross_val_score\n",
      "\n",
      "cv = 5\n",
      "n_jobs = 4\n",
      "scoring = 'accuracy'"
     ],
     "language": "python",
     "metadata": {},
     "outputs": [
      {
       "output_type": "stream",
       "stream": "stdout",
       "text": [
        "CPU times: user 40 \u00b5s, sys: 16 \u00b5s, total: 56 \u00b5s\n",
        "Wall time: 62.9 \u00b5s\n"
       ]
      }
     ],
     "prompt_number": 132
    },
    {
     "cell_type": "code",
     "collapsed": false,
     "input": [
      "%%time\n",
      "\n",
      "classifier = LogisticRegression(C=1)\n",
      "pipeline = Pipeline([\n",
      "    ('imp', imputer),\n",
      "    ('clf', classifier),\n",
      "])\n",
      "\n",
      "scores = cross_val_score(pipeline, X, y, \n",
      "                         cv=cv, \n",
      "                         n_jobs=n_jobs,\n",
      "                         scoring=scoring)\n",
      "\n",
      "print \"Logistic Regression CV scores:\"\n",
      "print \"CV Score (min): %0.2f%%\" % (100 * scores.min())\n",
      "print \"CV Score (mean): %0.2f%%\" % (100 * scores.mean())\n",
      "print \"CV Score (max): %0.2f%%\" % (100 * scores.max())"
     ],
     "language": "python",
     "metadata": {},
     "outputs": [
      {
       "output_type": "stream",
       "stream": "stdout",
       "text": [
        "Logistic Regression CV scores:\n",
        "CV Score (min): 76.97%\n",
        "CV Score (mean): 78.56%\n",
        "CV Score (max): 81.01%\n",
        "CPU times: user 61.6 ms, sys: 27.2 ms, total: 88.8 ms\n",
        "Wall time: 173 ms\n"
       ]
      }
     ],
     "prompt_number": 133
    },
    {
     "cell_type": "code",
     "collapsed": false,
     "input": [
      "%%time\n",
      "\n",
      "classifier = RandomForestClassifier(n_estimators=100)\n",
      "pipeline = Pipeline([\n",
      "    ('imp', imputer),\n",
      "    ('clf', classifier),\n",
      "])\n",
      "\n",
      "scores = cross_val_score(pipeline, X, y, \n",
      "                         cv=cv, \n",
      "                         n_jobs=n_jobs,\n",
      "                         scoring=scoring)\n",
      "\n",
      "print \"Random Forest CV scores:\"\n",
      "print \"CV Score (min): %0.2f%%\" % (100 * scores.min())\n",
      "print \"CV Score (mean): %0.2f%%\" % (100 * scores.mean())\n",
      "print \"CV Score (max): %0.2f%%\" % (100 * scores.max())"
     ],
     "language": "python",
     "metadata": {},
     "outputs": [
      {
       "output_type": "stream",
       "stream": "stdout",
       "text": [
        "Logistic Regression CV scores:\n",
        "CV Score (min): 78.77%\n",
        "CV Score (mean): 81.04%\n",
        "CV Score (max): 84.83%\n",
        "CPU times: user 66.7 ms, sys: 29.8 ms, total: 96.4 ms\n",
        "Wall time: 481 ms\n"
       ]
      }
     ],
     "prompt_number": 134
    },
    {
     "cell_type": "code",
     "collapsed": false,
     "input": [
      "classifier = GradientBoostingClassifier(n_estimators=100, \n",
      "                                        learning_rate=0.1,\n",
      "                                        subsample=.8, \n",
      "                                        max_features=.5)\n",
      "\n",
      "pipeline = Pipeline([\n",
      "    ('imp', imputer),\n",
      "    ('clf', classifier),\n",
      "])\n",
      "\n",
      "scores = cross_val_score(pipeline, X, y, \n",
      "                         cv=cv, \n",
      "                         n_jobs=n_jobs,\n",
      "                         scoring=scoring)\n",
      "\n",
      "print \"Random Forest CV scores:\"\n",
      "print \"CV Score (min): %0.2f%%\" % (100 * scores.min())\n",
      "print \"CV Score (mean): %0.2f%%\" % (100 * scores.mean())\n",
      "print \"CV Score (max): %0.2f%%\" % (100 * scores.max())"
     ],
     "language": "python",
     "metadata": {},
     "outputs": []
    },
    {
     "cell_type": "markdown",
     "metadata": {},
     "source": [
      "###Feature Selection"
     ]
    },
    {
     "cell_type": "code",
     "collapsed": false,
     "input": [
      "logreg.fit(X, y)\n",
      "rf.fit(X, y)\n",
      "gb.fit(X, y)\n",
      "\n",
      "x = np.arange(len(df_features.columns))\n",
      "plt.bar(x, logreg.coef_.ravel(), color=\"#F08080\")\n",
      "_ = plt.xticks(x + 0.5, df_features.columns)\n",
      "plt.title('Logistic Regression: Coefficients')\n",
      "sns.despine()\n",
      "plt.figure()\n",
      "\n",
      "x = np.arange(len(df_features.columns))\n",
      "plt.bar(x, rf.feature_importances_)\n",
      "_ = plt.xticks(x + 0.5, df_features.columns)\n",
      "plt.title('Random Forest: Feature Importance')\n",
      "sns.despine()\n",
      "plt.figure()\n",
      "\n",
      "x = np.arange(len(df_features.columns))\n",
      "plt.bar(x, gb.feature_importances_)\n",
      "_ = plt.xticks(x + 0.5, df_features.columns, rotation=30)\n",
      "plt.title('Gradient Boosted Trees: Feature Importance')\n",
      "sns.despine()\n",
      "\n",
      "plt.tight_layout();"
     ],
     "language": "python",
     "metadata": {},
     "outputs": [
      {
       "metadata": {},
       "output_type": "display_data",
       "png": "[encoded data removed]",
       "text": [
        "<matplotlib.figure.Figure at 0x109cb1310>"
       ]
      },
      {
       "metadata": {},
       "output_type": "display_data",
       "png": "[encoded data removed]",
       "text": [
        "<matplotlib.figure.Figure at 0x109f488d0>"
       ]
      },
      {
       "metadata": {},
       "output_type": "display_data",
       "png": "[encoded data removed]",
       "text": [
        "<matplotlib.figure.Figure at 0x109c175d0>"
       ]
      }
     ],
     "prompt_number": 72
    },
    {
     "cell_type": "markdown",
     "metadata": {},
     "source": [
      "###Parameter Estimation"
     ]
    },
    {
     "cell_type": "code",
     "collapsed": false,
     "input": [
      "# logreg.get_params()\n",
      "# rf.get_params()\n",
      "gb.get_params()"
     ],
     "language": "python",
     "metadata": {},
     "outputs": [
      {
       "metadata": {},
       "output_type": "pyout",
       "prompt_number": 79,
       "text": [
        "{'init': None,\n",
        " 'learning_rate': 0.1,\n",
        " 'loss': 'deviance',\n",
        " 'max_depth': 3,\n",
        " 'max_features': 0.5,\n",
        " 'max_leaf_nodes': None,\n",
        " 'min_samples_leaf': 1,\n",
        " 'min_samples_split': 2,\n",
        " 'n_estimators': 100,\n",
        " 'random_state': None,\n",
        " 'subsample': 0.8,\n",
        " 'verbose': 0,\n",
        " 'warm_start': False}"
       ]
      }
     ],
     "prompt_number": 79
    },
    {
     "cell_type": "code",
     "collapsed": false,
     "input": [
      "%%time\n",
      "from sklearn.grid_search import GridSearchCV\n",
      "\n",
      "gb = GradientBoostingClassifier(n_estimators=100, subsample=.8)\n",
      "\n",
      "params = {'learning_rate': [0.05, 0.1, 0.5],\n",
      "          'max_features': [0.5, 1],\n",
      "          'max_depth': [3, 4, 5]\n",
      "          }\n",
      "\n",
      "gs = GridSearchCV(gb, params, cv=5, scoring='roc_auc', n_jobs=4)\n",
      "gs.fit(X, y)\n",
      "\n",
      "print \"GS Best Score: %0.2f%%\" % (100 * gs.best_score_)\n",
      "print \"GS Best Params:\", gs.best_params_"
     ],
     "language": "python",
     "metadata": {},
     "outputs": [
      {
       "output_type": "stream",
       "stream": "stdout",
       "text": [
        "GS Best Score: 87.40%\n",
        "GS Best Params: {'max_features': 0.5, 'learning_rate': 0.1, 'max_depth': 3}\n",
        "CPU times: user 354 ms, sys: 40.8 ms, total: 395 ms\n",
        "Wall time: 4.82 s\n"
       ]
      }
     ],
     "prompt_number": 88
    },
    {
     "cell_type": "code",
     "collapsed": false,
     "input": [
      "#Mean validation score (sorted)\n",
      "sorted(gs.grid_scores_, \n",
      "       key=lambda x: x.mean_validation_score, \n",
      "       reverse=True)"
     ],
     "language": "python",
     "metadata": {},
     "outputs": [
      {
       "metadata": {},
       "output_type": "pyout",
       "prompt_number": 91,
       "text": [
        "[mean: 0.87398, std: 0.02670, params: {'max_features': 0.5, 'learning_rate': 0.1, 'max_depth': 3},\n",
        " mean: 0.87131, std: 0.02812, params: {'max_features': 0.5, 'learning_rate': 0.05, 'max_depth': 4},\n",
        " mean: 0.86949, std: 0.02505, params: {'max_features': 0.5, 'learning_rate': 0.05, 'max_depth': 5},\n",
        " mean: 0.86862, std: 0.02569, params: {'max_features': 0.5, 'learning_rate': 0.1, 'max_depth': 4},\n",
        " mean: 0.86837, std: 0.02144, params: {'max_features': 1, 'learning_rate': 0.05, 'max_depth': 4},\n",
        " mean: 0.86773, std: 0.02659, params: {'max_features': 0.5, 'learning_rate': 0.05, 'max_depth': 3},\n",
        " mean: 0.86458, std: 0.02261, params: {'max_features': 1, 'learning_rate': 0.1, 'max_depth': 3},\n",
        " mean: 0.86373, std: 0.02124, params: {'max_features': 1, 'learning_rate': 0.05, 'max_depth': 3},\n",
        " mean: 0.86351, std: 0.02392, params: {'max_features': 1, 'learning_rate': 0.1, 'max_depth': 4},\n",
        " mean: 0.86313, std: 0.02589, params: {'max_features': 0.5, 'learning_rate': 0.1, 'max_depth': 5},\n",
        " mean: 0.86269, std: 0.02604, params: {'max_features': 1, 'learning_rate': 0.5, 'max_depth': 3},\n",
        " mean: 0.86145, std: 0.02770, params: {'max_features': 1, 'learning_rate': 0.05, 'max_depth': 5},\n",
        " mean: 0.86066, std: 0.02395, params: {'max_features': 1, 'learning_rate': 0.1, 'max_depth': 5},\n",
        " mean: 0.85307, std: 0.02694, params: {'max_features': 1, 'learning_rate': 0.5, 'max_depth': 4},\n",
        " mean: 0.85023, std: 0.02466, params: {'max_features': 0.5, 'learning_rate': 0.5, 'max_depth': 4},\n",
        " mean: 0.84776, std: 0.05423, params: {'max_features': 0.5, 'learning_rate': 0.5, 'max_depth': 3},\n",
        " mean: 0.84073, std: 0.01941, params: {'max_features': 0.5, 'learning_rate': 0.5, 'max_depth': 5},\n",
        " mean: 0.83707, std: 0.01517, params: {'max_features': 1, 'learning_rate': 0.5, 'max_depth': 5}]"
       ]
      }
     ],
     "prompt_number": 91
    },
    {
     "cell_type": "code",
     "collapsed": false,
     "input": [],
     "language": "python",
     "metadata": {},
     "outputs": []
    },
    {
     "cell_type": "code",
     "collapsed": false,
     "input": [],
     "language": "python",
     "metadata": {},
     "outputs": [],
     "prompt_number": 19
    },
    {
     "cell_type": "markdown",
     "metadata": {},
     "source": [
      "###References\n",
      "[back to top](#contents)\n"
     ]
    },
    {
     "cell_type": "code",
     "collapsed": false,
     "input": [
      "# from IPython.display import display, HTML\n",
      "# display(HTML(open('../style/custom.css').read()))"
     ],
     "language": "python",
     "metadata": {},
     "outputs": [],
     "prompt_number": 20
    }
   ],
   "metadata": {}
  }
 ]
}