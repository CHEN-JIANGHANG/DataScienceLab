{
 "metadata": {
  "name": "",
  "signature": "sha256:e7c0bed3ba04e30a621764f2fe07f212888e1adfc899d271af2a8a756d24f859"
 },
 "nbformat": 3,
 "nbformat_minor": 0,
 "worksheets": [
  {
   "cells": [
    {
     "cell_type": "markdown",
     "metadata": {},
     "source": [
      "#<span style=\"background-color:#66FF99\">Support Vector Machines<span/>\n",
      "<img src=\"../images/svm.png\" style=\"height:400px\">"
     ]
    },
    {
     "cell_type": "markdown",
     "metadata": {},
     "source": [
      "###Contents\n",
      "- [Background](#background)\n",
      "- [Digits Dataset](#digits-dataset)\n",
      "    - [Preliminaries](#preliminaries)\n",
      "    - [Load Data](#load-data)\n",
      "    - [Train-Test-Split](#train-test-split)\n",
      "    - [Standardized Features](#standardized-features)\n",
      "    - [PCA evaluation](#pca-evaluation)\n",
      "    - [Choose Estimator](#choose-estimator)\n",
      "    - [Cross-validation Iterator](#cross-validation-iterator)\n",
      "    - [Tune Hyperparameters](#tune-hyperparameters)\n",
      "    - [Model Evaluation](#model-evaluation)\n",
      "        - [Learning Curve](#learning-curve)\n",
      "        - [Confusion Matrix](#confusion-matrix)\n",
      "        - [Precision-Recall](#precision-recall)\n",
      "    - [Final Evaluation - Test Set](#final-evaluation-test-set)\n",
      "    - [Train Final Model - Whole Dataset](#train-final-model-whole-dataset)\n",
      "    - [Comparison between Classifiers](#comparison-between-classifiers)\n",
      "- [References](#references)"
     ]
    },
    {
     "cell_type": "markdown",
     "metadata": {},
     "source": [
      "###Background\n",
      "[back to top](#contents)\n",
      "\n",
      "###<span style=\"background-color:#FF99FF)\">Basics of Support Vector Machines</span>\n",
      "\n",
      "* One of the best 'out of box' classifers\n",
      "\n",
      "###<span style=\"background-color:#FF99FF)\">Maximal Margin Classifer</span>\n",
      "\n",
      "**What is a Hyperplane?**\n",
      "- Flat subspace of dimension p - 1 (in 3D, hyperplane is a flat 2D)\n",
      "- Hyperplane equation:\n",
      "\n",
      "$$\\beta_0 + \\beta_1X_1 + \\beta_2X_2 + ... \\beta_pX_p = 0$$\n",
      "\n",
      "**Classification using Separating Hyperplane**\n",
      "- A test observation is assigned a class depending on which side of the hyperplane it is located\n",
      "- If f(x) is positive, assign class 1, if negative, assign class -1\n",
      "- The magnitude of the f(x) shows how far it lies from the hyperplane\n",
      "- Separating hyperplane has the property:\n",
      "\n",
      "$$\\beta_0 + \\beta_1X_1 + \\beta_2X_2 + ... \\beta_pX_p > 0 \\rightarrow y_i = 1$$\n",
      "\n",
      "$$\\beta_0 + \\beta_1X_1 + \\beta_2X_2 + ... \\beta_pX_p < 0 \\rightarrow y_i = -1$$\n",
      "\n",
      "**Maximal Margin Classifer**\n",
      "- Which of the hyperplanes to use? Maximal margin hyperplane (aka. optimal separting hyperplane) where the margin is the largest\n",
      "- Margin is the smallest distance the observation is from the hyperplane\n",
      "- Support vectors: if these points are moved slighly, the maximal margin hyperplane would move\n",
      "\n",
      "**Construction of the Maximal Margin Classifier**\n",
      "- Optimization (using Math)!\n",
      "\n",
      "**Non-separable Case**\n",
      "- Maximal Margin Classifer is a natural way to perform classification, only if a separating hyperplane exists! Sometimes it does not\n",
      "- Develop a hyperplane that ALMOST separates the classes, Soft-Margin\n",
      "- Generalization of the maximal margin classifer to non-separable case is called ``Support Vector Classifer``\n",
      "\n",
      "###<span style=\"background-color:#FF99FF)\">Support Vector Classifers</span>\n",
      "\n",
      "**Overview**\n",
      "- A hyperplane which does not *perfectly* separate the 2 classes, just for *most* of training observations\n",
      "- Support Vector Classifers (Soft margin classifer) does this\n",
      "\n",
      "**Details of Support Vector Classifer**\n",
      "- Uses a nonnegative tuning parameter (C) which determines how much mistake we can tolerate (budget for the amount which can be violated\n",
      "- If C = 0, no tolerance, will be same as maximal margin hyperplane\n",
      "- If C > 0, no more than C observations can be on the wrong side\n",
      "- As C increases, the more tolerant, the bigger the margin\n",
      "- C is used as a tuning parameter and chosen via cross-validation  \n",
      "    \n",
      "###<span style=\"background-color:#FF99FF)\">Support Vector Machines</span>\n",
      "\n",
      "**Classification with Non-linear Decision Boundaries**\n",
      "- Support Vector Classifer useful for linear class boundaries. How about non-linear boundaries?\n",
      "- By using quadratic, cubic, higher-order polynomial\n",
      "- There are unlimited options and could end up with a huge number of features, then will be computationally expensive\n",
      "- SVM allows us to enlarge feature space which leads to efficient computations\n",
      "    \n",
      "* **Support Vector Machine**\n",
      "- Extension of the SVC using **Kernels** -  enlarge our feature space to accomodate a non-linear boundary\n",
      "- Kernel approach - efficient computational approach for enlarging\n",
      "- In representing the inner product and computing its coefficients, all we need are inner products (?)\n",
      "- Generalization of the inner product $K(x_i, x_i)$ where K is some function referred to as a kernel\n",
      "- Kernel is a function which quantifies the similarity of 2 observations!\n",
      "- Linear kernel quantifies the similarity of a pair of observations using Pearson (standard) correlation\n",
      "- Can also use polynomial kernel, radial kernel\n",
      "- How does radial kernel work? If given test observation is far from training observation, K will be very small. So training observations which are far will play no role is predicting the class. Radial kernel has local behavior, only nearby training observations wil have effect\n",
      "- What's the advantage of using Kernel as opposed to enlarging feature space? Computational less expensive!\n",
      "- Radial kernel takes various values of $\\gamma$ (positive constant) : as $\\gamma$ increase, fit becomes more linear\n",
      "\n",
      "###<span style=\"background-color:#FF99FF)\">SVMs with more than 2 classes</span>\n",
      "\n",
      "- One vs One Classification\n",
      "- One vs All Classification"
     ]
    },
    {
     "cell_type": "markdown",
     "metadata": {},
     "source": [
      "#Digits Dataset\n",
      "[back to top](#contents)"
     ]
    },
    {
     "cell_type": "markdown",
     "metadata": {},
     "source": [
      "###Preliminaries\n",
      "[back to top](#contents)"
     ]
    },
    {
     "cell_type": "code",
     "collapsed": false,
     "input": [
      "%matplotlib inline\n",
      "import pandas as pd\n",
      "import numpy as np\n",
      "import matplotlib.pyplot as plt\n",
      "import seaborn as sns\n",
      "sns.set(style=\"white\")\n",
      "plt.rc(\"figure\", figsize=(10, 6))\n",
      "np.set_printoptions(precision=4)\n",
      "\n",
      "import warnings\n",
      "warnings.simplefilter('ignore', DeprecationWarning)"
     ],
     "language": "python",
     "metadata": {},
     "outputs": [],
     "prompt_number": 1
    },
    {
     "cell_type": "markdown",
     "metadata": {},
     "source": [
      "###Load Data\n",
      "[back to top](#contents)"
     ]
    },
    {
     "cell_type": "code",
     "collapsed": false,
     "input": [
      "from sklearn.datasets import load_digits\n",
      "digits = load_digits()\n",
      "\n",
      "# digits.head(5)\n",
      "digits.keys()"
     ],
     "language": "python",
     "metadata": {},
     "outputs": [
      {
       "metadata": {},
       "output_type": "pyout",
       "prompt_number": 2,
       "text": [
        "['images', 'data', 'target_names', 'DESCR', 'target']"
       ]
      }
     ],
     "prompt_number": 2
    },
    {
     "cell_type": "code",
     "collapsed": false,
     "input": [
      "df = digits\n",
      "\n",
      "X = df.data\n",
      "y = df.target\n",
      "n_samples, n_features = X.shape\n",
      "print(\"No. of samples = %d\" % n_samples)\n",
      "print(\"No. of features = %d\" % n_features)"
     ],
     "language": "python",
     "metadata": {},
     "outputs": [
      {
       "output_type": "stream",
       "stream": "stdout",
       "text": [
        "No. of samples = 1797\n",
        "No. of features = 64\n"
       ]
      }
     ],
     "prompt_number": 3
    },
    {
     "cell_type": "markdown",
     "metadata": {},
     "source": [
      "###Train-Test-Split\n",
      "[back to top](#contents)"
     ]
    },
    {
     "cell_type": "code",
     "collapsed": false,
     "input": [
      "from sklearn.cross_validation import train_test_split\n",
      "\n",
      "X_train, X_test, y_train, y_test = train_test_split(X, y, test_size=0.2, random_state=0)\n",
      "\n",
      "print(\"Train data shape: %r, train target shape: %r\" % (X_train.shape, y_train.shape))\n",
      "print(\"Test data shape: %r, test target shape: %r\" % (X_test.shape, y_test.shape))"
     ],
     "language": "python",
     "metadata": {},
     "outputs": [
      {
       "output_type": "stream",
       "stream": "stdout",
       "text": [
        "Train data shape: (1437, 64), train target shape: (1437,)\n",
        "Test data shape: (360, 64), test target shape: (360,)\n"
       ]
      }
     ],
     "prompt_number": 4
    },
    {
     "cell_type": "markdown",
     "metadata": {},
     "source": [
      "###Standardized Features\n",
      "[back to top](#contents)"
     ]
    },
    {
     "cell_type": "code",
     "collapsed": false,
     "input": [
      "# from sklearn.preprocessing import StandardScaler\n",
      "\n",
      "# scaler = StandardScaler()\n",
      "# X_train_scaled = scaler.fit_transform(X_train)\n",
      "# X_test_scaled = scaler.transform(X_test)"
     ],
     "language": "python",
     "metadata": {},
     "outputs": [],
     "prompt_number": 5
    },
    {
     "cell_type": "markdown",
     "metadata": {},
     "source": [
      "###PCA evaluation\n",
      "[back to top](#contents)"
     ]
    },
    {
     "cell_type": "code",
     "collapsed": false,
     "input": [
      "from sklearn.decomposition import PCA\n",
      "\n",
      "pca = PCA()\n",
      "X_pca = pca.fit(X)\n",
      "\n",
      "plt.title(\"Cumulated Explained Variance\")\n",
      "plt.ylabel(\"Percentage of explained variance\")\n",
      "plt.xlabel(\"PCA Components\")\n",
      "plt.plot(np.cumsum(X_pca.explained_variance_ratio_));"
     ],
     "language": "python",
     "metadata": {},
     "outputs": [
      {
       "metadata": {},
       "output_type": "display_data",
       "png": "[encoded data removed]",
       "text": [
        "<matplotlib.figure.Figure at 0x10967eed0>"
       ]
      }
     ],
     "prompt_number": 6
    },
    {
     "cell_type": "markdown",
     "metadata": {},
     "source": [
      "###Choose Estimator\n",
      "[back to top](#contents)"
     ]
    },
    {
     "cell_type": "code",
     "collapsed": false,
     "input": [
      "%time\n",
      "\n",
      "from sklearn.pipeline import Pipeline\n",
      "from sklearn.preprocessing import Imputer\n",
      "from sklearn.grid_search import GridSearchCV\n",
      "\n",
      "from sklearn.svm import SVC\n",
      "\n",
      "imputer = Imputer(strategy='mean', missing_values=-1)\n",
      "\n",
      "svc = SVC(kernel=\"rbf\",\n",
      "          C=10, \n",
      "          gamma=0.005)\n",
      "\n",
      "pipeline = Pipeline([\n",
      "    ('imp', imputer),\n",
      "    ('clf', svc),\n",
      "])"
     ],
     "language": "python",
     "metadata": {},
     "outputs": [
      {
       "output_type": "stream",
       "stream": "stdout",
       "text": [
        "CPU times: user 5 \u00b5s, sys: 6 \u00b5s, total: 11 \u00b5s\n",
        "Wall time: 12.9 \u00b5s\n"
       ]
      }
     ],
     "prompt_number": 7
    },
    {
     "cell_type": "markdown",
     "metadata": {},
     "source": [
      "###Cross-validation Iterator\n",
      "[back to top](#contents)"
     ]
    },
    {
     "cell_type": "code",
     "collapsed": false,
     "input": [
      "%%time\n",
      "\n",
      "from sklearn.cross_validation import ShuffleSplit\n",
      "from sklearn.cross_validation import cross_val_score\n",
      "\n",
      "n_subsamples = 500\n",
      "X_small_train, y_small_train = X_train[:n_subsamples], y_train[:n_subsamples]\n",
      "\n",
      "cv = ShuffleSplit(n_samples, \n",
      "                  n_iter=50,\n",
      "                  test_size=0.2,\n",
      "                  random_state=0)\n",
      "\n",
      "scores = cross_val_score(pipeline, X, y, \n",
      "                         cv=cv, \n",
      "                         n_jobs=2,\n",
      "                         scoring='accuracy')\n",
      "\n",
      "print \"CV Score (min): %0.2f%%\" % (100 * scores.min())\n",
      "print \"CV Score (mean): %0.2f%%\" % (100 * scores.mean())\n",
      "print \"CV Score (max): %0.2f%%\" % (100 * scores.max())"
     ],
     "language": "python",
     "metadata": {},
     "outputs": [
      {
       "output_type": "stream",
       "stream": "stdout",
       "text": [
        "CV Score (min): 95.00%\n",
        "CV Score (mean): 96.94%\n",
        "CV Score (max): 98.61%\n",
        "CPU times: user 359 ms, sys: 128 ms, total: 487 ms\n",
        "Wall time: 13.7 s\n"
       ]
      }
     ],
     "prompt_number": 8
    },
    {
     "cell_type": "code",
     "collapsed": false,
     "input": [
      "from scipy.stats.kde import gaussian_kde\n",
      "_ = plt.hist(scores, range=(0, 1), bins=30, alpha=0.2)\n",
      "x = np.linspace(0, 1, 1000)\n",
      "smoothed = gaussian_kde(scores).evaluate(x)\n",
      "plt.plot(x, smoothed, label=\"Smoothed distribution\")\n",
      "top = np.max(smoothed)\n",
      "plt.vlines([np.mean(scores)], 0, top, color='r', label=\"Mean test score\")\n",
      "plt.vlines([np.median(scores)], 0, top, color='b', linestyles='dashed',\n",
      "           label=\"Median test score\")\n",
      "plt.legend(loc='best')\n",
      "_ = plt.title(\"Cross Validated Test scores distribution\")"
     ],
     "language": "python",
     "metadata": {},
     "outputs": [
      {
       "metadata": {},
       "output_type": "display_data",
       "png": "[encoded data removed]",
       "text": [
        "<matplotlib.figure.Figure at 0x109634390>"
       ]
      }
     ],
     "prompt_number": 9
    },
    {
     "cell_type": "markdown",
     "metadata": {},
     "source": [
      "###Tune Hyperparameters\n",
      "[back to top](#contents)"
     ]
    },
    {
     "cell_type": "code",
     "collapsed": false,
     "input": [
      "svc.get_params()"
     ],
     "language": "python",
     "metadata": {},
     "outputs": [
      {
       "metadata": {},
       "output_type": "pyout",
       "prompt_number": 10,
       "text": [
        "{'C': 10,\n",
        " 'cache_size': 200,\n",
        " 'class_weight': None,\n",
        " 'coef0': 0.0,\n",
        " 'degree': 3,\n",
        " 'gamma': 0.005,\n",
        " 'kernel': 'rbf',\n",
        " 'max_iter': -1,\n",
        " 'probability': False,\n",
        " 'random_state': None,\n",
        " 'shrinking': True,\n",
        " 'tol': 0.001,\n",
        " 'verbose': False}"
       ]
      }
     ],
     "prompt_number": 10
    },
    {
     "cell_type": "code",
     "collapsed": false,
     "input": [
      "%%time\n",
      "\n",
      "params = {'imp__strategy': ['mean', 'median'],\n",
      "          'clf__C': np.logspace(-1, 2, 4),\n",
      "          'clf__gamma': np.logspace(-4, 0, 5)}\n",
      "\n",
      "gs = GridSearchCV(pipeline, params, cv=3, n_jobs=-1)\n",
      "gs.fit(X_small_train, y_small_train)\n",
      "\n",
      "print \"GS Best Score: %0.2f%%\" % (100 * gs.best_score_)\n",
      "print \"GS Best Params:\", gs.best_params_"
     ],
     "language": "python",
     "metadata": {},
     "outputs": [
      {
       "output_type": "stream",
       "stream": "stdout",
       "text": [
        "GS Best Score: 97.40%\n",
        "GS Best Params: {'clf__gamma': 0.001, 'clf__C': 10.0, 'imp__strategy': 'mean'}\n",
        "CPU times: user 444 ms, sys: 74 ms, total: 518 ms\n",
        "Wall time: 2.02 s\n"
       ]
      }
     ],
     "prompt_number": 11
    },
    {
     "cell_type": "code",
     "collapsed": false,
     "input": [
      "# sorted(gs.grid_scores_, \n",
      "#        key=lambda x: x.mean_validation_score, \n",
      "#        reverse=True)"
     ],
     "language": "python",
     "metadata": {},
     "outputs": [],
     "prompt_number": 12
    },
    {
     "cell_type": "markdown",
     "metadata": {},
     "source": [
      "###Model Evaluation\n",
      "[back to top](#contents)"
     ]
    },
    {
     "cell_type": "markdown",
     "metadata": {},
     "source": [
      "####Learning Curve\n",
      "[back to top](#contents)"
     ]
    },
    {
     "cell_type": "code",
     "collapsed": false,
     "input": [
      "def LearningCurve(model, title, X, y):\n",
      "    plt.figure()\n",
      "    plt.xlabel(\"Training examples\")\n",
      "    plt.ylabel(\"Score\")\n",
      "    train_sizes, train_scores, test_scores = learning_curve(model, X, y)\n",
      "    train_scores_mean = np.mean(train_scores, axis=1)\n",
      "    train_scores_std = np.std(train_scores, axis=1)\n",
      "    test_scores_mean = np.mean(test_scores, axis=1)\n",
      "    test_scores_std = np.std(test_scores, axis=1)\n",
      "    plt.grid()\n",
      "    plt.fill_between(train_sizes, train_scores_mean - train_scores_std, \n",
      "                     train_scores_mean + train_scores_std, alpha=0.1,color=\"r\")\n",
      "    plt.fill_between(train_sizes, test_scores_mean - test_scores_std,\n",
      "                     test_scores_mean + test_scores_std, alpha=0.1, color=\"g\")\n",
      "    plt.plot(train_sizes, train_scores_mean, 'o-', color=\"r\",label=\"Training score\")\n",
      "    plt.plot(train_sizes, test_scores_mean, 'o-', color=\"g\",label=\"Cross-validation score\")\n",
      "    plt.title(title)\n",
      "    plt.legend(loc=\"best\")\n",
      "    return plt"
     ],
     "language": "python",
     "metadata": {},
     "outputs": [],
     "prompt_number": 13
    },
    {
     "cell_type": "code",
     "collapsed": false,
     "input": [
      "from sklearn.learning_curve import learning_curve\n",
      "\n",
      "C = gs.best_params_['clf__C']\n",
      "gamma = gs.best_params_['clf__gamma']\n",
      "\n",
      "estimator = SVC(kernel=\"rbf\",\n",
      "                C=C, \n",
      "                gamma=gamma)\n",
      "\n",
      "title = \"Learning Curves (SVM, RBF kernel, $\\gamma=%.4f$, C=%.2f)\" % (gamma, C)\n",
      "\n",
      "LearningCurve(estimator, title, X_train, y_train);"
     ],
     "language": "python",
     "metadata": {},
     "outputs": [
      {
       "metadata": {},
       "output_type": "display_data",
       "png": "[encoded data removed]",
       "text": [
        "<matplotlib.figure.Figure at 0x109638bd0>"
       ]
      }
     ],
     "prompt_number": 14
    },
    {
     "cell_type": "markdown",
     "metadata": {},
     "source": [
      "####Confusion Matrix\n",
      "[back to top](#contents)"
     ]
    },
    {
     "cell_type": "code",
     "collapsed": false,
     "input": [
      "from sklearn.metrics import confusion_matrix\n",
      "\n",
      "def plot_confusion(cm):\n",
      "    plt.imshow(cm, interpolation='nearest')\n",
      "    plt.title('Confusion matrix')\n",
      "    plt.set_cmap('Blues')\n",
      "    plt.colorbar()\n",
      "    plt.ylabel('True label')\n",
      "    plt.xlabel('Predicted label')\n",
      "    plt.tight_layout()\n",
      "\n",
      "y_pred = gs.predict(X_test)\n",
      "cm = confusion_matrix(y_test, y_pred)\n",
      "cm_normalized = cm.astype(np.float64) / cm.sum(axis=1)\n",
      "\n",
      "plot_confusion(cm_normalized)\n",
      "# print cm_normalized"
     ],
     "language": "python",
     "metadata": {},
     "outputs": [
      {
       "metadata": {},
       "output_type": "display_data",
       "png": "[encoded data removed]",
       "text": [
        "<matplotlib.figure.Figure at 0x10963e750>"
       ]
      }
     ],
     "prompt_number": 15
    },
    {
     "cell_type": "markdown",
     "metadata": {},
     "source": [
      "####Precision-Recall\n",
      "[back to top](#contents)"
     ]
    },
    {
     "cell_type": "code",
     "collapsed": false,
     "input": [
      "from sklearn.metrics import classification_report\n",
      "\n",
      "print(classification_report(y_test, y_pred))"
     ],
     "language": "python",
     "metadata": {},
     "outputs": [
      {
       "output_type": "stream",
       "stream": "stdout",
       "text": [
        "             precision    recall  f1-score   support\n",
        "\n",
        "          0       1.00      1.00      1.00        27\n",
        "          1       0.97      0.97      0.97        35\n",
        "          2       1.00      1.00      1.00        36\n",
        "          3       1.00      1.00      1.00        29\n",
        "          4       1.00      0.97      0.98        30\n",
        "          5       0.97      0.97      0.97        40\n",
        "          6       1.00      0.98      0.99        44\n",
        "          7       0.97      1.00      0.99        39\n",
        "          8       0.97      1.00      0.99        39\n",
        "          9       0.98      0.98      0.98        41\n",
        "\n",
        "avg / total       0.99      0.99      0.99       360\n",
        "\n"
       ]
      }
     ],
     "prompt_number": 16
    },
    {
     "cell_type": "markdown",
     "metadata": {},
     "source": [
      "###Final Evaluation - Test Set\n",
      "[back to top](#contents)"
     ]
    },
    {
     "cell_type": "code",
     "collapsed": false,
     "input": [
      "print \"Final Score on Test set: %0.2f%%\" % (100 * gs.score(X_test, y_test))"
     ],
     "language": "python",
     "metadata": {},
     "outputs": [
      {
       "output_type": "stream",
       "stream": "stdout",
       "text": [
        "Final Score on Test set: 98.61%\n"
       ]
      }
     ],
     "prompt_number": 17
    },
    {
     "cell_type": "markdown",
     "metadata": {},
     "source": [
      "###Train Final Model - Whole Dataset\n",
      "[back to top](#contents)"
     ]
    },
    {
     "cell_type": "code",
     "collapsed": false,
     "input": [
      "%%time\n",
      "gs.fit(X, y)"
     ],
     "language": "python",
     "metadata": {},
     "outputs": [
      {
       "output_type": "stream",
       "stream": "stdout",
       "text": [
        "CPU times: user 851 ms, sys: 172 ms, total: 1.02 s\n",
        "Wall time: 13.9 s\n"
       ]
      },
      {
       "metadata": {},
       "output_type": "pyout",
       "prompt_number": 18,
       "text": [
        "GridSearchCV(cv=3,\n",
        "       estimator=Pipeline(steps=[('imp', Imputer(axis=0, copy=True, missing_values=-1, strategy='mean', verbose=0)), ('clf', SVC(C=10, cache_size=200, class_weight=None, coef0=0.0, degree=3, gamma=0.005,\n",
        "  kernel='rbf', max_iter=-1, probability=False, random_state=None,\n",
        "  shrinking=True, tol=0.001, verbose=False))]),\n",
        "       fit_params={}, iid=True, loss_func=None, n_jobs=-1,\n",
        "       param_grid={'clf__gamma': array([  1.00000e-04,   1.00000e-03,   1.00000e-02,   1.00000e-01,\n",
        "         1.00000e+00]), 'clf__C': array([   0.1,    1. ,   10. ,  100. ]), 'imp__strategy': ['mean', 'median']},\n",
        "       pre_dispatch='2*n_jobs', refit=True, score_func=None, scoring=None,\n",
        "       verbose=0)"
       ]
      }
     ],
     "prompt_number": 18
    },
    {
     "cell_type": "markdown",
     "metadata": {},
     "source": [
      "###Comparison between Classifiers\n",
      "[back to top](#contents)"
     ]
    },
    {
     "cell_type": "code",
     "collapsed": false,
     "input": [
      "from sklearn.linear_model import LogisticRegression\n",
      "from sklearn.ensemble import RandomForestClassifier"
     ],
     "language": "python",
     "metadata": {},
     "outputs": [],
     "prompt_number": 19
    },
    {
     "cell_type": "code",
     "collapsed": false,
     "input": [
      "%%time\n",
      "\n",
      "rf = RandomForestClassifier(n_estimators=100)\n",
      "pipeline = Pipeline([\n",
      "    ('imp', imputer),\n",
      "    ('clf', rf)\n",
      "])\n",
      "\n",
      "scores = cross_val_score(pipeline, X, y, \n",
      "                         cv=cv, \n",
      "                         n_jobs=2,\n",
      "                         scoring='accuracy')\n",
      "\n",
      "print \"Random Forest CV scores:\"\n",
      "print \"CV Score (min): %0.2f%%\" % (100 * scores.min())\n",
      "print \"CV Score (mean): %0.2f%%\" % (100 * scores.mean())\n",
      "print \"CV Score (max): %0.2f%%\" % (100 * scores.max())"
     ],
     "language": "python",
     "metadata": {},
     "outputs": [
      {
       "output_type": "stream",
       "stream": "stdout",
       "text": [
        "Random Forest CV scores:\n",
        "CV Score (min): 96.39%\n",
        "CV Score (mean): 97.63%\n",
        "CV Score (max): 99.17%\n",
        "CPU times: user 365 ms, sys: 171 ms, total: 536 ms\n",
        "Wall time: 8.22 s\n"
       ]
      }
     ],
     "prompt_number": 20
    },
    {
     "cell_type": "markdown",
     "metadata": {},
     "source": [
      "###References\n",
      "[back to top](#contents)\n"
     ]
    },
    {
     "cell_type": "code",
     "collapsed": false,
     "input": [
      "from IPython.display import display, HTML\n",
      "display(HTML(open('../style/custom.css').read()))"
     ],
     "language": "python",
     "metadata": {},
     "outputs": [
      {
       "html": [
        "<style>\n",
        "    @font-face {\n",
        "        font-family: \"Computer Modern\";\n",
        "        src: url('http://9dbb143991406a7c655e-aa5fcb0a5a4ec34cff238a2d56ca4144.r56.cf5.rackcdn.com/cmunss.otf');\n",
        "    }\n",
        "    @font-face {\n",
        "        font-family: \"Computer Modern\";\n",
        "        font-weight: bold;\n",
        "        src: url('http://9dbb143991406a7c655e-aa5fcb0a5a4ec34cff238a2d56ca4144.r56.cf5.rackcdn.com/cmunsx.otf');\n",
        "    }\n",
        "    @font-face {\n",
        "        font-family: \"Computer Modern\";\n",
        "        font-style: oblique;\n",
        "        src: url('http://9dbb143991406a7c655e-aa5fcb0a5a4ec34cff238a2d56ca4144.r56.cf5.rackcdn.com/cmunsi.otf');\n",
        "    }\n",
        "    @font-face {\n",
        "        font-family: \"Computer Modern\";\n",
        "        font-weight: bold;\n",
        "        font-style: oblique;\n",
        "        src: url('http://9dbb143991406a7c655e-aa5fcb0a5a4ec34cff238a2d56ca4144.r56.cf5.rackcdn.com/cmunso.otf');\n",
        "    }\n",
        "    div.cell{\n",
        "        width:800px;\n",
        "        margin-left:16% !important;\n",
        "        margin-right:auto;\n",
        "    }\n",
        "    h1 {\n",
        "        font-family: Helvetica, serif;\n",
        "    }\n",
        "    h4{\n",
        "        margin-top:12px;\n",
        "        margin-bottom: 3px;\n",
        "       }\n",
        "    div.text_cell_render{\n",
        "        font-family: Computer Modern, \"Helvetica Neue\", Arial, Helvetica, Geneva, sans-serif;\n",
        "        line-height: 145%;\n",
        "        font-size: 130%;\n",
        "        width:800px;\n",
        "        margin-left:auto;\n",
        "        margin-right:auto;\n",
        "    }\n",
        "    .CodeMirror{\n",
        "            font-family: \"Source Code Pro\", source-code-pro,Consolas, monospace;\n",
        "    }\n",
        "    .prompt{\n",
        "        display: None;\n",
        "    }\n",
        "    .text_cell_render h5 {\n",
        "        font-weight: 300;\n",
        "        font-size: 22pt;\n",
        "        color: #4057A1;\n",
        "        font-style: italic;\n",
        "        margin-bottom: .5em;\n",
        "        margin-top: 0.5em;\n",
        "        display: block;\n",
        "    }\n",
        "    \n",
        "    .warning{\n",
        "        color: rgb( 240, 20, 20 )\n",
        "        }  \n",
        "</style>\n",
        "<script>\n",
        "    MathJax.Hub.Config({\n",
        "                        TeX: {\n",
        "                           extensions: [\"AMSmath.js\"]\n",
        "                           },\n",
        "                tex2jax: {\n",
        "                    inlineMath: [ ['$','$'], [\"\\\\(\",\"\\\\)\"] ],\n",
        "                    displayMath: [ ['$$','$$'], [\"\\\\[\",\"\\\\]\"] ]\n",
        "                },\n",
        "                displayAlign: 'center', // Change this to 'center' to center equations.\n",
        "                \"HTML-CSS\": {\n",
        "                    styles: {'.MathJax_Display': {\"margin\": 4}}\n",
        "                }\n",
        "        });\n",
        "</script>\n"
       ],
       "metadata": {},
       "output_type": "display_data",
       "text": [
        "<IPython.core.display.HTML at 0x10ac6f9d0>"
       ]
      }
     ],
     "prompt_number": 21
    }
   ],
   "metadata": {}
  }
 ]
}