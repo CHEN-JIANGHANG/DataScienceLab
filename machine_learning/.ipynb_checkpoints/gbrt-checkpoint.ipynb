{
 "metadata": {
  "name": "",
  "signature": "sha256:6b5f64175b06f7e6361c577d6010abad74b66a0722dad412a24a3b8e32e8e0c2"
 },
 "nbformat": 3,
 "nbformat_minor": 0,
 "worksheets": [
  {
   "cells": [
    {
     "cell_type": "markdown",
     "metadata": {},
     "source": [
      "#<span style=\"background-color:#66FF99\">Gradient Boosted Regression Trees<span/>\n",
      "<img src=\"../images/gbrt.png\">"
     ]
    },
    {
     "cell_type": "markdown",
     "metadata": {},
     "source": [
      "###Contents\n",
      "- [Background](#background)\n",
      "- [Housing Dataset](#housing-dataset)\n",
      "    - [Preliminaries](#preliminaries)\n",
      "    - [Load Data](#load-data)\n",
      "    - [Train-Test-Split](#train-test-split)\n",
      "    - [Cross-validation Iterator](#cross-validation-iterator)\n",
      "    - [Tune Hyperparameters](#tune-hyperparameters)\n",
      "    - [Refit Model - Best Params](#refit-model-best-params)\n",
      "    - [Model Evaluation](#model-evaluation)\n",
      "        - [Learning Curve](#learning-curve)\n",
      "        - [Validation Curve](#validation-curve)\n",
      "    - [Final Evaluation - Test Set](#final-evaluation-test-set)\n",
      "    - [Features Importance](#features-importance)\n",
      "    - [Partial Dependence](#partial-dependence)\n",
      "- [References](#references)"
     ]
    },
    {
     "cell_type": "markdown",
     "metadata": {},
     "source": [
      "###Background\n",
      "[back to top](#contents)\n",
      "\n",
      "###<span style=\"background-color:#FF99FF)\">Gradient Boosting Regression Trees</span>\n",
      "\n"
     ]
    },
    {
     "cell_type": "markdown",
     "metadata": {},
     "source": [
      "#Housing Dataset\n",
      "[back to top](#contents)"
     ]
    },
    {
     "cell_type": "markdown",
     "metadata": {},
     "source": [
      "###Preliminaries\n",
      "[back to top](#contents)"
     ]
    },
    {
     "cell_type": "code",
     "collapsed": false,
     "input": [
      "%matplotlib inline\n",
      "import pandas as pd\n",
      "import numpy as np\n",
      "import matplotlib.pyplot as plt\n",
      "import seaborn as sns\n",
      "sns.set(style=\"white\")\n",
      "plt.rc(\"figure\", figsize=(10, 6))\n",
      "np.set_printoptions(precision=4)\n",
      "\n",
      "colors = [\"#348ABD\", \"#A60628\", \"#7A68A6\", \"#467821\", \"#D55E00\",\n",
      "          \"#CC79A7\", \"#56B4E9\", \"#009E73\", \"#F0E442\", \"#0072B2\"]\n",
      "\n",
      "import warnings\n",
      "warnings.simplefilter('ignore', DeprecationWarning)"
     ],
     "language": "python",
     "metadata": {},
     "outputs": [],
     "prompt_number": 3
    },
    {
     "cell_type": "markdown",
     "metadata": {},
     "source": [
      "###Load Data\n",
      "[back to top](#contents)"
     ]
    },
    {
     "cell_type": "code",
     "collapsed": false,
     "input": [
      "boston = pd.read_csv('../data/boston.csv')\n",
      "boston.head(2)\n",
      "# boston.count()"
     ],
     "language": "python",
     "metadata": {},
     "outputs": [
      {
       "html": [
        "<div style=\"max-height:1000px;max-width:1500px;overflow:auto;\">\n",
        "<table border=\"1\" class=\"dataframe\">\n",
        "  <thead>\n",
        "    <tr style=\"text-align: right;\">\n",
        "      <th></th>\n",
        "      <th>crim</th>\n",
        "      <th>zn</th>\n",
        "      <th>indus</th>\n",
        "      <th>chas</th>\n",
        "      <th>nox</th>\n",
        "      <th>rm</th>\n",
        "      <th>age</th>\n",
        "      <th>dis</th>\n",
        "      <th>rad</th>\n",
        "      <th>tax</th>\n",
        "      <th>ptratio</th>\n",
        "      <th>black</th>\n",
        "      <th>lstat</th>\n",
        "      <th>medv</th>\n",
        "    </tr>\n",
        "  </thead>\n",
        "  <tbody>\n",
        "    <tr>\n",
        "      <th>0</th>\n",
        "      <td> 0.00632</td>\n",
        "      <td> 18</td>\n",
        "      <td> 2.31</td>\n",
        "      <td> 0</td>\n",
        "      <td> 0.538</td>\n",
        "      <td> 6.575</td>\n",
        "      <td> 65.2</td>\n",
        "      <td> 4.0900</td>\n",
        "      <td> 1</td>\n",
        "      <td> 296</td>\n",
        "      <td> 15.3</td>\n",
        "      <td> 396.9</td>\n",
        "      <td> 4.98</td>\n",
        "      <td> 24.0</td>\n",
        "    </tr>\n",
        "    <tr>\n",
        "      <th>1</th>\n",
        "      <td> 0.02731</td>\n",
        "      <td>  0</td>\n",
        "      <td> 7.07</td>\n",
        "      <td> 0</td>\n",
        "      <td> 0.469</td>\n",
        "      <td> 6.421</td>\n",
        "      <td> 78.9</td>\n",
        "      <td> 4.9671</td>\n",
        "      <td> 2</td>\n",
        "      <td> 242</td>\n",
        "      <td> 17.8</td>\n",
        "      <td> 396.9</td>\n",
        "      <td> 9.14</td>\n",
        "      <td> 21.6</td>\n",
        "    </tr>\n",
        "  </tbody>\n",
        "</table>\n",
        "</div>"
       ],
       "metadata": {},
       "output_type": "pyout",
       "prompt_number": 4,
       "text": [
        "      crim  zn  indus  chas    nox     rm   age     dis  rad  tax  ptratio  \\\n",
        "0  0.00632  18   2.31     0  0.538  6.575  65.2  4.0900    1  296     15.3   \n",
        "1  0.02731   0   7.07     0  0.469  6.421  78.9  4.9671    2  242     17.8   \n",
        "\n",
        "   black  lstat  medv  \n",
        "0  396.9   4.98  24.0  \n",
        "1  396.9   9.14  21.6  "
       ]
      }
     ],
     "prompt_number": 4
    },
    {
     "cell_type": "code",
     "collapsed": false,
     "input": [
      "df = boston\n",
      "features = ['lstat', 'crim', 'rm']\n",
      "target = 'medv'\n",
      "\n",
      "df_features = df[features]\n",
      "df_features = df_features.fillna(-1) #to indicate -1 is missing value\n",
      "\n",
      "# df_features.head()\n",
      "df_features.count()"
     ],
     "language": "python",
     "metadata": {},
     "outputs": [
      {
       "metadata": {},
       "output_type": "pyout",
       "prompt_number": 25,
       "text": [
        "lstat    506\n",
        "crim     506\n",
        "rm       506\n",
        "dtype: int64"
       ]
      }
     ],
     "prompt_number": 25
    },
    {
     "cell_type": "code",
     "collapsed": false,
     "input": [
      "X = df_features.values\n",
      "y = df[target].values\n",
      "n_samples, n_features = X.shape\n",
      "print(\"No. of samples = %d\" % n_samples)\n",
      "print(\"No. of features = %d\" % n_features)"
     ],
     "language": "python",
     "metadata": {},
     "outputs": [
      {
       "output_type": "stream",
       "stream": "stdout",
       "text": [
        "No. of samples = 506\n",
        "No. of features = 3\n"
       ]
      }
     ],
     "prompt_number": 26
    },
    {
     "cell_type": "code",
     "collapsed": false,
     "input": [
      "df.hist(column=features, grid=False, color=colors[6])\n",
      "sns.despine();"
     ],
     "language": "python",
     "metadata": {},
     "outputs": [
      {
       "metadata": {},
       "output_type": "display_data",
       "png": "[encoded data removed]",
       "text": [
        "<matplotlib.figure.Figure at 0x10fe7e610>"
       ]
      }
     ],
     "prompt_number": 115
    },
    {
     "cell_type": "markdown",
     "metadata": {},
     "source": [
      "###Train-Test-Split\n",
      "[back to top](#contents)"
     ]
    },
    {
     "cell_type": "code",
     "collapsed": false,
     "input": [
      "from sklearn.cross_validation import train_test_split\n",
      "\n",
      "X_train, X_test, y_train, y_test = train_test_split(X, y, test_size=0.2, random_state=0)\n",
      "\n",
      "print \"Train data shape: %r, Train target shape: %r\" % (X_train.shape, y_train.shape)\n",
      "print \"Test data shape: %r, Test target shape: %r\" % (X_test.shape, y_test.shape)"
     ],
     "language": "python",
     "metadata": {},
     "outputs": [
      {
       "output_type": "stream",
       "stream": "stdout",
       "text": [
        "Train data shape: (404, 3), Train target shape: (404,)\n",
        "Test data shape: (102, 3), Test target shape: (102,)\n"
       ]
      }
     ],
     "prompt_number": 39
    },
    {
     "cell_type": "code",
     "collapsed": false,
     "input": [
      "%%time\n",
      "\n",
      "from sklearn.ensemble import GradientBoostingRegressor\n",
      "\n",
      "clf = GradientBoostingRegressor(n_estimators=3000).fit(X_train, y_train)\n",
      "\n",
      "training_accuracy = clf.score(X_train, y_train)\n",
      "test_accuracy = clf.score(X_test, y_test)\n",
      "\n",
      "print \"Training Score: %0.2f%%\" % (100 * training_accuracy)\n",
      "print \"Test Score: %0.2f%%\" % (100 * test_accuracy)"
     ],
     "language": "python",
     "metadata": {},
     "outputs": [
      {
       "output_type": "stream",
       "stream": "stdout",
       "text": [
        "Training Score: 100.00%\n",
        "Test Score: 73.45%\n",
        "CPU times: user 1.54 s, sys: 12.3 ms, total: 1.55 s\n",
        "Wall time: 1.96 s\n"
       ]
      }
     ],
     "prompt_number": 40
    },
    {
     "cell_type": "markdown",
     "metadata": {},
     "source": [
      "###Cross-validation Iterator\n",
      "[back to top](#contents)"
     ]
    },
    {
     "cell_type": "code",
     "collapsed": false,
     "input": [
      "%%time\n",
      "\n",
      "from sklearn.cross_validation import cross_val_score\n",
      "\n",
      "scores = cross_val_score(clf, \n",
      "                         X, y, \n",
      "                         cv=3)\n",
      "\n",
      "print \"CV Score (min): %0.2f%%\" % (100 * scores.min())\n",
      "print \"CV Score (mean): %0.2f%%\" % (100 * scores.mean())\n",
      "print \"CV Score (max): %0.2f%%\" % (100 * scores.max())"
     ],
     "language": "python",
     "metadata": {},
     "outputs": [
      {
       "output_type": "stream",
       "stream": "stdout",
       "text": [
        "CV Score (min): 27.24%\n",
        "CV Score (mean): 48.56%\n",
        "CV Score (max): 73.53%\n",
        "CPU times: user 2.58 s, sys: 9.63 ms, total: 2.59 s\n",
        "Wall time: 2.59 s\n"
       ]
      }
     ],
     "prompt_number": 62
    },
    {
     "cell_type": "code",
     "collapsed": false,
     "input": [
      "from scipy.stats.kde import gaussian_kde\n",
      "_ = plt.hist(scores, range=(0, 1), bins=30, alpha=0.2)\n",
      "x = np.linspace(0, 1, 1000)\n",
      "smoothed = gaussian_kde(scores).evaluate(x)\n",
      "plt.plot(x, smoothed, color=colors[3], label=\"Smoothed distribution\")\n",
      "top = np.max(smoothed)\n",
      "plt.vlines([np.mean(scores)], 0, top, color=colors[1], label=\"Mean test score\")\n",
      "plt.vlines([np.median(scores)], 0, top, color=colors[0], linestyles='dashed',\n",
      "           label=\"Median test score\")\n",
      "plt.legend(loc='best')\n",
      "_ = plt.title(\"Cross Validated Test scores distribution\")"
     ],
     "language": "python",
     "metadata": {},
     "outputs": [
      {
       "metadata": {},
       "output_type": "display_data",
       "png": "[encoded data removed]",
       "text": [
        "<matplotlib.figure.Figure at 0x10ad50490>"
       ]
      }
     ],
     "prompt_number": 63
    },
    {
     "cell_type": "markdown",
     "metadata": {},
     "source": [
      "###Tune Hyperparameters\n",
      "[back to top](#contents)"
     ]
    },
    {
     "cell_type": "code",
     "collapsed": false,
     "input": [
      "clf.get_params()"
     ],
     "language": "python",
     "metadata": {},
     "outputs": [
      {
       "metadata": {},
       "output_type": "pyout",
       "prompt_number": 64,
       "text": [
        "{'alpha': 0.9,\n",
        " 'init': None,\n",
        " 'learning_rate': 0.1,\n",
        " 'loss': 'ls',\n",
        " 'max_depth': 3,\n",
        " 'max_features': None,\n",
        " 'max_leaf_nodes': None,\n",
        " 'min_samples_leaf': 1,\n",
        " 'min_samples_split': 2,\n",
        " 'n_estimators': 3000,\n",
        " 'random_state': None,\n",
        " 'subsample': 1.0,\n",
        " 'verbose': 0,\n",
        " 'warm_start': False}"
       ]
      }
     ],
     "prompt_number": 64
    },
    {
     "cell_type": "code",
     "collapsed": false,
     "input": [
      "%%time\n",
      "\n",
      "params = {'learning_rate': [0.1, 0.01, 0.001],\n",
      "          'max_depth': [2, 3, 4, 6, 8],\n",
      "          'min_samples_leaf': [3, 5, 7, 8, 10],\n",
      "#           'max_features': [1.0, 0.3, 0.1], \n",
      "          }\n",
      "\n",
      "est = GradientBoostingRegressor(n_estimators=3000)\n",
      "\n",
      "n_subsamples = 500\n",
      "X_small_train, y_small_train = X_train[:n_subsamples], y_train[:n_subsamples]\n",
      "\n",
      "gs = GridSearchCV(est, params, cv=3, \n",
      "                  scoring='mean_squared_error', \n",
      "                  n_jobs=4,\n",
      "                  verbose=1)\n",
      "\n",
      "_ = gs.fit(X_small_train, y_small_train)\n",
      "\n",
      "# print \"GS Best Score: %0.2f\" % gs.best_score_\n",
      "print \"GS Best Params:\", gs.best_params_"
     ],
     "language": "python",
     "metadata": {},
     "outputs": [
      {
       "output_type": "stream",
       "stream": "stdout",
       "text": [
        "Fitting 3 folds for each of 75 candidates, totalling 225 fits\n"
       ]
      },
      {
       "output_type": "stream",
       "stream": "stderr",
       "text": [
        "[Parallel(n_jobs=4)]: Done   1 jobs       | elapsed:    1.1s\n",
        "[Parallel(n_jobs=4)]: Done  50 jobs       | elapsed:   17.6s\n",
        "[Parallel(n_jobs=4)]: Done 200 jobs       | elapsed:  1.4min\n",
        "[Parallel(n_jobs=4)]: Done 219 out of 225 | elapsed:  1.5min remaining:    2.5s\n",
        "[Parallel(n_jobs=4)]: Done 225 out of 225 | elapsed:  1.6min finished\n"
       ]
      },
      {
       "output_type": "stream",
       "stream": "stdout",
       "text": [
        "GS Best Score: -17.23\n",
        "GS Best Params: {'learning_rate': 0.001, 'max_depth': 4, 'min_samples_leaf': 7}\n",
        "CPU times: user 1.84 s, sys: 116 ms, total: 1.95 s\n",
        "Wall time: 1min 36s\n"
       ]
      }
     ],
     "prompt_number": 87
    },
    {
     "cell_type": "code",
     "collapsed": false,
     "input": [
      "# sorted(gs.grid_scores_, \n",
      "#        key=lambda x: x.mean_validation_score, \n",
      "#        reverse=True)"
     ],
     "language": "python",
     "metadata": {},
     "outputs": [
      {
       "metadata": {},
       "output_type": "pyout",
       "prompt_number": 86,
       "text": [
        "[mean: -17.23035, std: 5.36061, params: {'learning_rate': 0.001, 'max_depth': 4, 'min_samples_leaf': 7},\n",
        " mean: -17.30489, std: 5.36294, params: {'learning_rate': 0.001, 'max_depth': 3, 'min_samples_leaf': 8},\n",
        " mean: -17.31919, std: 4.89096, params: {'learning_rate': 0.001, 'max_depth': 8, 'min_samples_leaf': 8},\n",
        " mean: -17.37945, std: 5.01128, params: {'learning_rate': 0.001, 'max_depth': 6, 'min_samples_leaf': 8},\n",
        " mean: -17.38216, std: 5.14062, params: {'learning_rate': 0.001, 'max_depth': 3, 'min_samples_leaf': 5},\n",
        " mean: -17.41488, std: 4.83581, params: {'learning_rate': 0.001, 'max_depth': 4, 'min_samples_leaf': 10},\n",
        " mean: -17.42978, std: 4.99553, params: {'learning_rate': 0.001, 'max_depth': 4, 'min_samples_leaf': 5},\n",
        " mean: -17.47218, std: 4.81977, params: {'learning_rate': 0.001, 'max_depth': 3, 'min_samples_leaf': 10},\n",
        " mean: -17.50685, std: 5.33812, params: {'learning_rate': 0.001, 'max_depth': 3, 'min_samples_leaf': 7},\n",
        " mean: -17.55742, std: 5.52832, params: {'learning_rate': 0.001, 'max_depth': 4, 'min_samples_leaf': 8},\n",
        " mean: -17.71788, std: 4.61138, params: {'learning_rate': 0.001, 'max_depth': 8, 'min_samples_leaf': 10},\n",
        " mean: -17.73357, std: 4.66098, params: {'learning_rate': 0.001, 'max_depth': 6, 'min_samples_leaf': 10},\n",
        " mean: -17.92272, std: 5.78693, params: {'learning_rate': 0.001, 'max_depth': 3, 'min_samples_leaf': 3},\n",
        " mean: -17.96254, std: 5.10524, params: {'learning_rate': 0.001, 'max_depth': 2, 'min_samples_leaf': 10},\n",
        " mean: -18.08238, std: 5.16215, params: {'learning_rate': 0.001, 'max_depth': 6, 'min_samples_leaf': 7},\n",
        " mean: -18.10373, std: 6.18724, params: {'learning_rate': 0.001, 'max_depth': 4, 'min_samples_leaf': 3},\n",
        " mean: -18.14113, std: 5.86739, params: {'learning_rate': 0.001, 'max_depth': 2, 'min_samples_leaf': 5},\n",
        " mean: -18.21898, std: 5.88817, params: {'learning_rate': 0.001, 'max_depth': 2, 'min_samples_leaf': 3},\n",
        " mean: -18.23073, std: 5.60284, params: {'learning_rate': 0.001, 'max_depth': 2, 'min_samples_leaf': 7},\n",
        " mean: -18.27561, std: 5.57940, params: {'learning_rate': 0.001, 'max_depth': 2, 'min_samples_leaf': 8},\n",
        " mean: -18.30675, std: 5.02864, params: {'learning_rate': 0.001, 'max_depth': 8, 'min_samples_leaf': 7},\n",
        " mean: -18.34073, std: 4.68899, params: {'learning_rate': 0.001, 'max_depth': 6, 'min_samples_leaf': 5},\n",
        " mean: -18.68998, std: 5.84255, params: {'learning_rate': 0.01, 'max_depth': 2, 'min_samples_leaf': 10},\n",
        " mean: -19.00603, std: 4.74942, params: {'learning_rate': 0.001, 'max_depth': 8, 'min_samples_leaf': 5},\n",
        " mean: -19.12181, std: 5.95479, params: {'learning_rate': 0.01, 'max_depth': 2, 'min_samples_leaf': 5},\n",
        " mean: -19.77308, std: 5.31405, params: {'learning_rate': 0.01, 'max_depth': 4, 'min_samples_leaf': 10},\n",
        " mean: -19.95427, std: 5.87750, params: {'learning_rate': 0.01, 'max_depth': 3, 'min_samples_leaf': 5},\n",
        " mean: -19.95772, std: 5.16432, params: {'learning_rate': 0.01, 'max_depth': 4, 'min_samples_leaf': 5},\n",
        " mean: -19.97638, std: 5.00965, params: {'learning_rate': 0.01, 'max_depth': 8, 'min_samples_leaf': 5},\n",
        " mean: -20.03851, std: 5.85274, params: {'learning_rate': 0.001, 'max_depth': 6, 'min_samples_leaf': 3},\n",
        " mean: -20.06071, std: 7.16804, params: {'learning_rate': 0.01, 'max_depth': 2, 'min_samples_leaf': 3},\n",
        " mean: -20.06815, std: 6.31683, params: {'learning_rate': 0.01, 'max_depth': 3, 'min_samples_leaf': 3},\n",
        " mean: -20.07482, std: 5.94789, params: {'learning_rate': 0.01, 'max_depth': 3, 'min_samples_leaf': 10},\n",
        " mean: -20.07543, std: 5.29576, params: {'learning_rate': 0.01, 'max_depth': 8, 'min_samples_leaf': 8},\n",
        " mean: -20.08251, std: 5.06150, params: {'learning_rate': 0.01, 'max_depth': 6, 'min_samples_leaf': 8},\n",
        " mean: -20.22385, std: 5.13300, params: {'learning_rate': 0.01, 'max_depth': 6, 'min_samples_leaf': 5},\n",
        " mean: -20.24717, std: 6.59210, params: {'learning_rate': 0.01, 'max_depth': 2, 'min_samples_leaf': 8},\n",
        " mean: -20.32898, std: 5.54553, params: {'learning_rate': 0.01, 'max_depth': 6, 'min_samples_leaf': 7},\n",
        " mean: -20.35700, std: 6.24428, params: {'learning_rate': 0.01, 'max_depth': 3, 'min_samples_leaf': 8},\n",
        " mean: -20.57021, std: 5.00903, params: {'learning_rate': 0.1, 'max_depth': 8, 'min_samples_leaf': 5},\n",
        " mean: -20.57089, std: 5.91281, params: {'learning_rate': 0.01, 'max_depth': 4, 'min_samples_leaf': 7},\n",
        " mean: -20.61011, std: 6.30247, params: {'learning_rate': 0.01, 'max_depth': 2, 'min_samples_leaf': 7},\n",
        " mean: -20.63203, std: 6.17045, params: {'learning_rate': 0.01, 'max_depth': 4, 'min_samples_leaf': 3},\n",
        " mean: -20.65015, std: 5.94458, params: {'learning_rate': 0.01, 'max_depth': 4, 'min_samples_leaf': 8},\n",
        " mean: -20.66178, std: 4.81293, params: {'learning_rate': 0.1, 'max_depth': 6, 'min_samples_leaf': 8},\n",
        " mean: -20.72274, std: 6.02145, params: {'learning_rate': 0.01, 'max_depth': 3, 'min_samples_leaf': 7},\n",
        " mean: -20.78162, std: 5.38230, params: {'learning_rate': 0.01, 'max_depth': 6, 'min_samples_leaf': 10},\n",
        " mean: -20.79553, std: 4.63363, params: {'learning_rate': 0.01, 'max_depth': 8, 'min_samples_leaf': 10},\n",
        " mean: -20.86476, std: 5.14510, params: {'learning_rate': 0.1, 'max_depth': 6, 'min_samples_leaf': 5},\n",
        " mean: -20.88550, std: 5.47344, params: {'learning_rate': 0.01, 'max_depth': 8, 'min_samples_leaf': 7},\n",
        " mean: -20.88617, std: 6.58338, params: {'learning_rate': 0.1, 'max_depth': 8, 'min_samples_leaf': 3},\n",
        " mean: -21.02865, std: 6.59366, params: {'learning_rate': 0.001, 'max_depth': 8, 'min_samples_leaf': 3},\n",
        " mean: -21.06157, std: 6.14518, params: {'learning_rate': 0.1, 'max_depth': 6, 'min_samples_leaf': 3},\n",
        " mean: -21.14439, std: 6.33842, params: {'learning_rate': 0.1, 'max_depth': 4, 'min_samples_leaf': 3},\n",
        " mean: -21.18315, std: 4.88063, params: {'learning_rate': 0.1, 'max_depth': 8, 'min_samples_leaf': 10},\n",
        " mean: -21.19763, std: 4.85153, params: {'learning_rate': 0.1, 'max_depth': 8, 'min_samples_leaf': 8},\n",
        " mean: -21.28337, std: 5.14639, params: {'learning_rate': 0.1, 'max_depth': 4, 'min_samples_leaf': 5},\n",
        " mean: -21.32476, std: 6.32678, params: {'learning_rate': 0.01, 'max_depth': 6, 'min_samples_leaf': 3},\n",
        " mean: -21.40766, std: 6.71578, params: {'learning_rate': 0.01, 'max_depth': 8, 'min_samples_leaf': 3},\n",
        " mean: -21.57695, std: 5.27281, params: {'learning_rate': 0.1, 'max_depth': 8, 'min_samples_leaf': 7},\n",
        " mean: -21.66130, std: 4.66065, params: {'learning_rate': 0.1, 'max_depth': 6, 'min_samples_leaf': 10},\n",
        " mean: -21.71073, std: 5.02048, params: {'learning_rate': 0.1, 'max_depth': 6, 'min_samples_leaf': 7},\n",
        " mean: -21.83328, std: 4.74022, params: {'learning_rate': 0.1, 'max_depth': 4, 'min_samples_leaf': 10},\n",
        " mean: -22.28400, std: 5.82578, params: {'learning_rate': 0.1, 'max_depth': 3, 'min_samples_leaf': 10},\n",
        " mean: -22.34258, std: 5.02123, params: {'learning_rate': 0.1, 'max_depth': 4, 'min_samples_leaf': 7},\n",
        " mean: -22.37683, std: 6.88313, params: {'learning_rate': 0.1, 'max_depth': 3, 'min_samples_leaf': 3},\n",
        " mean: -22.54390, std: 6.41015, params: {'learning_rate': 0.1, 'max_depth': 3, 'min_samples_leaf': 5},\n",
        " mean: -22.61379, std: 5.29156, params: {'learning_rate': 0.1, 'max_depth': 4, 'min_samples_leaf': 8},\n",
        " mean: -22.79319, std: 6.85389, params: {'learning_rate': 0.1, 'max_depth': 2, 'min_samples_leaf': 3},\n",
        " mean: -23.11015, std: 7.23870, params: {'learning_rate': 0.1, 'max_depth': 2, 'min_samples_leaf': 10},\n",
        " mean: -23.53391, std: 5.54034, params: {'learning_rate': 0.1, 'max_depth': 3, 'min_samples_leaf': 8},\n",
        " mean: -23.99923, std: 5.34894, params: {'learning_rate': 0.1, 'max_depth': 3, 'min_samples_leaf': 7},\n",
        " mean: -24.27432, std: 6.97921, params: {'learning_rate': 0.1, 'max_depth': 2, 'min_samples_leaf': 5},\n",
        " mean: -24.68348, std: 6.37156, params: {'learning_rate': 0.1, 'max_depth': 2, 'min_samples_leaf': 8},\n",
        " mean: -25.93500, std: 6.07547, params: {'learning_rate': 0.1, 'max_depth': 2, 'min_samples_leaf': 7}]"
       ]
      }
     ],
     "prompt_number": 86
    },
    {
     "cell_type": "markdown",
     "metadata": {},
     "source": [
      "###Refit Model - Best Params\n",
      "[back to top](#contents)"
     ]
    },
    {
     "cell_type": "code",
     "collapsed": false,
     "input": [
      "X_train, X_test, y_train, y_test = train_test_split(X, y, test_size=0.2, random_state=0)\n",
      "\n",
      "est.set_params(**gs.best_params_)\n",
      "est.fit(X_train, y_train)\n",
      "\n",
      "training_accuracy = clf.score(X_train, y_train)\n",
      "test_accuracy = clf.score(X_test, y_test)\n",
      "\n",
      "print \"Training Score: %0.2f%%\" % (100 * training_accuracy)\n",
      "print \"Test Score: %0.2f%%\" % (100 * test_accuracy)"
     ],
     "language": "python",
     "metadata": {},
     "outputs": [
      {
       "output_type": "stream",
       "stream": "stdout",
       "text": [
        "Training Score: 100.00%\n",
        "Test Score: 73.45%\n"
       ]
      }
     ],
     "prompt_number": 91
    },
    {
     "cell_type": "markdown",
     "metadata": {},
     "source": [
      "###Model Evaluation\n",
      "[back to top](#contents)"
     ]
    },
    {
     "cell_type": "markdown",
     "metadata": {},
     "source": [
      "####Learning Curve\n",
      "[back to top](#contents)"
     ]
    },
    {
     "cell_type": "code",
     "collapsed": false,
     "input": [
      "def LearningCurve(model, title, X, y):\n",
      "    plt.figure()\n",
      "    plt.xlabel(\"Training examples\")\n",
      "    plt.ylabel(\"Score\")\n",
      "    train_sizes, train_scores, test_scores = learning_curve(model, X, y)\n",
      "    train_scores_mean = np.mean(train_scores, axis=1)\n",
      "    train_scores_std = np.std(train_scores, axis=1)\n",
      "    test_scores_mean = np.mean(test_scores, axis=1)\n",
      "    test_scores_std = np.std(test_scores, axis=1)\n",
      "    plt.grid()\n",
      "    plt.fill_between(train_sizes, train_scores_mean - train_scores_std, \n",
      "                     train_scores_mean + train_scores_std, alpha=0.1,color=\"r\")\n",
      "    plt.fill_between(train_sizes, test_scores_mean - test_scores_std,\n",
      "                     test_scores_mean + test_scores_std, alpha=0.1, color=\"g\")\n",
      "    plt.plot(train_sizes, train_scores_mean, 'o-', color=colors[1],label=\"Training score\")\n",
      "    plt.plot(train_sizes, test_scores_mean, 'o-', color=colors[3],label=\"Cross-validation score\")\n",
      "    plt.title(title)\n",
      "    plt.legend(loc=\"best\")\n",
      "    return plt"
     ],
     "language": "python",
     "metadata": {},
     "outputs": [],
     "prompt_number": 92
    },
    {
     "cell_type": "code",
     "collapsed": false,
     "input": [
      "from sklearn.learning_curve import learning_curve\n",
      "\n",
      "title = \"Learning Curves (Best Params)\"\n",
      "\n",
      "LearningCurve(est, title, X, y);"
     ],
     "language": "python",
     "metadata": {},
     "outputs": [
      {
       "metadata": {},
       "output_type": "display_data",
       "png": "[encoded data removed]",
       "text": [
        "<matplotlib.figure.Figure at 0x10394fdd0>"
       ]
      }
     ],
     "prompt_number": 93
    },
    {
     "cell_type": "markdown",
     "metadata": {},
     "source": [
      "####Validation Curve\n",
      "[back to top](#contents)"
     ]
    },
    {
     "cell_type": "code",
     "collapsed": false,
     "input": [
      "from sklearn.learning_curve import validation_curve\n",
      "\n",
      "learning_rate_range = np.logspace(-4, 0, 7)\n",
      "\n",
      "train_scores, validation_scores = validation_curve(est,\n",
      "                                                   X, y,\n",
      "                                                   'learning_rate',\n",
      "                                                   learning_rate_range,\n",
      "                                                   cv=5,\n",
      "                                                   n_jobs=4\n",
      "                                                   )\n",
      "\n",
      "plt.semilogx(learning_rate_range, train_scores.mean(axis=1), 'o-', color=colors[1], label='Training score')\n",
      "plt.semilogx(learning_rate_range, validation_scores.mean(axis=1), 'o-', color=colors[3], label='Cross-validation score')\n",
      "plt.legend(loc='best')\n",
      "plt.xlabel(\"learning_rate_range\")\n",
      "_ = plt.title('Validation curves');"
     ],
     "language": "python",
     "metadata": {},
     "outputs": [
      {
       "metadata": {},
       "output_type": "display_data",
       "png": "[encoded data removed]",
       "text": [
        "<matplotlib.figure.Figure at 0x10394fdd0>"
       ]
      }
     ],
     "prompt_number": 94
    },
    {
     "cell_type": "markdown",
     "metadata": {},
     "source": [
      "###Final Evaluation - Test Set\n",
      "[back to top](#contents)"
     ]
    },
    {
     "cell_type": "code",
     "collapsed": false,
     "input": [
      "print \"Final Score on Test set: %0.2f%%\" % (100 * est.score(X_test, y_test))"
     ],
     "language": "python",
     "metadata": {},
     "outputs": [
      {
       "output_type": "stream",
       "stream": "stdout",
       "text": [
        "Final Score on Test set: 70.60%\n"
       ]
      }
     ],
     "prompt_number": 95
    },
    {
     "cell_type": "markdown",
     "metadata": {},
     "source": [
      "###Features Importance\n",
      "[back to top](#contents)"
     ]
    },
    {
     "cell_type": "code",
     "collapsed": false,
     "input": [
      "fx_imp = pd.Series(est.feature_importances_, index=features)\n",
      "fx_imp /= fx_imp.max() # normalize\n",
      "fx_imp.sort()\n",
      "fx_imp.plot(kind='barh', color=colors[6])"
     ],
     "language": "python",
     "metadata": {},
     "outputs": [
      {
       "metadata": {},
       "output_type": "pyout",
       "prompt_number": 117,
       "text": [
        "<matplotlib.axes._subplots.AxesSubplot at 0x10e87aad0>"
       ]
      },
      {
       "metadata": {},
       "output_type": "display_data",
       "png": "[encoded data removed]",
       "text": [
        "<matplotlib.figure.Figure at 0x11091a290>"
       ]
      }
     ],
     "prompt_number": 117
    },
    {
     "cell_type": "markdown",
     "metadata": {},
     "source": [
      "###Partial Dependence\n",
      "[back to top](#contents)"
     ]
    },
    {
     "cell_type": "code",
     "collapsed": false,
     "input": [
      "from sklearn.ensemble.partial_dependence import plot_partial_dependence\n",
      "\n",
      "fig, axs = plot_partial_dependence(est, X_train, features, feature_names=features, \n",
      "                                   n_cols=2);"
     ],
     "language": "python",
     "metadata": {},
     "outputs": [
      {
       "metadata": {},
       "output_type": "display_data",
       "png": "[encoded data removed]",
       "text": [
        "<matplotlib.figure.Figure at 0x10f7f2810>"
       ]
      }
     ],
     "prompt_number": 119
    },
    {
     "cell_type": "markdown",
     "metadata": {},
     "source": [
      "###References\n",
      "[back to top](#contents)"
     ]
    },
    {
     "cell_type": "markdown",
     "metadata": {},
     "source": [
      "- [Scikit-Learn GBRT](http://scikit-learn.org/stable/modules/ensemble.html#gradient-boosting)\n",
      "- [Generalized Boosted Models](http://citeseerx.ist.psu.edu/viewdoc/download;jsessionid=540A0A638283F64E251B1342248CDBCF?doi=10.1.1.151.4024&rep=rep1&type=pdf)"
     ]
    },
    {
     "cell_type": "code",
     "collapsed": false,
     "input": [
      "from IPython.display import display, HTML\n",
      "display(HTML(open('../style/custom.css').read()))"
     ],
     "language": "python",
     "metadata": {},
     "outputs": []
    }
   ],
   "metadata": {}
  }
 ]
}