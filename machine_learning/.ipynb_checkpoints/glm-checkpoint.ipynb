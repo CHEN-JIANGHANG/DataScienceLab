{
 "metadata": {
  "name": "",
  "signature": "sha256:7f94e9da6bafd9e03e9a320651f8dafb685eac6b431ed955b36cca8c839d7a26"
 },
 "nbformat": 3,
 "nbformat_minor": 0,
 "worksheets": [
  {
   "cells": [
    {
     "cell_type": "markdown",
     "metadata": {},
     "source": [
      "#<span style=\"background-color:#66FF99\">Generalized Linear Models<span/>\n",
      "<img src=\"../images/glm.png\">"
     ]
    },
    {
     "cell_type": "markdown",
     "metadata": {},
     "source": [
      "###Contents\n",
      "- [Background](#background)\n",
      "- [Boston Dataset](#boston-dataset)\n",
      "    - [Preliminaries](#preliminaries)\n",
      "    - [Load Data](#load-data)\n",
      "    - [Train-Test-Split](#train-test-split)\n",
      "    - [Linear Regression](#linear-regression)\n",
      "    - [Cross-validation Iterator](#cross-validation-iterator)\n",
      "    - [Plot Data](#plot-data)\n",
      "    - [Model Evaluation](#model-evaluation)\n",
      "        - [Learning Curve](#learning-curve)\n",
      "    - [Final Evaluation - Test Set](#final-evaluation-test-set)\n",
      "    - [Make Predictions](#make-predictions)"
     ]
    },
    {
     "cell_type": "markdown",
     "metadata": {},
     "source": [
      "###Background\n",
      "[back to top](#contents)\n",
      "\n",
      "###<span style=\"background-color:#FF99FF)\">Linear Models Basics</span>\n",
      "\n",
      "$$Y = \\beta_0 + \\beta_1X$$\n",
      "\n",
      "$$\\hat Y = \\hat \\beta_0 + \\hat \\beta_1 x_1$$\n",
      "\n",
      "* $\\beta_0$ and $\\beta_1$ are know as coefficients or parameters\n",
      "* $\\beta_0$ = intercept, $\\beta_1$ = slope of line\n",
      "* $\\hat y$ is the estimated predicted value\n",
      "\n",
      "###How to estimate the coefficients?\n",
      "* Least Squares method -  minimizing the sum of the squared errors to get the coefficients\n",
      "\n",
      "$$e_i = y_i - \\hat y_i$$\n",
      "* residual error = real y minus predicted y\n",
      "\n",
      "$$RSS = e_1^2 + e_2^2 + ... + e_n^2$$\n",
      "* Residual sum of squares (RSS)\n",
      "\n",
      "* Least squares method choose $\\beta_0$ and $\\beta_1$ to minimize RSS\n",
      "* Can use calculus to find the minimizers\n",
      "\n",
      "###How to assess the accuracy of the coefficient estimates?\n",
      "* Summary\n",
      "    1. SE small, accuracy of coefficients high\n",
      "    * Confidence Interval to see 95% chance the interval contain true value\n",
      "    * t-stats big, the stronger the relationship b/w X and Y\n",
      "    * p-value small, the stronger the relationship b/w X and Y\n",
      "* **Standard Error** of the coefficients\n",
      "* Standard Error to compute **confidence intervals**\n",
      "    * 95% chance that the interval will contain true value of parameters\n",
      "* Standard Error to perform hypothesis tests\n",
      "    * $H_0$ = no relationship between X and Y\n",
      "    * $H_1$ = some relationship between X and Y\n",
      "    * $\\hat\\beta_1$ needs to be far from zero to be confident that $\\beta_1$ is non-zero\n",
      "    * If SE($\\hat \\beta_1$) is very small, shows that $\\hat \\beta_1$ is non-zero, therefore strong relationship between X and Y\n",
      "    * **t-statistics** measures the number of SD that $\\hat \\beta_1$ is away from zero \n",
      "    * The larger the absolute value of t, bigger the SD, the more $\\beta_1$ is away from zero, therefore strong relationship between X & Y\n",
      "    * **p-value** - probability of observing large t, assuming $\\beta_1$ is zero. So small p-value, low probability $\\beta_1$ is zero, so strong relationship between X & Y\n",
      "* The true relationship is given by $Y = \\beta_0 + \\beta_1 X + \\epsilon$\n",
      "* $\\epsilon$ captures the other error not captured by model\n",
      "* The true relationship formula gives the progression regression line (best linear approximation)\n",
      "* Population mean ($\\hat U$) can be estimated by sample mean ($\\bar{y}$)\n",
      "\n",
      "###How to assess the accuracy of Model?\n",
      "* **Residual Standard Error (RSE)**\n",
      "    * How much the response deviate from the true regression line\n",
      "    * Absolute measure of the lack of fit of the model\n",
      "    * e.g RSE = 3.26, any prediction of Y is still 3.26 units off on average\n",
      "* **R-squared statistic**\n",
      "    * Proportion measure of the lack of fit\n",
      "    * Takes the value between 0 and 1 (close to 1 = large proportion of variability has been explained)\n",
      "    * Proportion of variability in Y that can be explained using X\n",
      "\n",
      "###Regression\n",
      "- Examples are everywhere, test scores, sports, etc\n",
      "- Regression-Paradox: correlation is symmetric\n",
      "- Standardized data - standard deviation is 1\n",
      "- What algorithm to fit the model, OLS etc\n",
      "- Residual very important concept\n",
      "    - difference between observed value and predicted value\n",
      "- Gauss-Markov Theorem\n",
      "    - MSE = var + bias$^2$\n",
      "    - What happens if we assume the errors are NOT normally distributed?\n",
      "    - BLUE (Best Linear Unbiased Estimator)\n",
      "- Residual Plots\n",
      "    - Always plot the residual plots when doing Linear Regression\n",
      "    - Plot residuals vs fitted values\n",
      "    - Plot residuals vs each predictor variables\n",
      "- \"Explained\" Variance\n",
      "    - R-squared measures goodness of fit, but oes not validate the model\n",
      "    - Adding more predictors only increase R-squared\n",
      "    - Simple model might be better\n",
      "- Logistic Regression\n",
      "    - Purpose is to predict something which is binary\n",
      "    - Focus is estimating the probability of a 1 instead of just 50/50\n",
      "    - Latent Variable Interpretation - forcing it to be 1 if positive and 0 if negative\n",
      "    - Logit regression vs Probit regression\n",
      "    - Very interpretable\n",
      "- Stein's Paradox and Shrinkage Estimation"
     ]
    },
    {
     "cell_type": "markdown",
     "metadata": {},
     "source": [
      "###<span style=\"background-color:#FF99FF)\">Shrinkage Methods</span>\n",
      "\n",
      "- Technique that regularizes the coefficient estimates towards zero, so reducing number of coefficients\n",
      "- Best known: Ridge regression and Lasso\n",
      "\n",
      "**OLS** estimates coefficients using values that minimize:\n",
      "\n",
      "$$RSS = \\sum_{i=1}^n(y_i - \\beta_0 - \\sum_{j=1}^p \\beta_j x_{ij})^2$$\n",
      "\n",
      "**Ridge Regression (L2-norm)** estimates coefficients using values that minimize:\n",
      "\n",
      "$$RSS + \\lambda\\sum_{j=1}^p \\beta_j^2$$\n",
      "\n",
      "$$\\sum_{i=1}^n(y_i - \\beta_0 - \\sum_{j=1}^p \\beta_j x_{ij})^2 + \\lambda\\sum_{j=1}^p \\beta_j^2$$\n",
      "\n",
      "$$\\lambda \\geq 0 \\rightarrow \\text{tuning parameter}$$\n",
      "\n",
      "$$\\lambda\\sum_{j=1}^p \\beta_j^2$$\n",
      "\n",
      "- Shrinkage penalty is small when coefficients are close to zero, therefore has effects of shrinking estimates to zero\n",
      "- When $\\lambda$ is zero, the penalty term has no effect, therefore will return same as OLS\n",
      "- When $\\lambda$ is infinity large, impact of penalty is huge, the coefficient will approach Zero (shrink!)\n",
      "\n",
      "**Lasso (L1-norm)** estimates coefficients using values that minimize:\n",
      "\n",
      "$$RSS + \\lambda\\sum_{j=1}^p \\mid\\beta_j\\mid$$\n",
      "\n",
      "$$\\sum_{i=1}^n(y_i - \\beta_0 - \\sum_{j=1}^p \\beta_j x_{ij})^2 + \\lambda\\sum_{j=1}^p \\mid\\beta_j\\mid$$\n",
      "\n",
      "- Ridge will shrink all close to zero but not Zero. Lasso fixes that and set them to zero\n",
      "- Lasso uses $l_1$ penalty: effect of forcing some coefficients to be zero when tuning parameter ($\\lambda$) is large \n",
      "- Ridge uses $l_2$ penalty\n",
      "- Lasso makes the model more interpretable (lesser coefficients)\n",
      "- How to select tuning parameter $\\lambda$? Use Cross-validation!\n",
      "- Lasso or Ridge leads to better results? Lasso perform better when a small number of coefficients have substantial coefficients. \n",
      "- Always use CV to compare.\n",
      "\n",
      "Bayesian Interpretation for Ridge and Lasso:\n",
      "- Assumes (1) coefficients have some prior distribution and (2) a likelihood of the data\n",
      "- Posterior distribution: Prior distribution X Likelihood\n",
      "- If g (density function) is Gaussian...\n",
      "- If g is double-exponential (Laplace)...\n",
      "\n",
      "Selecting the Tuning Parameter:\n",
      "- Using CV! Choose a grid of $\\lambda$ and compute the CV error for each"
     ]
    },
    {
     "cell_type": "markdown",
     "metadata": {},
     "source": [
      "#Boston Dataset\n",
      "[back to top](#contents)"
     ]
    },
    {
     "cell_type": "markdown",
     "metadata": {},
     "source": [
      "###Preliminaries\n",
      "[back to top](#contents)"
     ]
    },
    {
     "cell_type": "code",
     "collapsed": false,
     "input": [
      "%matplotlib inline\n",
      "import pandas as pd\n",
      "import numpy as np\n",
      "import matplotlib.pyplot as plt\n",
      "import seaborn as sns\n",
      "sns.set(style=\"white\")\n",
      "plt.rc(\"figure\", figsize=(10, 6))\n",
      "np.set_printoptions(precision=4)\n",
      "\n",
      "colors = [\"#348ABD\", \"#A60628\", \"#7A68A6\", \"#467821\", \"#D55E00\",\n",
      "          \"#CC79A7\", \"#56B4E9\", \"#009E73\", \"#F0E442\", \"#0072B2\"]\n",
      "\n",
      "import warnings\n",
      "warnings.simplefilter('ignore', DeprecationWarning)"
     ],
     "language": "python",
     "metadata": {},
     "outputs": [],
     "prompt_number": 267
    },
    {
     "cell_type": "markdown",
     "metadata": {},
     "source": [
      "###Load Data\n",
      "[back to top](#contents)"
     ]
    },
    {
     "cell_type": "code",
     "collapsed": false,
     "input": [
      "boston = pd.read_csv('../data/boston.csv')\n",
      "boston.head(2)\n",
      "# boston.count()"
     ],
     "language": "python",
     "metadata": {},
     "outputs": [
      {
       "html": [
        "<div style=\"max-height:1000px;max-width:1500px;overflow:auto;\">\n",
        "<table border=\"1\" class=\"dataframe\">\n",
        "  <thead>\n",
        "    <tr style=\"text-align: right;\">\n",
        "      <th></th>\n",
        "      <th>crim</th>\n",
        "      <th>zn</th>\n",
        "      <th>indus</th>\n",
        "      <th>chas</th>\n",
        "      <th>nox</th>\n",
        "      <th>rm</th>\n",
        "      <th>age</th>\n",
        "      <th>dis</th>\n",
        "      <th>rad</th>\n",
        "      <th>tax</th>\n",
        "      <th>ptratio</th>\n",
        "      <th>black</th>\n",
        "      <th>lstat</th>\n",
        "      <th>medv</th>\n",
        "    </tr>\n",
        "  </thead>\n",
        "  <tbody>\n",
        "    <tr>\n",
        "      <th>0</th>\n",
        "      <td> 0.00632</td>\n",
        "      <td> 18</td>\n",
        "      <td> 2.31</td>\n",
        "      <td> 0</td>\n",
        "      <td> 0.538</td>\n",
        "      <td> 6.575</td>\n",
        "      <td> 65.2</td>\n",
        "      <td> 4.0900</td>\n",
        "      <td> 1</td>\n",
        "      <td> 296</td>\n",
        "      <td> 15.3</td>\n",
        "      <td> 396.9</td>\n",
        "      <td> 4.98</td>\n",
        "      <td> 24.0</td>\n",
        "    </tr>\n",
        "    <tr>\n",
        "      <th>1</th>\n",
        "      <td> 0.02731</td>\n",
        "      <td>  0</td>\n",
        "      <td> 7.07</td>\n",
        "      <td> 0</td>\n",
        "      <td> 0.469</td>\n",
        "      <td> 6.421</td>\n",
        "      <td> 78.9</td>\n",
        "      <td> 4.9671</td>\n",
        "      <td> 2</td>\n",
        "      <td> 242</td>\n",
        "      <td> 17.8</td>\n",
        "      <td> 396.9</td>\n",
        "      <td> 9.14</td>\n",
        "      <td> 21.6</td>\n",
        "    </tr>\n",
        "  </tbody>\n",
        "</table>\n",
        "</div>"
       ],
       "metadata": {},
       "output_type": "pyout",
       "prompt_number": 268,
       "text": [
        "      crim  zn  indus  chas    nox     rm   age     dis  rad  tax  ptratio  \\\n",
        "0  0.00632  18   2.31     0  0.538  6.575  65.2  4.0900    1  296     15.3   \n",
        "1  0.02731   0   7.07     0  0.469  6.421  78.9  4.9671    2  242     17.8   \n",
        "\n",
        "   black  lstat  medv  \n",
        "0  396.9   4.98  24.0  \n",
        "1  396.9   9.14  21.6  "
       ]
      }
     ],
     "prompt_number": 268
    },
    {
     "cell_type": "code",
     "collapsed": false,
     "input": [
      "df = boston\n",
      "feature = 'lstat'\n",
      "# feature = 'rm'\n",
      "target = 'medv'\n",
      "\n",
      "df_features = df[[feature]]\n",
      "df_features = df_features.fillna(-1) #to indicate -1 is missing value\n",
      "\n",
      "# df_features.head()\n",
      "df_features.count()"
     ],
     "language": "python",
     "metadata": {},
     "outputs": [
      {
       "metadata": {},
       "output_type": "pyout",
       "prompt_number": 304,
       "text": [
        "lstat    506\n",
        "dtype: int64"
       ]
      }
     ],
     "prompt_number": 304
    },
    {
     "cell_type": "code",
     "collapsed": false,
     "input": [
      "X = df_features.values\n",
      "y = df[target].values\n",
      "n_samples, n_features = X.shape\n",
      "print(\"No. of samples = %d\" % n_samples)\n",
      "print(\"No. of features = %d\" % n_features)"
     ],
     "language": "python",
     "metadata": {},
     "outputs": [
      {
       "output_type": "stream",
       "stream": "stdout",
       "text": [
        "No. of samples = 506\n",
        "No. of features = 1\n"
       ]
      }
     ],
     "prompt_number": 305
    },
    {
     "cell_type": "code",
     "collapsed": false,
     "input": [
      "df.hist(column=['medv', 'lstat', 'crim', 'age'], grid=False);"
     ],
     "language": "python",
     "metadata": {},
     "outputs": [
      {
       "metadata": {},
       "output_type": "display_data",
       "png": "[encoded data removed]",
       "text": [
        "<matplotlib.figure.Figure at 0x1155f8b10>"
       ]
      }
     ],
     "prompt_number": 336
    },
    {
     "cell_type": "markdown",
     "metadata": {},
     "source": [
      "###Train-Test-Split\n",
      "[back to top](#contents)"
     ]
    },
    {
     "cell_type": "code",
     "collapsed": false,
     "input": [
      "from sklearn.cross_validation import train_test_split\n",
      "\n",
      "X_train, X_test, y_train, y_test = train_test_split(X, y, test_size=0.2, random_state=0)\n",
      "\n",
      "print(\"Train data shape: %r, Train target shape: %r\" % (X_train.shape, y_train.shape))\n",
      "print(\"Test data shape: %r, Test target shape: %r\" % (X_test.shape, y_test.shape))"
     ],
     "language": "python",
     "metadata": {},
     "outputs": [
      {
       "output_type": "stream",
       "stream": "stdout",
       "text": [
        "Train data shape: (404, 1), Train target shape: (404,)\n",
        "Test data shape: (102, 1), Test target shape: (102,)\n"
       ]
      }
     ],
     "prompt_number": 306
    },
    {
     "cell_type": "markdown",
     "metadata": {},
     "source": [
      "###Linear Regression\n",
      "[back to top](#contents)"
     ]
    },
    {
     "cell_type": "code",
     "collapsed": false,
     "input": [
      "# %%time\n",
      "\n",
      "from sklearn.linear_model import Lasso\n",
      "\n",
      "clf = LinearRegression()\n",
      "clf.fit(X_train, y_train)\n",
      "\n",
      "training_accuracy = clf.score(X_train, y_train)\n",
      "test_accuracy = clf.score(X_test, y_test)\n",
      "\n",
      "print \"The intercept is: %.5f\" % clf.intercept_\n",
      "print \"The coefficent is: %.5f\" % clf.coef_\n",
      "print \"Training Score: %0.2f%%\" % (100 * training_accuracy)\n",
      "print \"Test Score: %0.2f%%\" % (100 * test_accuracy)"
     ],
     "language": "python",
     "metadata": {},
     "outputs": [
      {
       "output_type": "stream",
       "stream": "stdout",
       "text": [
        "The intercept is: 34.76519\n",
        "The coefficent is: -0.95649\n",
        "Training Score: 57.10%\n",
        "Test Score: 43.10%\n"
       ]
      }
     ],
     "prompt_number": 307
    },
    {
     "cell_type": "markdown",
     "metadata": {},
     "source": [
      "###Cross-validation Iterator\n",
      "[back to top](#contents)"
     ]
    },
    {
     "cell_type": "code",
     "collapsed": false,
     "input": [
      "%%time\n",
      "\n",
      "from sklearn.cross_validation import cross_val_score\n",
      "from sklearn.cross_validation import ShuffleSplit\n",
      "\n",
      "cv = ShuffleSplit(n_samples, \n",
      "                  n_iter=10, \n",
      "                  test_size=0.1,\n",
      "                  random_state=0)\n",
      "\n",
      "scores = cross_val_score(clf, \n",
      "                         X, y, \n",
      "                         cv=cv)\n",
      "\n",
      "print \"CV Score (min): %0.2f%%\" % (100 * scores.min())\n",
      "print \"CV Score (mean): %0.2f%%\" % (100 * scores.mean())\n",
      "print \"CV Score (max): %0.2f%%\" % (100 * scores.max())"
     ],
     "language": "python",
     "metadata": {},
     "outputs": [
      {
       "output_type": "stream",
       "stream": "stdout",
       "text": [
        "CV Score (min): 43.03%\n",
        "CV Score (mean): 52.30%\n",
        "CV Score (max): 61.87%\n",
        "CPU times: user 10.5 ms, sys: 2.36 ms, total: 12.8 ms\n",
        "Wall time: 10.9 ms\n"
       ]
      }
     ],
     "prompt_number": 308
    },
    {
     "cell_type": "code",
     "collapsed": false,
     "input": [
      "from scipy.stats.kde import gaussian_kde\n",
      "_ = plt.hist(scores, range=(0, 1), bins=30, alpha=0.2)\n",
      "x = np.linspace(0, 1, 1000)\n",
      "smoothed = gaussian_kde(scores).evaluate(x)\n",
      "plt.plot(x, smoothed, color=colors[3], label=\"Smoothed distribution\")\n",
      "top = np.max(smoothed)\n",
      "plt.vlines([np.mean(scores)], 0, top, color=colors[1], label=\"Mean test score\")\n",
      "plt.vlines([np.median(scores)], 0, top, color=colors[0], linestyles='dashed',\n",
      "           label=\"Median test score\")\n",
      "plt.legend(loc='best')\n",
      "_ = plt.title(\"Cross Validated Test scores distribution\")"
     ],
     "language": "python",
     "metadata": {},
     "outputs": [
      {
       "metadata": {},
       "output_type": "display_data",
       "png": "[encoded data removed]",
       "text": [
        "<matplotlib.figure.Figure at 0x11335bb90>"
       ]
      }
     ],
     "prompt_number": 309
    },
    {
     "cell_type": "markdown",
     "metadata": {},
     "source": [
      "###Plot Data\n",
      "[back to top](#contents)"
     ]
    },
    {
     "cell_type": "code",
     "collapsed": false,
     "input": [
      "predicted_train = clf.predict(X_train)\n",
      "predicted_test = clf.predict(X_test)\n",
      "\n",
      "plt.scatter(X, y, c=colors[0], alpha=0.7)\n",
      "plt.plot(X_train, predicted_train, color=colors[1], label=\"Training\")\n",
      "plt.plot(X_test, predicted_test, color=colors[3], label=\"Test\")\n",
      "plt.xlabel(feature)\n",
      "plt.ylabel(target)\n",
      "plt.legend(loc=\"best\")"
     ],
     "language": "python",
     "metadata": {},
     "outputs": [
      {
       "metadata": {},
       "output_type": "pyout",
       "prompt_number": 327,
       "text": [
        "<matplotlib.legend.Legend at 0x10f9a6790>"
       ]
      },
      {
       "metadata": {},
       "output_type": "display_data",
       "png": "[encoded data removed]",
       "text": [
        "<matplotlib.figure.Figure at 0x110d14550>"
       ]
      }
     ],
     "prompt_number": 327
    },
    {
     "cell_type": "markdown",
     "metadata": {},
     "source": [
      "###Model Evaluation\n",
      "[back to top](#contents)"
     ]
    },
    {
     "cell_type": "markdown",
     "metadata": {},
     "source": [
      "####Learning Curve\n",
      "[back to top](#contents)"
     ]
    },
    {
     "cell_type": "code",
     "collapsed": false,
     "input": [
      "def LearningCurve(model, title, X, y):\n",
      "    plt.figure()\n",
      "    plt.xlabel(\"Training examples\")\n",
      "    plt.ylabel(\"Score\")\n",
      "    train_sizes, train_scores, test_scores = learning_curve(model, X, y)\n",
      "    train_scores_mean = np.mean(train_scores, axis=1)\n",
      "    train_scores_std = np.std(train_scores, axis=1)\n",
      "    test_scores_mean = np.mean(test_scores, axis=1)\n",
      "    test_scores_std = np.std(test_scores, axis=1)\n",
      "    plt.grid()\n",
      "    plt.fill_between(train_sizes, train_scores_mean - train_scores_std, \n",
      "                     train_scores_mean + train_scores_std, alpha=0.1,color=\"r\")\n",
      "    plt.fill_between(train_sizes, test_scores_mean - test_scores_std,\n",
      "                     test_scores_mean + test_scores_std, alpha=0.1, color=\"g\")\n",
      "    plt.plot(train_sizes, train_scores_mean, 'o-', color=colors[1], label=\"Training score\")\n",
      "    plt.plot(train_sizes, test_scores_mean, 'o-', color=colors[3], label=\"Cross-validation score\")\n",
      "    plt.title(title)\n",
      "    plt.legend(loc=\"best\")\n",
      "    return plt"
     ],
     "language": "python",
     "metadata": {},
     "outputs": [],
     "prompt_number": 328
    },
    {
     "cell_type": "code",
     "collapsed": false,
     "input": [
      "from sklearn.learning_curve import learning_curve\n",
      "\n",
      "title = \"Learning Curves (Linear Regression)\"\n",
      "\n",
      "LearningCurve(clf, title, X_train, y_train);"
     ],
     "language": "python",
     "metadata": {},
     "outputs": [
      {
       "metadata": {},
       "output_type": "display_data",
       "png": "[encoded data removed]",
       "text": [
        "<matplotlib.figure.Figure at 0x110880dd0>"
       ]
      }
     ],
     "prompt_number": 329
    },
    {
     "cell_type": "markdown",
     "metadata": {},
     "source": [
      "###Final Evaluation - Test Set\n",
      "[back to top](#contents)"
     ]
    },
    {
     "cell_type": "code",
     "collapsed": false,
     "input": [
      "print \"Final Score on Test set: %0.2f%%\" % (100 * clf.score(X_test, y_test))"
     ],
     "language": "python",
     "metadata": {},
     "outputs": [
      {
       "output_type": "stream",
       "stream": "stdout",
       "text": [
        "Final Score on Test set: 43.10%\n"
       ]
      }
     ],
     "prompt_number": 330
    },
    {
     "cell_type": "markdown",
     "metadata": {},
     "source": [
      "###Make Predictions\n",
      "[back to top](#contents)"
     ]
    },
    {
     "cell_type": "code",
     "collapsed": false,
     "input": [
      "test_data = [[5], [10], [15]]\n",
      "clf.predict(test_data)"
     ],
     "language": "python",
     "metadata": {},
     "outputs": [
      {
       "metadata": {},
       "output_type": "pyout",
       "prompt_number": 333,
       "text": [
        "array([ 29.9828,  25.2003,  20.4179])"
       ]
      }
     ],
     "prompt_number": 333
    },
    {
     "cell_type": "code",
     "collapsed": false,
     "input": [
      "from IPython.display import display, HTML\n",
      "display(HTML(open('../style/custom.css').read()))"
     ],
     "language": "python",
     "metadata": {},
     "outputs": []
    }
   ],
   "metadata": {}
  }
 ]
}