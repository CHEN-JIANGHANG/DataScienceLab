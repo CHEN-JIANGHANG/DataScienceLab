{
 "metadata": {
  "name": "",
  "signature": "sha256:6fb1b68e6a85e5cfe9f12f9b6051b767df31337446ca27fc3bce7ead26e91390"
 },
 "nbformat": 3,
 "nbformat_minor": 0,
 "worksheets": [
  {
   "cells": [
    {
     "cell_type": "markdown",
     "metadata": {},
     "source": [
      "#<span style=\"background-color:#66FF99\">Logistic Regression<span/>\n",
      "<img src=\"../images/logistic_regression.png\">"
     ]
    },
    {
     "cell_type": "markdown",
     "metadata": {},
     "source": [
      "###Contents\n",
      "- [Background](#background)\n",
      "- [Scikit-Learn Interface](#scikit-learn-interface)\n",
      "- [Preliminaries](#preliminaries)"
     ]
    },
    {
     "cell_type": "markdown",
     "metadata": {},
     "source": [
      "###Background\n",
      "[back to top](#contents)\n",
      "\n",
      "Models the probability that Y belongs to a particular category\n",
      "\n",
      "$Pr(default = Yes \\mid balance)$ : probability of default given balance, range between 0 and 1\n",
      "\n",
      "- How to model the relationship \n",
      "\n",
      "$p(X) = Pr(Y = 1 \\mid X)$?\n",
      "\n",
      "- Logistic Function:\n",
      "\n",
      "$p(X) = \\frac {e^{\\beta_0+\\beta_1X}} {1+e^{\\beta_0 + \\beta_1X}}$\n",
      "\n",
      "- To fit the model, we use maximum likelihood\n",
      "\n",
      "$log(\\frac {p(X)}{1-p(X)}) = \\beta_0 + \\beta_1X$\n",
      "\n",
      "- Left-hand side is called the log-odds or logit. Logistic regression has a logit that is linear in X\n",
      "\n",
      "###Estimating the Regression Coefficients\n",
      "- Use maximum likelihood to fit the model\n",
      "- Intuition: We find coefficients such that the model will yield close to 1 for all individuals who defaulted\n",
      "- $\\beta_1$ = 0.5 : meaning 1 unit increase in $X_1$ will increase the log odds of Y by 0.5\n",
      "- $\\beta_0$ is usually not of interest in logistic regression\n",
      "- Uses z-statistic instead of t-statistics - the larger it is, the null hypothesis is not true, significance evidence of relationship\n",
      "\n",
      "###Multiple Logistic Regression\n",
      "\n",
      "$log(\\frac {p(X)}{1-p(X)}) = \\beta_0 + \\beta_1X + ... \\beta_pX_p$\n",
      "\n",
      "- Not a popular technique if there are multiple classes due to confounding\n",
      "- Use other methods like LDA which is popular fo multiple-class classification"
     ]
    },
    {
     "cell_type": "markdown",
     "metadata": {},
     "source": [
      "###Scikit-Learn Interface\n",
      "[back to top](#contents)\n",
      "- **Estimators**\n",
      "    - `model.fit()` - for fitting training data\n",
      "        - supervised: `model.fit(X, y)`\n",
      "        - unsupervised: `model.fit(X)`\n",
      "- **Supervised Estimators**\n",
      "    - `model.predict(X_new)` - given a model, predict the label on a new set of data\n",
      "    - `model.predict_proba()` - for some classifers, returns the probability a new observation has for each categorical label\n",
      "    - `model.score()` - Score between 0 and 1, the higher the better the fit\n",
      "- **Unsupervised Estimators**\n",
      "    - `model.transform(X_new)` - returns the new representation of data based on unsupervised model\n",
      "    - `model.fit_transform()` - performs fit and transform on the input data"
     ]
    },
    {
     "cell_type": "code",
     "collapsed": false,
     "input": [],
     "language": "python",
     "metadata": {},
     "outputs": []
    },
    {
     "cell_type": "code",
     "collapsed": false,
     "input": [],
     "language": "python",
     "metadata": {},
     "outputs": []
    },
    {
     "cell_type": "code",
     "collapsed": false,
     "input": [],
     "language": "python",
     "metadata": {},
     "outputs": []
    },
    {
     "cell_type": "code",
     "collapsed": false,
     "input": [],
     "language": "python",
     "metadata": {},
     "outputs": []
    },
    {
     "cell_type": "code",
     "collapsed": false,
     "input": [],
     "language": "python",
     "metadata": {},
     "outputs": []
    },
    {
     "cell_type": "markdown",
     "metadata": {},
     "source": [
      "###References\n",
      "[back to top](#contents)\n",
      "- [Scikit-Learn Doc](http://scikit-learn.org/stable/modules/linear_model.html#logistic-regression)\n",
      "- [Metacademy](http://www.metacademy.org/graphs/concepts/logistic_regression)\n",
      "- [CS229](http://cs229.stanford.edu/notes/cs229-notes1.pdf#page=16)"
     ]
    },
    {
     "cell_type": "code",
     "collapsed": false,
     "input": [
      "# from IPython.display import display, HTML\n",
      "# display(HTML(open('../style/custom.css').read()))"
     ],
     "language": "python",
     "metadata": {},
     "outputs": []
    }
   ],
   "metadata": {}
  }
 ]
}