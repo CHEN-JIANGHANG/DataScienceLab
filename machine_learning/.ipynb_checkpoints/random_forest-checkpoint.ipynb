{
 "metadata": {
  "name": "",
  "signature": "sha256:010d5b8bc7a3851ef5df4346895252f2f5e826173848cecb5b5c42a506f177db"
 },
 "nbformat": 3,
 "nbformat_minor": 0,
 "worksheets": [
  {
   "cells": [
    {
     "cell_type": "markdown",
     "metadata": {},
     "source": [
      "#<span style=\"background-color:#66FF99\">Random Forest<span/>\n",
      "<img src=\"../images/random_forest.png\" style=\"height:400px\">"
     ]
    },
    {
     "cell_type": "markdown",
     "metadata": {},
     "source": [
      "###Contents\n",
      "- [Background](#background)\n",
      "- [Titanic Dataset](#titanic-dataset)\n",
      "    - [Preliminaries](#preliminaries)\n",
      "    - [Load Data](#load-data)\n",
      "    - [Build Dataframe](#build-dataframe)\n",
      "    - [Train-Test-Split](#train-test-split)\n",
      "    - [Standardized Features](#standardized-features)\n",
      "    - [Choose Estimator](#choose-estimator)\n",
      "    - [Cross-validation Iterator](#cross-validation-iterator)\n",
      "    - [Tune Hyperparameters](#tune-hyperparameters)\n",
      "    - [Model Evaluation](#model-evaluation)\n",
      "        - [Learning Curve](#learning-curve)\n",
      "        - [Confusion Matrix](#confusion-matrix)\n",
      "        - [Precision-Recall](#precision-recall)\n",
      "        - [Prediction Probability](#prediction-probability)\n",
      "        - [ROC](#roc)\n",
      "    - [Final Evaluation - Test Set](#final-evaluation-test-set)\n",
      "    - [Train Final Model - Whole Dataset](#train-final-model-whole-dataset)\n",
      "    - [Models Comparison](#models-comparison)\n",
      "    - [Features Comparison](#features-comparison)"
     ]
    },
    {
     "cell_type": "markdown",
     "metadata": {},
     "source": [
      "###Background\n",
      "[back to top](#contents)\n",
      "\n",
      "###<span style=\"background-color:#FF99FF)\">Basics of Decision Trees</span>\n",
      "* Can be applied to both regression and classification problems\n",
      "\n",
      "###1. Regression Trees\n",
      "- Log a variable so its distribution has more of a typical bell-shape\n",
      "- More interpretable\n",
      "- Process of building a regression tree:\n",
      "    - Divide the data into different non-overlapping regions\n",
      "    - Every observation that falls in a region, we make the same prediction (which is the mean of the response values for training observations in the region\n",
      "- How to divide into different regions?\n",
      "    - Can be any shape but we divide into rectangles and boxes for simplicity\n",
      "    - Goal is to find boxes which minimize the RSS\n",
      "    - Impossible to consider every partition, so we take top-down, greedy approach (recursive binary splitting)\n",
      "    - Top-down: Begins at the top and split into different branches\n",
      "    - Greedy: At each step, best split is made instead of looking ahead and pick 1 which might lead to better\n",
      "- Tree Pruning - build tree once the decrease in RSS due to each split exceeds a threshold\n",
      "- Good strategy would be to grow a very large tree, then prune it to obtain a subtree\n",
      "- What is the best way to prune a tree? Cost complexity pruning (weakest link pruning) -  index by nonnegative tuning parameter $\\alpha$\n",
      "\n",
      "**How to build a regression tree?**\n",
      "- Use recursive binary splitting to grow a large tree. Stop when each terminal node has less than a no. of observations\n",
      "- Apply cost complexity pruning - to get best subtrees as a function of $\\alpha$\n",
      "- Use K-fold CV to choose $\\alpha$ which minimize the average error\n",
      "- Return the subtree from step 2 which uses the chosen value of $\\alpha$\n",
      "     \n",
      "###2. Classification Trees\n",
      "* Predict observation response based on most commonly occuring class of training observations\n",
      "* Same process as regression trees\n",
      "* Cannot use RSS, we use:\n",
      "    1. Classification error rate: Fraction of training observations which do not belong to the most common class\n",
      "    * Gini index: measure of total variance across the K classes (takes on small value when proportion of wrongly classified is small)\n",
      "    * Cross-entropy: Similar to Gini Index, small when error is small\n",
      "* When building a classification tree, Gini or Cross-entropy used to evaluate the quality of particular split\n",
      "* A tree might lead to 2 yes, it just shows the certainty of a yes\n",
      "\n",
      "###3. Trees vs Linear Models\n",
      "* Which is better?\n",
      "    * If relationship between features and responses well-approximated by linear regression, use linear regression\n",
      "    * If highly non-linear and complex relationship, use decision trees\n",
      "    * Use CV to estimate the test error\n",
      "\n",
      "###4. Adv and Disadv of Trees\n",
      "- Easy to explain to people\n",
      "- Closer to mirror human decision-making \n",
      "- Can be displayed graphically, easily interpretable\n",
      "- Can handle qualitative predictors without creating dummy variables\n",
      "- HOWEVER, trees do not have same predictive accuracy (BUT! aggregating many decision trees, we can improve the performance!)\n",
      "\n",
      "###<span style=\"background-color:#FF99FF)\">Bagging, Random Forests, Boosting</span>\n",
      "* Used to construct more powerful prediction models\n",
      "1. Bagging\n",
      "    * Decision trees suffer from high variance\n",
      "    * Bootstrap Aggregating (Bagging) - procedure for reducing the variance\n",
      "    * Averaging a set of observations reduces variance\n",
      "    * Not practical if we do not have access to multiple training sets, therefore use bootstrap by taking repeated sames from 1 training set\n",
      "    * Construct B regression trees using B bootstrapped training sets, and average the predictions\n",
      "    * Applying to classification trees: Use majority vote (predict based on most commonly occuring class among B predictions)\n",
      "    * Straightforward way to estimate test error of a bagged model (without CV): Out-of-Bag Error Estimation\n",
      "    * Use variable importance measures to see which variable is most important (based on decrease in Gini index)\n",
      "* Random Forests\n",
      "    * Improvement over bagged trees by de-correlating the trees\n",
      "    * At each split, algorithm NOT allowed to consider a majority of the available predictors\n",
      "    * RF force each split to consider only a subset of the predictors (decorrelating)\n",
      "    * Main difference between RF and Bagging: Choice of predictor subset size M\n",
      "* Boosting\n",
      "    * Instead of fitting the data hard and potentially overfitting, boosting learns slowly\n",
      "    * Difference between boosting and random forests: in boosting, growth of a particular tree takes into account other trees which have been grown. Smaller trees can aid in interpretability\n"
     ]
    },
    {
     "cell_type": "markdown",
     "metadata": {},
     "source": [
      "#Titanic Dataset\n",
      "[back to top](#contents)"
     ]
    },
    {
     "cell_type": "markdown",
     "metadata": {},
     "source": [
      "###Preliminaries\n",
      "[back to top](#contents)"
     ]
    },
    {
     "cell_type": "code",
     "collapsed": false,
     "input": [
      "%matplotlib inline\n",
      "import pandas as pd\n",
      "import numpy as np\n",
      "import matplotlib.pyplot as plt\n",
      "import seaborn as sns\n",
      "sns.set(style=\"white\")\n",
      "plt.rc(\"figure\", figsize=(10, 6))\n",
      "np.set_printoptions(precision=4)\n",
      "\n",
      "colors = [\"#348ABD\", \"#A60628\", \"#7A68A6\", \"#467821\", \"#D55E00\",\n",
      "          \"#CC79A7\", \"#56B4E9\", \"#009E73\", \"#F0E442\", \"#0072B2\"]\n",
      "\n",
      "import warnings\n",
      "warnings.simplefilter('ignore', DeprecationWarning)"
     ],
     "language": "python",
     "metadata": {},
     "outputs": [],
     "prompt_number": 1
    },
    {
     "cell_type": "markdown",
     "metadata": {},
     "source": [
      "###Load Data\n",
      "[back to top](#contents)"
     ]
    },
    {
     "cell_type": "code",
     "collapsed": false,
     "input": [
      "titanic = pd.read_csv('../data/titanic.csv')\n",
      "titanic.head(2)"
     ],
     "language": "python",
     "metadata": {},
     "outputs": [
      {
       "html": [
        "<div style=\"max-height:1000px;max-width:1500px;overflow:auto;\">\n",
        "<table border=\"1\" class=\"dataframe\">\n",
        "  <thead>\n",
        "    <tr style=\"text-align: right;\">\n",
        "      <th></th>\n",
        "      <th>survived</th>\n",
        "      <th>pclass</th>\n",
        "      <th>sex</th>\n",
        "      <th>age</th>\n",
        "      <th>sibsp</th>\n",
        "      <th>parch</th>\n",
        "      <th>fare</th>\n",
        "      <th>embarked</th>\n",
        "      <th>class</th>\n",
        "      <th>who</th>\n",
        "      <th>adult_male</th>\n",
        "      <th>deck</th>\n",
        "      <th>embark_town</th>\n",
        "      <th>alive</th>\n",
        "      <th>alone</th>\n",
        "    </tr>\n",
        "  </thead>\n",
        "  <tbody>\n",
        "    <tr>\n",
        "      <th>0</th>\n",
        "      <td> 0</td>\n",
        "      <td> 3</td>\n",
        "      <td>   male</td>\n",
        "      <td> 22</td>\n",
        "      <td> 1</td>\n",
        "      <td> 0</td>\n",
        "      <td>  7.2500</td>\n",
        "      <td> S</td>\n",
        "      <td> Third</td>\n",
        "      <td>   man</td>\n",
        "      <td>  True</td>\n",
        "      <td> NaN</td>\n",
        "      <td> Southampton</td>\n",
        "      <td>  no</td>\n",
        "      <td> False</td>\n",
        "    </tr>\n",
        "    <tr>\n",
        "      <th>1</th>\n",
        "      <td> 1</td>\n",
        "      <td> 1</td>\n",
        "      <td> female</td>\n",
        "      <td> 38</td>\n",
        "      <td> 1</td>\n",
        "      <td> 0</td>\n",
        "      <td> 71.2833</td>\n",
        "      <td> C</td>\n",
        "      <td> First</td>\n",
        "      <td> woman</td>\n",
        "      <td> False</td>\n",
        "      <td>   C</td>\n",
        "      <td>   Cherbourg</td>\n",
        "      <td> yes</td>\n",
        "      <td> False</td>\n",
        "    </tr>\n",
        "  </tbody>\n",
        "</table>\n",
        "</div>"
       ],
       "metadata": {},
       "output_type": "pyout",
       "prompt_number": 2,
       "text": [
        "   survived  pclass     sex  age  sibsp  parch     fare embarked  class  \\\n",
        "0         0       3    male   22      1      0   7.2500        S  Third   \n",
        "1         1       1  female   38      1      0  71.2833        C  First   \n",
        "\n",
        "     who adult_male deck  embark_town alive  alone  \n",
        "0    man       True  NaN  Southampton    no  False  \n",
        "1  woman      False    C    Cherbourg   yes  False  "
       ]
      }
     ],
     "prompt_number": 2
    },
    {
     "cell_type": "markdown",
     "metadata": {},
     "source": [
      "###Build Dataframe\n",
      "[back to top](#contents)"
     ]
    },
    {
     "cell_type": "code",
     "collapsed": false,
     "input": [
      "df = titanic\n",
      "# df = df.fillna(df.dropna().median()) #cheating as we using test set to compute\n",
      "features = ['fare', 'pclass', 'age']\n",
      "dummy1 = 'sex'\n",
      "dummy2 = 'embarked'\n",
      "target = 'survived'\n",
      "\n",
      "df_features = pd.concat([df[features],\n",
      "                pd.get_dummies(df[dummy1], prefix=dummy1),\n",
      "                pd.get_dummies(df[dummy2], prefix=dummy2)],\n",
      "                axis=1)\n",
      "\n",
      "df_features = df_features.drop('sex_male', 1) #remove redundant binary feature\n",
      "df_features = df_features.fillna(-1) #to indicate -1 is missing value\n",
      "\n",
      "# df_features.head()\n",
      "df_features.count()"
     ],
     "language": "python",
     "metadata": {},
     "outputs": [
      {
       "metadata": {},
       "output_type": "pyout",
       "prompt_number": 3,
       "text": [
        "fare          891\n",
        "pclass        891\n",
        "age           891\n",
        "sex_female    891\n",
        "embarked_C    891\n",
        "embarked_Q    891\n",
        "embarked_S    891\n",
        "dtype: int64"
       ]
      }
     ],
     "prompt_number": 3
    },
    {
     "cell_type": "code",
     "collapsed": false,
     "input": [
      "X = df_features.values\n",
      "y = df[target].values\n",
      "n_samples, n_features = X.shape\n",
      "print(\"No. of samples = %d\" % n_samples)\n",
      "print(\"No. of features = %d\" % n_features)"
     ],
     "language": "python",
     "metadata": {},
     "outputs": [
      {
       "output_type": "stream",
       "stream": "stdout",
       "text": [
        "No. of samples = 891\n",
        "No. of features = 7\n"
       ]
      }
     ],
     "prompt_number": 4
    },
    {
     "cell_type": "code",
     "collapsed": false,
     "input": [
      "df.hist(column=features, grid=False, color=colors[6])\n",
      "sns.despine();"
     ],
     "language": "python",
     "metadata": {},
     "outputs": [
      {
       "metadata": {},
       "output_type": "display_data",
       "png": "[encoded data removed]",
       "text": [
        "<matplotlib.figure.Figure at 0x1093cfdd0>"
       ]
      }
     ],
     "prompt_number": 5
    },
    {
     "cell_type": "markdown",
     "metadata": {},
     "source": [
      "###Train-Test-Split\n",
      "[back to top](#contents)"
     ]
    },
    {
     "cell_type": "code",
     "collapsed": false,
     "input": [
      "def calibration_plot(clf, xtest, ytest):\n",
      "    prob = clf.predict_proba(X_test)[:, 1]\n",
      "    outcome = ytest\n",
      "    data = pd.DataFrame(dict(prob=prob, outcome=outcome))\n",
      "\n",
      "    bins = np.linspace(0, 1, 20)\n",
      "    cuts = pd.cut(prob, bins)\n",
      "    binwidth = bins[1] - bins[0]\n",
      "    \n",
      "    cal = data.groupby(cuts).outcome.agg(['mean', 'count'])\n",
      "    cal['pmid'] = (bins[:-1] + bins[1:]) / 2\n",
      "    cal['sig'] = np.sqrt(cal.pmid * (1 - cal.pmid) / cal['count'])\n",
      "        \n",
      "    ax = plt.subplot2grid((3, 1), (0, 0), rowspan=2)\n",
      "    p = plt.errorbar(cal.pmid, cal['mean'], cal['sig'])\n",
      "    plt.plot(cal.pmid, cal.pmid, linestyle='--', lw=1, color='k')\n",
      "    plt.ylabel(\"Empirical P(Feature)\")\n",
      "    \n",
      "    ax = plt.subplot2grid((3, 1), (2, 0), sharex=ax)\n",
      "    \n",
      "    plt.bar(left=cal.pmid - binwidth / 2, height=cal['count'],\n",
      "            width=.95 * (bins[1] - bins[0]),\n",
      "            fc=p[0].get_color())\n",
      "    \n",
      "    plt.xlabel(\"Predicted P(Feature)\")\n",
      "    plt.ylabel(\"Number\")"
     ],
     "language": "python",
     "metadata": {},
     "outputs": [],
     "prompt_number": 6
    },
    {
     "cell_type": "code",
     "collapsed": false,
     "input": [
      "from sklearn.cross_validation import train_test_split\n",
      "\n",
      "X_train, X_test, y_train, y_test = train_test_split(X, y, test_size=0.2, random_state=0)\n",
      "\n",
      "print \"Train data shape: %r, Train target shape: %r\" % (X_train.shape, y_train.shape)\n",
      "print \"Test data shape: %r, Test target shape: %r\" % (X_test.shape, y_test.shape)"
     ],
     "language": "python",
     "metadata": {},
     "outputs": [
      {
       "output_type": "stream",
       "stream": "stdout",
       "text": [
        "Train data shape: (712, 7), Train target shape: (712,)\n",
        "Test data shape: (179, 7), Test target shape: (179,)\n"
       ]
      }
     ],
     "prompt_number": 7
    },
    {
     "cell_type": "markdown",
     "metadata": {},
     "source": [
      "###Choose Estimator\n",
      "[back to top](#contents)"
     ]
    },
    {
     "cell_type": "code",
     "collapsed": false,
     "input": [
      "%%time \n",
      "\n",
      "from sklearn.ensemble import RandomForestClassifier\n",
      "\n",
      "clf = RandomForestClassifier(n_estimators=500).fit(X_train, y_train)\n",
      "\n",
      "calibration_plot(clf, X_test, y_test)\n",
      "\n",
      "training_accuracy = clf.score(X_train, y_train)\n",
      "test_accuracy = clf.score(X_test, y_test)\n",
      "\n",
      "print \"Training Score: %0.2f%%\" % (100 * training_accuracy)\n",
      "print \"Test Score: %0.2f%%\" % (100 * test_accuracy)"
     ],
     "language": "python",
     "metadata": {},
     "outputs": [
      {
       "output_type": "stream",
       "stream": "stdout",
       "text": [
        "Training Score: 97.89%\n",
        "Test Score: 82.68%\n",
        "CPU times: user 681 ms, sys: 21.7 ms, total: 703 ms\n",
        "Wall time: 698 ms\n"
       ]
      },
      {
       "metadata": {},
       "output_type": "display_data",
       "png": "[encoded data removed]",
       "text": [
        "<matplotlib.figure.Figure at 0x10a5fcd10>"
       ]
      }
     ],
     "prompt_number": 8
    },
    {
     "cell_type": "markdown",
     "metadata": {},
     "source": [
      "###Cross-validation Iterator\n",
      "[back to top](#contents)"
     ]
    },
    {
     "cell_type": "code",
     "collapsed": false,
     "input": [
      "%%time\n",
      "\n",
      "from sklearn.cross_validation import cross_val_score\n",
      "\n",
      "scores = cross_val_score(clf, \n",
      "                         X, y, \n",
      "                         cv=3)\n",
      "\n",
      "print \"CV Score (min): %0.2f%%\" % (100 * scores.min())\n",
      "print \"CV Score (mean): %0.2f%%\" % (100 * scores.mean())\n",
      "print \"CV Score (max): %0.2f%%\" % (100 * scores.max())"
     ],
     "language": "python",
     "metadata": {},
     "outputs": [
      {
       "output_type": "stream",
       "stream": "stdout",
       "text": [
        "CV Score (min): 77.78%\n",
        "CV Score (mean): 79.46%\n",
        "CV Score (max): 81.48%\n",
        "CPU times: user 1.42 s, sys: 15.9 ms, total: 1.44 s\n",
        "Wall time: 1.44 s\n"
       ]
      }
     ],
     "prompt_number": 9
    },
    {
     "cell_type": "code",
     "collapsed": false,
     "input": [
      "from scipy.stats.kde import gaussian_kde\n",
      "_ = plt.hist(scores, range=(0, 1), bins=30, alpha=0.2)\n",
      "x = np.linspace(0, 1, 1000)\n",
      "smoothed = gaussian_kde(scores).evaluate(x)\n",
      "plt.plot(x, smoothed, color=colors[3], label=\"Smoothed distribution\")\n",
      "top = np.max(smoothed)\n",
      "plt.vlines([np.mean(scores)], 0, top, color=colors[1], label=\"Mean test score\")\n",
      "plt.vlines([np.median(scores)], 0, top, color=colors[0], linestyles='dashed',\n",
      "           label=\"Median test score\")\n",
      "plt.legend(loc='best')\n",
      "_ = plt.title(\"Cross Validated Test scores distribution\")"
     ],
     "language": "python",
     "metadata": {},
     "outputs": [
      {
       "metadata": {},
       "output_type": "display_data",
       "png": "[encoded data removed]",
       "text": [
        "<matplotlib.figure.Figure at 0x10ba53fd0>"
       ]
      }
     ],
     "prompt_number": 10
    },
    {
     "cell_type": "markdown",
     "metadata": {},
     "source": [
      "###PCA Visualization\n",
      "[back to top](#contents)"
     ]
    },
    {
     "cell_type": "code",
     "collapsed": false,
     "input": [
      "# from sklearn.decomposition import TruncatedSVD\n",
      "# pca = TruncatedSVD(n_components=2)\n",
      "\n",
      "from sklearn.decomposition import PCA\n",
      "\n",
      "pca = PCA(n_components=2)\n",
      "X_pca = pca.fit_transform(X_train)\n",
      "\n",
      "X_pca.shape"
     ],
     "language": "python",
     "metadata": {},
     "outputs": [
      {
       "metadata": {},
       "output_type": "pyout",
       "prompt_number": 41,
       "text": [
        "(712, 2)"
       ]
      }
     ],
     "prompt_number": 41
    },
    {
     "cell_type": "code",
     "collapsed": false,
     "input": [
      "plt.scatter(X_pca[:, 0], X_pca[:, 1], c=y_train, edgecolor='none', alpha=0.5,\n",
      "            cmap=plt.cm.get_cmap('nipy_spectral', 2))\n",
      "plt.colorbar();"
     ],
     "language": "python",
     "metadata": {},
     "outputs": [
      {
       "metadata": {},
       "output_type": "display_data",
       "png": "[encoded data removed]",
       "text": [
        "<matplotlib.figure.Figure at 0x10f306c10>"
       ]
      }
     ],
     "prompt_number": 46
    },
    {
     "cell_type": "code",
     "collapsed": false,
     "input": [
      "pca = PCA().fit(X_train)\n",
      "plt.plot(np.cumsum(pca.explained_variance_ratio_))\n",
      "plt.xlabel('No. of components')\n",
      "plt.ylabel('Cumulative explained variance');"
     ],
     "language": "python",
     "metadata": {},
     "outputs": [
      {
       "metadata": {},
       "output_type": "display_data",
       "png": "[encoded data removed]",
       "text": [
        "<matplotlib.figure.Figure at 0x10eebbd90>"
       ]
      }
     ],
     "prompt_number": 47
    },
    {
     "cell_type": "markdown",
     "metadata": {},
     "source": [
      "###Tune Hyperparameters\n",
      "[back to top](#contents)"
     ]
    },
    {
     "cell_type": "code",
     "collapsed": false,
     "input": [
      "clf.get_params()"
     ],
     "language": "python",
     "metadata": {},
     "outputs": [
      {
       "metadata": {},
       "output_type": "pyout",
       "prompt_number": 13,
       "text": [
        "{'bootstrap': True,\n",
        " 'compute_importances': None,\n",
        " 'criterion': 'gini',\n",
        " 'max_depth': None,\n",
        " 'max_features': 'auto',\n",
        " 'max_leaf_nodes': None,\n",
        " 'min_density': None,\n",
        " 'min_samples_leaf': 1,\n",
        " 'min_samples_split': 2,\n",
        " 'n_estimators': 500,\n",
        " 'n_jobs': 1,\n",
        " 'oob_score': False,\n",
        " 'random_state': None,\n",
        " 'verbose': 0}"
       ]
      }
     ],
     "prompt_number": 13
    },
    {
     "cell_type": "code",
     "collapsed": false,
     "input": [
      "from sklearn.pipeline import Pipeline\n",
      "from sklearn.preprocessing import Imputer\n",
      "\n",
      "imputer = Imputer(strategy='mean', missing_values=-1)\n",
      "\n",
      "est = RandomForestClassifier(n_estimators=300)\n",
      "\n",
      "pipeline = Pipeline([\n",
      "    ('imp', imputer),\n",
      "    ('clf', est),\n",
      "])"
     ],
     "language": "python",
     "metadata": {},
     "outputs": [],
     "prompt_number": 14
    },
    {
     "cell_type": "code",
     "collapsed": false,
     "input": [
      "%%time\n",
      "\n",
      "from sklearn.grid_search import GridSearchCV\n",
      "\n",
      "params = {'imp__strategy': ['mean', 'median'],\n",
      "          'clf__max_features': ['sqrt', 'log2'],\n",
      "          'clf__n_estimators': [100, 200, 500, 1000]\n",
      "          }\n",
      "\n",
      "n_subsamples = 100\n",
      "X_small_train, y_small_train = X_train[:n_subsamples], y_train[:n_subsamples]\n",
      "\n",
      "gs = GridSearchCV(pipeline, params, cv=3,\n",
      "                  n_jobs=4,\n",
      "                  verbose=2)\n",
      "\n",
      "_ = gs.fit(X_small_train, y_small_train)\n",
      "\n",
      "print \"GS Best Score: %0.2f%%\" % (100 *  gs.best_score_)\n",
      "print \"GS Best Params:\", gs.best_params_"
     ],
     "language": "python",
     "metadata": {},
     "outputs": [
      {
       "output_type": "stream",
       "stream": "stdout",
       "text": [
        "Fitting 3 folds for each of 16 candidates, totalling 48 fits\n"
       ]
      },
      {
       "output_type": "stream",
       "stream": "stderr",
       "text": [
        "[Parallel(n_jobs=4)]: Done   1 jobs       | elapsed:    0.2s\n",
        "[Parallel(n_jobs=4)]: Done  41 jobs       | elapsed:    5.2s\n",
        "[Parallel(n_jobs=4)]: Done  42 out of  48 | elapsed:    5.2s remaining:    0.7s\n",
        "[Parallel(n_jobs=4)]: Done  48 out of  48 | elapsed:    6.9s finished\n"
       ]
      },
      {
       "output_type": "stream",
       "stream": "stdout",
       "text": [
        "GS Best Score: 68.00%\n",
        "GS Best Params: {'clf__max_features': 'log2', 'imp__strategy': 'mean', 'clf__n_estimators': 500}\n",
        "CPU times: user 508 ms, sys: 39.2 ms, total: 547 ms\n",
        "Wall time: 7.34 s\n",
        "[CV] clf__max_features=sqrt, clf__n_estimators=100, imp__strategy=mean \n",
        "[CV] clf__max_features=sqrt, clf__n_estimators=100, imp__strategy=mean \n",
        "[CV] clf__max_features=sqrt, clf__n_estimators=100, imp__strategy=mean \n",
        "[CV] clf__max_features=sqrt, clf__n_estimators=100, imp__strategy=median \n",
        "[CV]  clf__max_features=sqrt, clf__n_estimators=100, imp__strategy=mean -   0.2s[CV]  clf__max_features=sqrt, clf__n_estimators=100, imp__strategy=mean -   0.2s[CV]  clf__max_features=sqrt, clf__n_estimators=100, imp__strategy=mean -   0.2s[CV]  clf__max_features=sqrt, clf__n_estimators=100, imp__strategy=median -   0.2s\n",
        "\n",
        "\n",
        "\n",
        "[CV] clf__max_features=sqrt, clf__n_estimators=100, imp__strategy=median \n",
        "[CV] clf__max_features=sqrt, clf__n_estimators=200, imp__strategy=mean \n",
        "[CV] clf__max_features=sqrt, clf__n_estimators=100, imp__strategy=median \n",
        "[CV] clf__max_features=sqrt, clf__n_estimators=200, imp__strategy=mean \n",
        "[CV]  clf__max_features=sqrt, clf__n_estimators=100, imp__strategy=median -   0.2s[CV]  clf__max_features=sqrt, clf__n_estimators=200, imp__strategy=mean -   0.3s[CV]  clf__max_features=sqrt, clf__n_estimators=100, imp__strategy=median -   0.2s[CV]  clf__max_features=sqrt, clf__n_estimators=200, imp__strategy=mean -   0.3s\n",
        "\n",
        "\n",
        "\n",
        "[CV] clf__max_features=sqrt, clf__n_estimators=200, imp__strategy=mean \n",
        "[CV] clf__max_features=sqrt, clf__n_estimators=200, imp__strategy=median \n",
        "[CV] clf__max_features=sqrt, clf__n_estimators=200, imp__strategy=median \n",
        "[CV] clf__max_features=sqrt, clf__n_estimators=200, imp__strategy=median \n",
        "[CV]  clf__max_features=sqrt, clf__n_estimators=200, imp__strategy=mean -   0.2s[CV]  clf__max_features=sqrt, clf__n_estimators=200, imp__strategy=median -   0.2s[CV]  clf__max_features=sqrt, clf__n_estimators=200, imp__strategy=median -   0.2s[CV]  clf__max_features=sqrt, clf__n_estimators=200, imp__strategy=median -   0.2s\n",
        "\n",
        "\n",
        "\n",
        "[CV] clf__max_features=sqrt, clf__n_estimators=500, imp__strategy=mean \n",
        "[CV] clf__max_features=sqrt, clf__n_estimators=500, imp__strategy=median \n",
        "[CV] clf__max_features=sqrt, clf__n_estimators=500, imp__strategy=mean \n",
        "[CV] clf__max_features=sqrt, clf__n_estimators=500, imp__strategy=mean \n",
        "[CV]  clf__max_features=sqrt, clf__n_estimators=500, imp__strategy=mean -   0.6s[CV]  clf__max_features=sqrt, clf__n_estimators=500, imp__strategy=median -   0.6s[CV]  clf__max_features=sqrt, clf__n_estimators=500, imp__strategy=mean -   0.6s[CV]  clf__max_features=sqrt, clf__n_estimators=500, imp__strategy=mean -   0.6s\n",
        "\n",
        "\n",
        "\n",
        "[CV] clf__max_features=sqrt, clf__n_estimators=500, imp__strategy=median \n",
        "[CV] clf__max_features=sqrt, clf__n_estimators=1000, imp__strategy=mean \n",
        "[CV] clf__max_features=sqrt, clf__n_estimators=500, imp__strategy=median \n",
        "[CV] clf__max_features=sqrt, clf__n_estimators=1000, imp__strategy=mean \n",
        "[CV]  clf__max_features=sqrt, clf__n_estimators=500, imp__strategy=median -   0.7s[CV]  clf__max_features=sqrt, clf__n_estimators=1000, imp__strategy=mean -   1.2s[CV]  clf__max_features=sqrt, clf__n_estimators=500, imp__strategy=median -   0.7s[CV]  clf__max_features=sqrt, clf__n_estimators=1000, imp__strategy=mean -   1.2s\n",
        "\n",
        "\n",
        "\n",
        "[CV] clf__max_features=sqrt, clf__n_estimators=1000, imp__strategy=mean \n",
        "[CV] clf__max_features=sqrt, clf__n_estimators=1000, imp__strategy=median \n",
        "[CV] clf__max_features=sqrt, clf__n_estimators=1000, imp__strategy=median \n",
        "[CV] clf__max_features=sqrt, clf__n_estimators=1000, imp__strategy=median \n",
        "[CV]  clf__max_features=sqrt, clf__n_estimators=1000, imp__strategy=mean -   1.2s[CV]  clf__max_features=sqrt, clf__n_estimators=1000, imp__strategy=median -   1.2s[CV]  clf__max_features=sqrt, clf__n_estimators=1000, imp__strategy=median -   1.2s[CV]  clf__max_features=sqrt, clf__n_estimators=1000, imp__strategy=median -   1.2s\n",
        "\n",
        "\n",
        "\n",
        "[CV] clf__max_features=log2, clf__n_estimators=100, imp__strategy=mean \n",
        "[CV] clf__max_features=log2, clf__n_estimators=200, imp__strategy=median \n",
        "[CV] clf__max_features=log2, clf__n_estimators=100, imp__strategy=mean \n",
        "[CV] clf__max_features=log2, clf__n_estimators=200, imp__strategy=median \n",
        "[CV]  clf__max_features=log2, clf__n_estimators=100, imp__strategy=mean -   0.1s[CV]  clf__max_features=log2, clf__n_estimators=200, imp__strategy=median -   0.3s[CV]  clf__max_features=log2, clf__n_estimators=100, imp__strategy=mean -   0.1s[CV]  clf__max_features=log2, clf__n_estimators=200, imp__strategy=median -   0.3s\n",
        "\n",
        "\n",
        "\n",
        "[CV] clf__max_features=log2, clf__n_estimators=100, imp__strategy=mean \n",
        "[CV] clf__max_features=log2, clf__n_estimators=500, imp__strategy=median \n",
        "[CV] clf__max_features=log2, clf__n_estimators=100, imp__strategy=median \n",
        "[CV] clf__max_features=log2, clf__n_estimators=500, imp__strategy=mean \n",
        "[CV]  clf__max_features=log2, clf__n_estimators=100, imp__strategy=mean -   0.1s[CV]  clf__max_features=log2, clf__n_estimators=500, imp__strategy=median -   0.6s[CV]  clf__max_features=log2, clf__n_estimators=100, imp__strategy=median -   0.1s[CV]  clf__max_features=log2, clf__n_estimators=500, imp__strategy=mean -   0.6s\n",
        "\n",
        "\n",
        "\n",
        "[CV] clf__max_features=log2, clf__n_estimators=100, imp__strategy=median \n",
        "[CV] clf__max_features=log2, clf__n_estimators=1000, imp__strategy=mean \n",
        "[CV] clf__max_features=log2, clf__n_estimators=100, imp__strategy=median \n",
        "[CV] clf__max_features=log2, clf__n_estimators=1000, imp__strategy=mean \n",
        "[CV]  clf__max_features=log2, clf__n_estimators=100, imp__strategy=median -   0.1s[CV]  clf__max_features=log2, clf__n_estimators=1000, imp__strategy=mean -   1.2s[CV]  clf__max_features=log2, clf__n_estimators=100, imp__strategy=median -   0.1s[CV]  clf__max_features=log2, clf__n_estimators=1000, imp__strategy=mean -   1.2s\n",
        "\n",
        "\n",
        "\n",
        "[CV] clf__max_features=log2, clf__n_estimators=200, imp__strategy=mean \n",
        "[CV] clf__max_features=log2, clf__n_estimators=1000, imp__strategy=median \n",
        "[CV] clf__max_features=log2, clf__n_estimators=200, imp__strategy=mean \n",
        "[CV] clf__max_features=log2, clf__n_estimators=1000, imp__strategy=median \n",
        "[CV]  clf__max_features=log2, clf__n_estimators=200, imp__strategy=mean -   0.2s[CV]  clf__max_features=log2, clf__n_estimators=1000, imp__strategy=median -   1.0s[CV]  clf__max_features=log2, clf__n_estimators=200, imp__strategy=mean -   0.2s[CV]  clf__max_features=log2, clf__n_estimators=1000, imp__strategy=median -   1.0s\n",
        "\n",
        "\n",
        "\n",
        "[CV] clf__max_features=log2, clf__n_estimators=200, imp__strategy=mean \n",
        "[CV] clf__max_features=log2, clf__n_estimators=200, imp__strategy=median \n",
        "[CV]  clf__max_features=log2, clf__n_estimators=200, imp__strategy=mean -   0.3s[CV]  clf__max_features=log2, clf__n_estimators=200, imp__strategy=median -   0.3s\n",
        "\n",
        "[CV] clf__max_features=log2, clf__n_estimators=500, imp__strategy=mean \n",
        "[CV] clf__max_features=log2, clf__n_estimators=500, imp__strategy=mean \n",
        "[CV]  clf__max_features=log2, clf__n_estimators=500, imp__strategy=mean -   0.6s[CV]  clf__max_features=log2, clf__n_estimators=500, imp__strategy=mean -   0.6s\n",
        "\n",
        "[CV] clf__max_features=log2, clf__n_estimators=500, imp__strategy=median \n",
        "[CV] clf__max_features=log2, clf__n_estimators=500, imp__strategy=median \n",
        "[CV]  clf__max_features=log2, clf__n_estimators=500, imp__strategy=median -   0.6s[CV]  clf__max_features=log2, clf__n_estimators=500, imp__strategy=median -   0.6s\n",
        "\n",
        "[CV] clf__max_features=log2, clf__n_estimators=1000, imp__strategy=mean \n",
        "[CV] clf__max_features=log2, clf__n_estimators=1000, imp__strategy=median \n",
        "[CV]  clf__max_features=log2, clf__n_estimators=1000, imp__strategy=mean -   1.2s[CV]  clf__max_features=log2, clf__n_estimators=1000, imp__strategy=median -   1.2s\n",
        "\n"
       ]
      }
     ],
     "prompt_number": 15
    },
    {
     "cell_type": "markdown",
     "metadata": {},
     "source": [
      "###Refit Model - Best Params\n",
      "[back to top](#contents)"
     ]
    },
    {
     "cell_type": "code",
     "collapsed": false,
     "input": [
      "X_train, X_test, y_train, y_test = train_test_split(X, y, test_size=0.2, random_state=0)\n",
      "\n",
      "pipeline.set_params(**gs.best_params_)\n",
      "est.fit(X_train, y_train)\n",
      "\n",
      "training_accuracy = clf.score(X_train, y_train)\n",
      "test_accuracy = clf.score(X_test, y_test)\n",
      "\n",
      "print \"Training Score: %0.2f%%\" % (100 * training_accuracy)\n",
      "print \"Test Score: %0.2f%%\" % (100 * test_accuracy)"
     ],
     "language": "python",
     "metadata": {},
     "outputs": [
      {
       "output_type": "stream",
       "stream": "stdout",
       "text": [
        "Training Score: 97.89%\n",
        "Test Score: 82.68%\n"
       ]
      }
     ],
     "prompt_number": 16
    },
    {
     "cell_type": "code",
     "collapsed": false,
     "input": [
      "# sorted(gs.grid_scores_, \n",
      "#        key=lambda x: x.mean_validation_score, \n",
      "#        reverse=True)"
     ],
     "language": "python",
     "metadata": {},
     "outputs": [],
     "prompt_number": 17
    },
    {
     "cell_type": "markdown",
     "metadata": {},
     "source": [
      "###Model Evaluation\n",
      "[back to top](#contents)"
     ]
    },
    {
     "cell_type": "markdown",
     "metadata": {},
     "source": [
      "####Learning Curve\n",
      "[back to top](#contents)"
     ]
    },
    {
     "cell_type": "code",
     "collapsed": false,
     "input": [
      "def LearningCurve(model, title, X, y):\n",
      "    plt.figure()\n",
      "    plt.xlabel(\"Training examples\")\n",
      "    plt.ylabel(\"Score\")\n",
      "    train_sizes, train_scores, test_scores = learning_curve(model, X, y)\n",
      "    train_scores_mean = np.mean(train_scores, axis=1)\n",
      "    train_scores_std = np.std(train_scores, axis=1)\n",
      "    test_scores_mean = np.mean(test_scores, axis=1)\n",
      "    test_scores_std = np.std(test_scores, axis=1)\n",
      "    plt.grid()\n",
      "    plt.fill_between(train_sizes, train_scores_mean - train_scores_std, \n",
      "                     train_scores_mean + train_scores_std, alpha=0.1,color=\"r\")\n",
      "    plt.fill_between(train_sizes, test_scores_mean - test_scores_std,\n",
      "                     test_scores_mean + test_scores_std, alpha=0.1, color=\"g\")\n",
      "    plt.plot(train_sizes, train_scores_mean, 'o-', color=\"r\",label=\"Training score\")\n",
      "    plt.plot(train_sizes, test_scores_mean, 'o-', color=\"g\",label=\"Cross-validation score\")\n",
      "    plt.title(title)\n",
      "    plt.legend(loc=\"best\")\n",
      "    return plt"
     ],
     "language": "python",
     "metadata": {},
     "outputs": [],
     "prompt_number": 18
    },
    {
     "cell_type": "code",
     "collapsed": false,
     "input": [
      "from sklearn.learning_curve import learning_curve\n",
      "\n",
      "title = \"Learning Curves (Best Params)\"\n",
      "\n",
      "LearningCurve(est, title, X, y);"
     ],
     "language": "python",
     "metadata": {},
     "outputs": [
      {
       "metadata": {},
       "output_type": "display_data",
       "png": "[encoded data removed]",
       "text": [
        "<matplotlib.figure.Figure at 0x10b9eb450>"
       ]
      }
     ],
     "prompt_number": 19
    },
    {
     "cell_type": "markdown",
     "metadata": {},
     "source": [
      "####Validation Curve\n",
      "[back to top](#contents)"
     ]
    },
    {
     "cell_type": "code",
     "collapsed": false,
     "input": [
      "# %%time\n",
      "\n",
      "from sklearn.learning_curve import validation_curve\n",
      "\n",
      "param = \"n_estimators\"\n",
      "param_range = [10, 100, 200, 500, 1000, 2000, 3000]\n",
      "\n",
      "train_scores, validation_scores = validation_curve(est, X, y,\n",
      "                                                   param,\n",
      "                                                   param_range,\n",
      "                                                   cv=3,\n",
      "                                                   n_jobs=4\n",
      "                                                   )\n",
      "\n",
      "plt.semilogx(param_range, train_scores.mean(axis=1), 'o-', color=colors[1], label='Training score')\n",
      "plt.semilogx(param_range, validation_scores.mean(axis=1), 'o-', color=colors[3], label='Cross-validation score')\n",
      "plt.legend(loc='best')\n",
      "plt.xlabel(param)\n",
      "_ = plt.title('Validation curves');"
     ],
     "language": "python",
     "metadata": {},
     "outputs": [
      {
       "metadata": {},
       "output_type": "display_data",
       "png": "[encoded data removed]",
       "text": [
        "<matplotlib.figure.Figure at 0x10bd433d0>"
       ]
      }
     ],
     "prompt_number": 22
    },
    {
     "cell_type": "markdown",
     "metadata": {},
     "source": [
      "####Confusion Matrix\n",
      "[back to top](#contents)"
     ]
    },
    {
     "cell_type": "code",
     "collapsed": false,
     "input": [
      "from sklearn.metrics import confusion_matrix\n",
      "\n",
      "predicted = est.predict(X_test)\n",
      "cm = confusion_matrix(y_test, predicted)\n",
      "cm_normalized = cm.astype(np.float64) / cm.sum(axis=1)\n",
      "\n",
      "print cm_normalized\n",
      "sns.heatmap(cm, annot=True,  fmt='', cmap='Blues')\n",
      "plt.ylabel('True label')\n",
      "plt.xlabel('Predicted label');"
     ],
     "language": "python",
     "metadata": {},
     "outputs": [
      {
       "output_type": "stream",
       "stream": "stdout",
       "text": [
        "[[ 0.9091  0.1449]\n",
        " [ 0.1818  0.7101]]\n"
       ]
      },
      {
       "metadata": {},
       "output_type": "display_data",
       "png": "[encoded data removed]",
       "text": [
        "<matplotlib.figure.Figure at 0x10bd86890>"
       ]
      }
     ],
     "prompt_number": 23
    },
    {
     "cell_type": "markdown",
     "metadata": {},
     "source": [
      "####Precision-Recall\n",
      "[back to top](#contents)"
     ]
    },
    {
     "cell_type": "code",
     "collapsed": false,
     "input": [
      "from sklearn.metrics import classification_report\n",
      "\n",
      "print(classification_report(y_test, predicted,\n",
      "                            target_names=['not survived', 'survived']))"
     ],
     "language": "python",
     "metadata": {},
     "outputs": [
      {
       "output_type": "stream",
       "stream": "stdout",
       "text": [
        "              precision    recall  f1-score   support\n",
        "\n",
        "not survived       0.83      0.91      0.87       110\n",
        "    survived       0.83      0.71      0.77        69\n",
        "\n",
        " avg / total       0.83      0.83      0.83       179\n",
        "\n"
       ]
      }
     ],
     "prompt_number": 25
    },
    {
     "cell_type": "markdown",
     "metadata": {},
     "source": [
      "####Prediction Probability\n",
      "[back to top](#contents)"
     ]
    },
    {
     "cell_type": "code",
     "collapsed": false,
     "input": [
      "predicted_proba = est.predict_proba(X_test)\n",
      "predicted_proba[:5]"
     ],
     "language": "python",
     "metadata": {},
     "outputs": [
      {
       "metadata": {},
       "output_type": "pyout",
       "prompt_number": 26,
       "text": [
        "array([[ 0.378 ,  0.622 ],\n",
        "       [ 0.7297,  0.2703],\n",
        "       [ 0.988 ,  0.012 ],\n",
        "       [ 0.076 ,  0.924 ],\n",
        "       [ 0.66  ,  0.34  ]])"
       ]
      }
     ],
     "prompt_number": 26
    },
    {
     "cell_type": "markdown",
     "metadata": {},
     "source": [
      "####ROC\n",
      "[back to top](#contents)"
     ]
    },
    {
     "cell_type": "code",
     "collapsed": false,
     "input": [
      "from sklearn.metrics import roc_curve\n",
      "from sklearn.metrics import auc\n",
      "\n",
      "def plot_roc_curve(y_test, y_pred_proba):\n",
      "    fpr, tpr, thresholds = roc_curve(y_test, y_pred_proba[:, 1])\n",
      "    \n",
      "    roc_auc = auc(fpr, tpr)\n",
      "    plt.plot(fpr, tpr, label='ROC curve (area = %0.3f)' % roc_auc)\n",
      "    plt.plot([0, 1], [0, 1], 'k--')\n",
      "    plt.xlim([0.0, 1.0])\n",
      "    plt.ylim([0.0, 1.0])\n",
      "    plt.xlabel('False Positive Rate or (1 - Specificity)')\n",
      "    plt.ylabel('True Positive Rate or (Sensitivity)')\n",
      "    plt.title('Receiver Operating Characteristic')\n",
      "    plt.legend(loc=\"lower right\")"
     ],
     "language": "python",
     "metadata": {},
     "outputs": [],
     "prompt_number": 27
    },
    {
     "cell_type": "code",
     "collapsed": false,
     "input": [
      "plot_roc_curve(y_test, predicted_proba)"
     ],
     "language": "python",
     "metadata": {},
     "outputs": [
      {
       "metadata": {},
       "output_type": "display_data",
       "png": "[encoded data removed]",
       "text": [
        "<matplotlib.figure.Figure at 0x10ba7b210>"
       ]
      }
     ],
     "prompt_number": 28
    },
    {
     "cell_type": "markdown",
     "metadata": {},
     "source": [
      "###Features Importance\n",
      "[back to top](#contents)"
     ]
    },
    {
     "cell_type": "code",
     "collapsed": false,
     "input": [
      "fx_imp = pd.Series(est.feature_importances_, index=df_features.columns)\n",
      "fx_imp /= fx_imp.max() # normalize\n",
      "fx_imp.sort()\n",
      "fx_imp.plot(kind='barh', color=colors[6])"
     ],
     "language": "python",
     "metadata": {},
     "outputs": [
      {
       "metadata": {},
       "output_type": "pyout",
       "prompt_number": 29,
       "text": [
        "<matplotlib.axes._subplots.AxesSubplot at 0x10b9a4850>"
       ]
      },
      {
       "metadata": {},
       "output_type": "display_data",
       "png": "[encoded data removed]",
       "text": [
        "<matplotlib.figure.Figure at 0x10962b110>"
       ]
      }
     ],
     "prompt_number": 29
    },
    {
     "cell_type": "markdown",
     "metadata": {},
     "source": [
      "###Final Evaluation - Test Set\n",
      "[back to top](#contents)"
     ]
    },
    {
     "cell_type": "code",
     "collapsed": false,
     "input": [
      "print \"Final Score on Test set: %0.2f%%\" % (100 * est.score(X_test, y_test))"
     ],
     "language": "python",
     "metadata": {},
     "outputs": [
      {
       "output_type": "stream",
       "stream": "stdout",
       "text": [
        "Final Score on Test set: 83.24%\n"
       ]
      }
     ],
     "prompt_number": 30
    },
    {
     "cell_type": "markdown",
     "metadata": {},
     "source": [
      "###Train Final Model - Whole Dataset\n",
      "[back to top](#contents)"
     ]
    },
    {
     "cell_type": "code",
     "collapsed": false,
     "input": [
      "%%time\n",
      "# est.fit(X, y)"
     ],
     "language": "python",
     "metadata": {},
     "outputs": []
    },
    {
     "cell_type": "markdown",
     "metadata": {},
     "source": [
      "###Models Comparison\n",
      "[back to top](#contents)"
     ]
    },
    {
     "cell_type": "code",
     "collapsed": false,
     "input": [
      "%%time\n",
      "\n",
      "from sklearn.linear_model import LogisticRegression\n",
      "\n",
      "logreg = LogisticRegression(C=1)\n",
      "\n",
      "scores = cross_val_score(logreg, X, y, \n",
      "                         cv=3, \n",
      "                         n_jobs=2,\n",
      "                         scoring='accuracy')\n",
      "\n",
      "print \"Logistic Regression CV scores:\"\n",
      "print \"CV Score (min): %0.2f%%\" % (100 * scores.min())\n",
      "print \"CV Score (mean): %0.2f%%\" % (100 * scores.mean())\n",
      "print \"CV Score (max): %0.2f%%\" % (100 * scores.max())"
     ],
     "language": "python",
     "metadata": {},
     "outputs": [
      {
       "output_type": "stream",
       "stream": "stdout",
       "text": [
        "Logistic Regression CV scores:\n",
        "CV Score (min): 77.10%\n",
        "CV Score (mean): 77.67%\n",
        "CV Score (max): 78.11%\n",
        "CPU times: user 57.7 ms, sys: 15.2 ms, total: 72.9 ms\n",
        "Wall time: 170 ms\n"
       ]
      }
     ],
     "prompt_number": 31
    },
    {
     "cell_type": "code",
     "collapsed": false,
     "input": [
      "%%time\n",
      "\n",
      "from sklearn.ensemble import GradientBoostingClassifier\n",
      "\n",
      "gb =  GradientBoostingClassifier(n_estimators=300)\n",
      "\n",
      "scores = cross_val_score(gb, X, y, \n",
      "                         cv=3, \n",
      "                         n_jobs=2,\n",
      "                         scoring='accuracy')\n",
      "\n",
      "print \"Gradient Boosted Regression Trees CV scores:\"\n",
      "print \"CV Score (min): %0.2f%%\" % (100 * scores.min())\n",
      "print \"CV Score (mean): %0.2f%%\" % (100 * scores.mean())\n",
      "print \"CV Score (max): %0.2f%%\" % (100 * scores.max())"
     ],
     "language": "python",
     "metadata": {},
     "outputs": [
      {
       "output_type": "stream",
       "stream": "stdout",
       "text": [
        "Gradient Boosted Regression Trees CV scores:\n",
        "CV Score (min): 77.78%\n",
        "CV Score (mean): 80.02%\n",
        "CV Score (max): 81.82%\n",
        "CPU times: user 59.2 ms, sys: 23.9 ms, total: 83.1 ms\n",
        "Wall time: 677 ms\n"
       ]
      }
     ],
     "prompt_number": 32
    },
    {
     "cell_type": "code",
     "collapsed": false,
     "input": [
      "%%time\n",
      "\n",
      "from sklearn.linear_model import SGDClassifier\n",
      "\n",
      "sgd = SGDClassifier()\n",
      "\n",
      "scores = cross_val_score(sgd, X, y, \n",
      "                         cv=3, \n",
      "                         n_jobs=2,\n",
      "                         scoring='accuracy')\n",
      "\n",
      "print \"SGD Classifer CV scores:\"\n",
      "print \"CV Score (min): %0.2f%%\" % (100 * scores.min())\n",
      "print \"CV Score (mean): %0.2f%%\" % (100 * scores.mean())\n",
      "print \"CV Score (max): %0.2f%%\" % (100 * scores.max())"
     ],
     "language": "python",
     "metadata": {},
     "outputs": [
      {
       "output_type": "stream",
       "stream": "stdout",
       "text": [
        "SGD Classifer CV scores:\n",
        "CV Score (min): 57.58%\n",
        "CV Score (mean): 61.62%\n",
        "CV Score (max): 65.66%\n",
        "CPU times: user 55.4 ms, sys: 19.9 ms, total: 75.3 ms\n",
        "Wall time: 164 ms\n"
       ]
      }
     ],
     "prompt_number": 33
    },
    {
     "cell_type": "markdown",
     "metadata": {},
     "source": [
      "###Features Comparison\n",
      "[back to top](#contents)"
     ]
    },
    {
     "cell_type": "code",
     "collapsed": false,
     "input": [
      "logreg.fit(X, y)\n",
      "gb.fit(X, y)\n",
      "sgd.fit(X, y)\n",
      "\n",
      "x = np.arange(len(df_features.columns))\n",
      "plt.bar(x, logreg.coef_.ravel(), color=\"#F08080\")\n",
      "_ = plt.xticks(x + 0.5, df_features.columns)\n",
      "plt.title('Logistic Regression: Coefficients')\n",
      "sns.despine()\n",
      "plt.figure()\n",
      "\n",
      "x = np.arange(len(df_features.columns))\n",
      "plt.bar(x, sgd.coef_.ravel(), color=\"#F08080\")\n",
      "_ = plt.xticks(x + 0.5, df_features.columns)\n",
      "plt.title('SGD: Coefficients')\n",
      "sns.despine()\n",
      "plt.figure()\n",
      "\n",
      "x = np.arange(len(df_features.columns))\n",
      "plt.bar(x, gb.feature_importances_)\n",
      "_ = plt.xticks(x + 0.5, df_features.columns)\n",
      "plt.title('GB: Feature Importance')\n",
      "sns.despine()\n",
      "plt.figure()\n",
      "\n",
      "# plt.tight_layout();"
     ],
     "language": "python",
     "metadata": {},
     "outputs": [
      {
       "metadata": {},
       "output_type": "display_data",
       "png": "[encoded data removed]",
       "text": [
        "<matplotlib.figure.Figure at 0x10b95c610>"
       ]
      },
      {
       "metadata": {},
       "output_type": "display_data",
       "png": "[encoded data removed]",
       "text": [
        "<matplotlib.figure.Figure at 0x10bd78810>"
       ]
      },
      {
       "metadata": {},
       "output_type": "display_data",
       "png": "[encoded data removed]",
       "text": [
        "<matplotlib.figure.Figure at 0x103c4d090>"
       ]
      },
      {
       "metadata": {},
       "output_type": "display_data",
       "text": [
        "<matplotlib.figure.Figure at 0x10b92df10>"
       ]
      }
     ],
     "prompt_number": 34
    },
    {
     "cell_type": "code",
     "collapsed": false,
     "input": [
      "from IPython.display import display, HTML\n",
      "display(HTML(open('../style/custom.css').read()))"
     ],
     "language": "python",
     "metadata": {},
     "outputs": [
      {
       "html": [
        "<style>\n",
        "    @font-face {\n",
        "        font-family: \"Computer Modern\";\n",
        "        src: url('http://9dbb143991406a7c655e-aa5fcb0a5a4ec34cff238a2d56ca4144.r56.cf5.rackcdn.com/cmunss.otf');\n",
        "    }\n",
        "    @font-face {\n",
        "        font-family: \"Computer Modern\";\n",
        "        font-weight: bold;\n",
        "        src: url('http://9dbb143991406a7c655e-aa5fcb0a5a4ec34cff238a2d56ca4144.r56.cf5.rackcdn.com/cmunsx.otf');\n",
        "    }\n",
        "    @font-face {\n",
        "        font-family: \"Computer Modern\";\n",
        "        font-style: oblique;\n",
        "        src: url('http://9dbb143991406a7c655e-aa5fcb0a5a4ec34cff238a2d56ca4144.r56.cf5.rackcdn.com/cmunsi.otf');\n",
        "    }\n",
        "    @font-face {\n",
        "        font-family: \"Computer Modern\";\n",
        "        font-weight: bold;\n",
        "        font-style: oblique;\n",
        "        src: url('http://9dbb143991406a7c655e-aa5fcb0a5a4ec34cff238a2d56ca4144.r56.cf5.rackcdn.com/cmunso.otf');\n",
        "    }\n",
        "    div.cell{\n",
        "        width:800px;\n",
        "        margin-left:16% !important;\n",
        "        margin-right:auto;\n",
        "    }\n",
        "    h1 {\n",
        "        font-family: Helvetica, serif;\n",
        "    }\n",
        "    h4{\n",
        "        margin-top:12px;\n",
        "        margin-bottom: 3px;\n",
        "       }\n",
        "    div.text_cell_render{\n",
        "        font-family: Computer Modern, \"Helvetica Neue\", Arial, Helvetica, Geneva, sans-serif;\n",
        "        line-height: 145%;\n",
        "        font-size: 130%;\n",
        "        width:800px;\n",
        "        margin-left:auto;\n",
        "        margin-right:auto;\n",
        "    }\n",
        "    .CodeMirror{\n",
        "            font-family: \"Source Code Pro\", source-code-pro,Consolas, monospace;\n",
        "    }\n",
        "    .prompt{\n",
        "        display: None;\n",
        "    }\n",
        "    .text_cell_render h5 {\n",
        "        font-weight: 300;\n",
        "        font-size: 22pt;\n",
        "        color: #4057A1;\n",
        "        font-style: italic;\n",
        "        margin-bottom: .5em;\n",
        "        margin-top: 0.5em;\n",
        "        display: block;\n",
        "    }\n",
        "    \n",
        "    .warning{\n",
        "        color: rgb( 240, 20, 20 )\n",
        "        }  \n",
        "</style>\n",
        "<script>\n",
        "    MathJax.Hub.Config({\n",
        "                        TeX: {\n",
        "                           extensions: [\"AMSmath.js\"]\n",
        "                           },\n",
        "                tex2jax: {\n",
        "                    inlineMath: [ ['$','$'], [\"\\\\(\",\"\\\\)\"] ],\n",
        "                    displayMath: [ ['$$','$$'], [\"\\\\[\",\"\\\\]\"] ]\n",
        "                },\n",
        "                displayAlign: 'center', // Change this to 'center' to center equations.\n",
        "                \"HTML-CSS\": {\n",
        "                    styles: {'.MathJax_Display': {\"margin\": 4}}\n",
        "                }\n",
        "        });\n",
        "</script>\n"
       ],
       "metadata": {},
       "output_type": "display_data",
       "text": [
        "<IPython.core.display.HTML at 0x10bd8f890>"
       ]
      }
     ],
     "prompt_number": 35
    }
   ],
   "metadata": {}
  }
 ]
}