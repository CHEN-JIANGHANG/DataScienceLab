{
 "metadata": {
  "name": "",
  "signature": "sha256:1e7d85f98c38c8730fbab79b46a4fdd63853a6fea9ddb5d83aa123658e0b233e"
 },
 "nbformat": 3,
 "nbformat_minor": 0,
 "worksheets": [
  {
   "cells": [
    {
     "cell_type": "markdown",
     "metadata": {},
     "source": [
      "#<span style=\"background-color:#66FF99\">Data Visualization<span/>\n",
      "<img src=\"../images/data_viz.png\">"
     ]
    },
    {
     "cell_type": "markdown",
     "metadata": {},
     "source": [
      "###Contents\n",
      "- [Preliminaries](#preliminaries)\n",
      "- [Load Datasets](#load-datasets)\n",
      "- [Set Palettes](#set-palettes)\n",
      "- [Factorplot](#factorplot)\n",
      "- [Histograms](#histograms)\n",
      "- [Joint Plot](#joint-plot)\n",
      "- [Distribution Plot](#distribution-plot)\n",
      "- [Boxplot](#boxplot)\n",
      "- [Violinplot](#violinplot)\n",
      "- [Pairplot](#pairplot)\n",
      "- [Scatter-Matrix](#scatter-matrix)\n",
      "- [Correlation Plot](#correlation-plot)\n",
      "- [Linear Regression Plot](#linear-regression-plot)\n",
      "- [Linear Model Parameters](#linear-model-parameters)\n",
      "- [Logistic Regression Plot](#logistic-regression-plot)\n",
      "- [Appendix](#appendix)\n",
      "- [Miscellaneous Notes](#miscellaneous-notes)\n",
      "- [References](#references)"
     ]
    },
    {
     "cell_type": "markdown",
     "metadata": {},
     "source": [
      "###Preliminaries\n",
      "[back to top](#contents)"
     ]
    },
    {
     "cell_type": "code",
     "collapsed": false,
     "input": [
      "%matplotlib inline\n",
      "import pandas as pd\n",
      "import numpy as np\n",
      "import matplotlib.pyplot as plt\n",
      "import seaborn as sns\n",
      "sns.set(style=\"white\")\n",
      "plt.rc(\"figure\", figsize=(10, 6))\n",
      "np.set_printoptions(precision=4)\n",
      "\n",
      "from scipy import stats"
     ],
     "language": "python",
     "metadata": {},
     "outputs": []
    },
    {
     "cell_type": "markdown",
     "metadata": {},
     "source": [
      "###Load Datasets\n",
      "[back to top](#contents)"
     ]
    },
    {
     "cell_type": "code",
     "collapsed": false,
     "input": [
      "tips = pd.read_csv('../data/tips.csv')\n",
      "iris = pd.read_csv('../data/iris.csv')\n",
      "titanic = pd.read_csv('../data/titanic.csv')"
     ],
     "language": "python",
     "metadata": {},
     "outputs": []
    },
    {
     "cell_type": "code",
     "collapsed": false,
     "input": [
      "tips.head()"
     ],
     "language": "python",
     "metadata": {},
     "outputs": []
    },
    {
     "cell_type": "code",
     "collapsed": false,
     "input": [
      "iris.head()"
     ],
     "language": "python",
     "metadata": {},
     "outputs": []
    },
    {
     "cell_type": "code",
     "collapsed": false,
     "input": [
      "def woman_child_or_man(passenger):\n",
      "    age, sex = passenger\n",
      "    if age < 16:\n",
      "        return \"child\"\n",
      "    else:\n",
      "        return dict(male=\"man\", female=\"woman\")[sex]\n",
      "\n",
      "titanic[\"who\"] = titanic[[\"age\", \"sex\"]].apply(woman_child_or_man, axis=1)\n",
      "titanic.head()"
     ],
     "language": "python",
     "metadata": {},
     "outputs": []
    },
    {
     "cell_type": "markdown",
     "metadata": {},
     "source": [
      "###Set Palettes\n",
      "[back to top](#contents)"
     ]
    },
    {
     "cell_type": "code",
     "collapsed": false,
     "input": [
      "pal_titanic = dict(man=\"#4682B4\", woman=\"#CD5C5C\", child=\"#2E8B57\", male=\"#6495ED\", female=\"#F08080\")\n",
      "pal_tips = dict(Male=\"#6495ED\", Female=\"#F08080\")\n",
      "pal_iris = dict(setosa=\"#4682B4\", versicolor=\"#CD5C5C\", virginica=\"#2E8B57\")"
     ],
     "language": "python",
     "metadata": {},
     "outputs": []
    },
    {
     "cell_type": "markdown",
     "metadata": {},
     "source": [
      "###Factorplot\n",
      "[back to top](#contents)"
     ]
    },
    {
     "cell_type": "code",
     "collapsed": false,
     "input": [
      "df = titanic\n",
      "data1 = \"class\" #Categorical\n",
      "\n",
      "sns.factorplot(data1, data=df, palette=\"PuBu_d\");"
     ],
     "language": "python",
     "metadata": {},
     "outputs": []
    },
    {
     "cell_type": "code",
     "collapsed": false,
     "input": [
      "df = titanic\n",
      "data1 = \"survived\" #Categorical\n",
      "data2 = \"sex\" #Categorical - count\n",
      "\n",
      "sns.factorplot(data1, data=df, hue=data2, palette=\"PuBu_d\");"
     ],
     "language": "python",
     "metadata": {},
     "outputs": []
    },
    {
     "cell_type": "code",
     "collapsed": false,
     "input": [
      "df = titanic\n",
      "data1 = \"deck\" #Categorical\n",
      "data2 = \"fare\" #Numerical\n",
      "\n",
      "sns.factorplot(data1, data2, data=df, palette=\"PuBu_d\");"
     ],
     "language": "python",
     "metadata": {},
     "outputs": []
    },
    {
     "cell_type": "code",
     "collapsed": false,
     "input": [
      "df = titanic\n",
      "data1 = \"sex\" #Categorical\n",
      "data2 = \"survived\" #Categorical\n",
      "data3 = \"class\" #Categorical\n",
      "\n",
      "sns.factorplot(data1, data2, hue=data3, data=df, kind='bar', palette=\"PuBu_d\");"
     ],
     "language": "python",
     "metadata": {},
     "outputs": []
    },
    {
     "cell_type": "code",
     "collapsed": false,
     "input": [
      "df = titanic\n",
      "data1 = \"deck\" #Categorical\n",
      "data2 = \"survived\" #Categorical -  counting probability\n",
      "\n",
      "sns.factorplot(data1, data2, data=df, palette=\"PuBu_d\", join=False).set(ylim=(0, 1));"
     ],
     "language": "python",
     "metadata": {},
     "outputs": []
    },
    {
     "cell_type": "code",
     "collapsed": false,
     "input": [
      "df = titanic\n",
      "data1 = \"class\" #Categorical\n",
      "data2 = \"survived\" #Categorical\n",
      "data3 = \"who\" #Categorical\n",
      "\n",
      "sns.factorplot(data1, data2, data=df, hue=data3, col=data3, palette=pal_titanic, aspect=.4, join=False);"
     ],
     "language": "python",
     "metadata": {},
     "outputs": []
    },
    {
     "cell_type": "code",
     "collapsed": false,
     "input": [
      "df = tips\n",
      "data1 = \"smoker\" #Categorical\n",
      "data2 = \"sex\" #Categorical - count\n",
      "\n",
      "sns.factorplot(data1, data=df, hue=data2, palette=pal_tips);"
     ],
     "language": "python",
     "metadata": {},
     "outputs": []
    },
    {
     "cell_type": "markdown",
     "metadata": {},
     "source": [
      "###Histograms\n",
      "[back to top](#contents)"
     ]
    },
    {
     "cell_type": "code",
     "collapsed": false,
     "input": [
      "data1 = tips.total_bill #Continuous\n",
      "\n",
      "plt.hist(data1, color=\"#6495ED\", normed=False, alpha=.5)\n",
      "plt.xlabel(\"Total Bill\")\n",
      "plt.ylabel(\"Frequency\")\n",
      "sns.despine();"
     ],
     "language": "python",
     "metadata": {},
     "outputs": []
    },
    {
     "cell_type": "code",
     "collapsed": false,
     "input": [
      "data1 = iris.sepal_length #continuous\n",
      "data2 = iris.sepal_width #continuous\n",
      "\n",
      "max_data = np.r_[data1, data2].max()\n",
      "bins = np.linspace(0, max_data, max_data + 1)\n",
      "plt.hist(data1, bins, normed=True, color=\"#6495ED\", alpha=.5)\n",
      "plt.hist(data2, bins, normed=True, color=\"#F08080\", alpha=.5)\n",
      "plt.xlabel(\"Measurement\")\n",
      "plt.ylabel(\"Frequency\")\n",
      "sns.despine();"
     ],
     "language": "python",
     "metadata": {},
     "outputs": []
    },
    {
     "cell_type": "code",
     "collapsed": false,
     "input": [
      "data1 = tips.total_bill #Continuous\n",
      "\n",
      "plt.hist(data1, color=\"#6495ED\", histtype=\"stepfilled\", normed=False, alpha=.5)\n",
      "plt.xlabel(\"Total Bill\")\n",
      "plt.ylabel(\"Frequency\")\n",
      "sns.despine();"
     ],
     "language": "python",
     "metadata": {},
     "outputs": []
    },
    {
     "cell_type": "code",
     "collapsed": false,
     "input": [
      "data = tips.total_bill #continuous\n",
      "\n",
      "sns.distplot(data,\n",
      "             kde_kws={\"color\": \"seagreen\", \"lw\": 3, \"label\": \"KDE\"},\n",
      "             hist_kws={\"histtype\": \"stepfilled\", \"color\": \"slategray\"});"
     ],
     "language": "python",
     "metadata": {},
     "outputs": []
    },
    {
     "cell_type": "markdown",
     "metadata": {},
     "source": [
      "###Joint Plot\n",
      "[back to top](#contents)"
     ]
    },
    {
     "cell_type": "code",
     "collapsed": false,
     "input": [
      "#Linear Regression\n",
      "df = tips\n",
      "data1 = \"total_bill\" #continuous\n",
      "data2 = \"tip\" #continuous\n",
      "\n",
      "sns.jointplot(data1, data2, df, kind=\"reg\");"
     ],
     "language": "python",
     "metadata": {},
     "outputs": []
    },
    {
     "cell_type": "code",
     "collapsed": false,
     "input": [
      "df = tips\n",
      "data1 = \"total_bill\" #continuous\n",
      "data2 = \"tip\" #continuous\n",
      "\n",
      "sns.jointplot(data1, data2, df, kind=\"hex\");"
     ],
     "language": "python",
     "metadata": {},
     "outputs": []
    },
    {
     "cell_type": "code",
     "collapsed": false,
     "input": [
      "df = tips\n",
      "data1 = \"total_bill\" #continuous\n",
      "data2 = \"tip\" #continuous\n",
      "\n",
      "g = sns.JointGrid(data1, data2, df, space=0)\n",
      "g.plot_marginals(sns.kdeplot, shade=True)\n",
      "g.plot_joint(sns.kdeplot, shade=True, cmap=\"PuBu\", n_levels=40);"
     ],
     "language": "python",
     "metadata": {},
     "outputs": []
    },
    {
     "cell_type": "code",
     "collapsed": false,
     "input": [
      "#Logistic Regression\n",
      "df = titanic\n",
      "data1 = \"age\" #categorical\n",
      "data2 = \"fare\" #categorical\n",
      "data3 = \"survived\" #categorical\n",
      "\n",
      "sns.interactplot(data1, data2, data3, df.dropna(), logistic=True);"
     ],
     "language": "python",
     "metadata": {},
     "outputs": []
    },
    {
     "cell_type": "markdown",
     "metadata": {},
     "source": [
      "###Distribution Plot\n",
      "[back to top](#contents)"
     ]
    },
    {
     "cell_type": "code",
     "collapsed": false,
     "input": [
      "df = titanic\n",
      "data1 = \"age\" #continuous\n",
      "data2 = \"class\" #categorical\n",
      "\n",
      "fg = sns.FacetGrid(df, hue=data2, aspect=3)\n",
      "fg.map(sns.kdeplot, data1, shade=True)\n",
      "fg.set(xlim=(0, 80))\n",
      "plt.legend(loc='best');"
     ],
     "language": "python",
     "metadata": {},
     "outputs": []
    },
    {
     "cell_type": "code",
     "collapsed": false,
     "input": [
      "df = titanic\n",
      "data1 = \"age\" #continuous\n",
      "data2 = \"class\" #categorical\n",
      "data3 = \"sex\" #categorical\n",
      "\n",
      "fg = sns.FacetGrid(df, col=data3, row=data2, hue=data3, palette=pal_titanic, size=2.5, aspect=2.5)\n",
      "fg.map(sns.kdeplot, data1, shade=True)\n",
      "fg.map(sns.rugplot, data1)\n",
      "sns.despine(left=True)\n",
      "fg.set(xlim=(0, 80));"
     ],
     "language": "python",
     "metadata": {},
     "outputs": []
    },
    {
     "cell_type": "markdown",
     "metadata": {},
     "source": [
      "###Boxplot\n",
      "[back to top](#contents)\n",
      "- Boxplot: compare 2 or more distributions"
     ]
    },
    {
     "cell_type": "code",
     "collapsed": false,
     "input": [
      "df = tips\n",
      "data1 = df.total_bill #distribution\n",
      "data2 = df.day #categorical\n",
      "\n",
      "sns.boxplot(data1, data2)\n",
      "sns.despine(left=True);"
     ],
     "language": "python",
     "metadata": {},
     "outputs": []
    },
    {
     "cell_type": "markdown",
     "metadata": {},
     "source": [
      "###Violinplot\n",
      "[back to top](#contents)"
     ]
    },
    {
     "cell_type": "code",
     "collapsed": false,
     "input": [
      "df = tips\n",
      "data1 = df.total_bill #distribution\n",
      "data2 = df.day #categorical\n",
      "\n",
      "sns.violinplot(data1, data2, color=\"PuBu_d\").set_ylim(0, 80)\n",
      "sns.despine(left=True);"
     ],
     "language": "python",
     "metadata": {},
     "outputs": []
    },
    {
     "cell_type": "markdown",
     "metadata": {},
     "source": [
      "###PairPlot\n",
      "[back to top](#contents)"
     ]
    },
    {
     "cell_type": "code",
     "collapsed": false,
     "input": [
      "df = iris #columns\n",
      "# df = iris[['sepal_width', 'sepal_length', 'petal_length']]\n",
      "data1 = \"species\" #categorical\n",
      "\n",
      "sns.pairplot(df, hue=data1, size=2.5, palette=pal_iris);"
     ],
     "language": "python",
     "metadata": {},
     "outputs": []
    },
    {
     "cell_type": "code",
     "collapsed": false,
     "input": [
      "df = iris #columns\n",
      "# df = iris[['sepal_width', 'sepal_length', 'petal_length']]\n",
      "data1 = \"species\" #categorical\n",
      "\n",
      "sns.pairplot(df, hue=data1, palette=\"Set2\", diag_kind=\"kde\", size=2.5)"
     ],
     "language": "python",
     "metadata": {},
     "outputs": []
    },
    {
     "cell_type": "markdown",
     "metadata": {},
     "source": [
      "###Scatter-Matrix\n",
      "[back to top](#contents)"
     ]
    },
    {
     "cell_type": "code",
     "collapsed": false,
     "input": [
      "df = iris\n",
      "# df = iris.iloc[:,0:4] #set number of columns\n",
      "#df = iris[['sepal_width', 'sepal_length', 'petal_length']]\n",
      "\n",
      "g = sns.PairGrid(df, diag_sharey=False)\n",
      "g.map_upper(plt.scatter)\n",
      "g.map_lower(sns.kdeplot, cmap=\"Blues_d\")\n",
      "g.map_diag(sns.kdeplot, lw=3, legend=False)"
     ],
     "language": "python",
     "metadata": {},
     "outputs": []
    },
    {
     "cell_type": "markdown",
     "metadata": {},
     "source": [
      "###Correlation Plot\n",
      "[back to top](#contents)"
     ]
    },
    {
     "cell_type": "code",
     "collapsed": false,
     "input": [
      "df = titanic\n",
      "\n",
      "f, ax = plt.subplots(figsize=(9, 9))\n",
      "sns.corrplot(df.dropna(), ax=ax, cmap=\"PuRd\");"
     ],
     "language": "python",
     "metadata": {},
     "outputs": []
    },
    {
     "cell_type": "markdown",
     "metadata": {},
     "source": [
      "###Linear Regression Plot\n",
      "[back to top](#contents)"
     ]
    },
    {
     "cell_type": "code",
     "collapsed": false,
     "input": [
      "df = tips\n",
      "data1 = \"total_bill\" #continuous\n",
      "data2 = \"tip\" #continuous\n",
      "\n",
      "sns.regplot(data1, data2, df);\n",
      "sns.despine();"
     ],
     "language": "python",
     "metadata": {},
     "outputs": []
    },
    {
     "cell_type": "code",
     "collapsed": false,
     "input": [
      "df = tips\n",
      "data1 = \"total_bill\" #continuous\n",
      "data2 = \"tip\" #continuous\n",
      "data3 = \"smoker\" #categorical\n",
      "\n",
      "sns.lmplot(data1, data2, hue=data3, data=df);\n",
      "sns.despine();"
     ],
     "language": "python",
     "metadata": {},
     "outputs": []
    },
    {
     "cell_type": "code",
     "collapsed": false,
     "input": [
      "df = tips\n",
      "data1 = \"total_bill\" #continuous\n",
      "data2 = \"tip\" #continuous\n",
      "data3 = \"smoker\" #categorical\n",
      "data4 = \"sex\" #categorical\n",
      "\n",
      "sns.lmplot(data1, data2, hue=data3, col=data4, data=df);\n",
      "sns.despine();"
     ],
     "language": "python",
     "metadata": {},
     "outputs": []
    },
    {
     "cell_type": "markdown",
     "metadata": {},
     "source": [
      "###Linear Model Parameters\n",
      "[back to top](#contents)"
     ]
    },
    {
     "cell_type": "code",
     "collapsed": false,
     "input": [
      "sns.coefplot(\"tip ~ day + time * size\", tips)"
     ],
     "language": "python",
     "metadata": {},
     "outputs": []
    },
    {
     "cell_type": "code",
     "collapsed": false,
     "input": [
      "sns.coefplot(\"total_bill ~ day + time + smoker\", tips, ci=68)"
     ],
     "language": "python",
     "metadata": {},
     "outputs": []
    },
    {
     "cell_type": "code",
     "collapsed": false,
     "input": [
      "sns.coefplot(\"tip ~ time * sex\", tips, \"size\", intercept=True)"
     ],
     "language": "python",
     "metadata": {},
     "outputs": []
    },
    {
     "cell_type": "markdown",
     "metadata": {},
     "source": [
      "###Logistic Regression Plot\n",
      "[back to top](#contents)"
     ]
    },
    {
     "cell_type": "code",
     "collapsed": false,
     "input": [
      "df = titanic\n",
      "data1 = \"age\" #categorical\n",
      "data2 = \"survived\" #categorical\n",
      "\n",
      "sns.lmplot(data1, data2, df, logistic=True, y_jitter=.05);"
     ],
     "language": "python",
     "metadata": {},
     "outputs": []
    },
    {
     "cell_type": "code",
     "collapsed": false,
     "input": [
      "df = titanic\n",
      "data1 = \"fare\" #continuous\n",
      "data2 = \"survived\" #categorical\n",
      "\n",
      "sns.lmplot(data1, data2, df, logistic=True, y_jitter=.05);"
     ],
     "language": "python",
     "metadata": {},
     "outputs": []
    },
    {
     "cell_type": "code",
     "collapsed": false,
     "input": [
      "df = titanic\n",
      "data1 = \"age\" #categorical\n",
      "data2 = \"survived\" #categorical\n",
      "data3 = 'class' #categorical\n",
      "\n",
      "fig = plt.figure(figsize=(8, 6))\n",
      "sns.lmplot(data1, data2, df, col=data3, hue=data3, \n",
      "           logistic=True).set(xlim=(0, 80));"
     ],
     "language": "python",
     "metadata": {},
     "outputs": []
    },
    {
     "cell_type": "markdown",
     "metadata": {},
     "source": [
      "###Appendix\n",
      "[back to top](#contents)"
     ]
    },
    {
     "cell_type": "markdown",
     "metadata": {},
     "source": [
      "###Set Styles"
     ]
    },
    {
     "cell_type": "code",
     "collapsed": false,
     "input": [
      "data = tips.tip\n",
      "sns.set_palette(\"deep\")\n",
      "\n",
      "fig = plt.figure(figsize=(8, 6))\n",
      "plt.subplot(3, 2, 1)\n",
      "sns.set_style(\"darkgrid\")\n",
      "sns.kdeplot(data, shade=True)\n",
      "plt.title('darkgrid - default')\n",
      "\n",
      "plt.subplot(3, 2, 2)\n",
      "sns.set_style(\"dark\")\n",
      "sns.kdeplot(data, shade=True)\n",
      "plt.title('dark')\n",
      "\n",
      "plt.subplot(3, 2, 3)\n",
      "sns.set_style(\"white\")\n",
      "sns.kdeplot(data, shade=True)\n",
      "plt.title('white')\n",
      "\n",
      "plt.subplot(3, 2, 4)\n",
      "sns.set_style(\"ticks\")\n",
      "sns.kdeplot(data, shade=True)\n",
      "plt.title('ticks')\n",
      "\n",
      "plt.subplot(3, 2, 5)\n",
      "sns.set_style(\"whitegrid\")\n",
      "sns.kdeplot(data, shade=True)\n",
      "plt.title('whitegrid')\n",
      "\n",
      "fig.tight_layout();"
     ],
     "language": "python",
     "metadata": {},
     "outputs": []
    },
    {
     "cell_type": "markdown",
     "metadata": {},
     "source": [
      "###Set Palettes"
     ]
    },
    {
     "cell_type": "code",
     "collapsed": false,
     "input": [
      "#deep, muted, bright, pastel, dark, colorblind, hls, husl\n",
      "data = tips.tip\n",
      "\n",
      "fig = plt.figure(figsize=(8, 6))\n",
      "sns.set_style(\"white\")\n",
      "\n",
      "plt.subplot(3, 2, 1)\n",
      "sns.set_palette(\"deep\")\n",
      "sns.kdeplot(data, shade=True)\n",
      "plt.title('deep')\n",
      "\n",
      "plt.subplot(3, 2, 2)\n",
      "sns.set_palette(\"muted\")\n",
      "sns.kdeplot(data, shade=True)\n",
      "plt.title('muted')\n",
      "\n",
      "plt.subplot(3, 2, 3)\n",
      "sns.set_palette(\"bright\")\n",
      "sns.kdeplot(data, shade=True)\n",
      "plt.title('bright')\n",
      "\n",
      "plt.subplot(3, 2, 4)\n",
      "sns.set_palette(\"dark\")\n",
      "sns.kdeplot(data, shade=True)\n",
      "plt.title('dark')\n",
      "\n",
      "plt.subplot(3, 2, 5)\n",
      "sns.set_palette(\"cubehelix\")\n",
      "sns.kdeplot(data, shade=True)\n",
      "plt.title('cubehelix')\n",
      "\n",
      "plt.subplot(3, 2, 6)\n",
      "sns.set_palette(\"husl\")\n",
      "sns.kdeplot(data, shade=True)\n",
      "plt.title('husl')\n",
      "\n",
      "fig.tight_layout();"
     ],
     "language": "python",
     "metadata": {},
     "outputs": []
    },
    {
     "cell_type": "markdown",
     "metadata": {},
     "source": [
      "###Distribution plots variations"
     ]
    },
    {
     "cell_type": "code",
     "collapsed": false,
     "input": [
      "data = tips.tip\n",
      "sns.set_palette(\"deep\")\n",
      "sns.set_style(\"white\")\n",
      "fig = plt.figure(figsize=(8, 6))\n",
      "\n",
      "plt.subplot(2, 2, 1)\n",
      "sns.kdeplot(data, shade=True)\n",
      "plt.title('kde')\n",
      "\n",
      "plt.subplot(2, 2, 2)\n",
      "sns.distplot(data)\n",
      "plt.title('displot')\n",
      "\n",
      "plt.subplot(2, 2, 3)\n",
      "sns.distplot(data, rug=True, hist=False)\n",
      "plt.title('displot-rug')\n",
      "\n",
      "plt.subplot(2, 2, 4)\n",
      "sns.distplot(data, kde=False, fit=stats.norm)\n",
      "plt.title('displot_normal')\n",
      "\n",
      "plt.tight_layout();"
     ],
     "language": "python",
     "metadata": {},
     "outputs": []
    },
    {
     "cell_type": "markdown",
     "metadata": {},
     "source": [
      "###Miscellaneous Notes\n",
      "[back to top](#contents)\n",
      "\n",
      "**Colors**\n",
      "- Blue: PuBu_d\n",
      "- Blues, Greens\n",
      "- Set1 to Set3\n",
      "- Green: BuGn\n",
      "- Yellow: YlGn\n",
      "- Orange: OrRd_d\n",
      "- Purple: BuPu_d\n",
      "\n",
      "**cmap**\n",
      "- cmap = sns.diverging_palette(220, 10, as_cmap=True)\n",
      "- cmap=\"PuRd\"\n",
      "- Blues_d\n",
      "\n",
      "**To remove spine**\n",
      "- sns.despine(); \n",
      "- sns.despine(left=True);\n"
     ]
    },
    {
     "cell_type": "markdown",
     "metadata": {},
     "source": [
      "###References\n",
      "[back to top](#contents)\n",
      "- [Seaborn Tutorial](http://nbviewer.ipython.org/github/pestrickland/notebooks/blob/master/seaborn_tutorial_style.ipynb)\n",
      "- [Exploring the Titanic dataset with seaborn](http://nbviewer.ipython.org/gist/mwaskom/8224591)\n",
      "- [Visualizing distributions of data](http://nbviewer.ipython.org/github/mwaskom/seaborn/blob/master/examples/plotting_distributions.ipynb)\n",
      "- [Graphical representations of linear models](http://nbviewer.ipython.org/github/mwaskom/seaborn/blob/master/examples/linear_models.ipynb)\n",
      "- [Controlling figure aesthetics in seaborn](http://nbviewer.ipython.org/github/mwaskom/seaborn/blob/master/examples/aesthetics.ipynb)\n",
      "- [Plotting Timeseries](http://nbviewer.ipython.org/github/mwaskom/seaborn/blob/master/examples/timeseries_plots.ipynb)\n",
      "- [Visual dataset exploration - Heatmap](http://stanford.edu/~mwaskom/software/seaborn-dev/tutorial/dataset_exploration.html)\n",
      "- [Plotting on data-aware grids](http://stanford.edu/~mwaskom/software/seaborn-dev/tutorial/axis_grids.html)"
     ]
    },
    {
     "cell_type": "code",
     "collapsed": false,
     "input": [
      "from IPython.display import display, HTML\n",
      "display(HTML(open('../style/custom.css').read()))"
     ],
     "language": "python",
     "metadata": {},
     "outputs": []
    }
   ],
   "metadata": {}
  }
 ]
}