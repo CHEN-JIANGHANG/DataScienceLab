{
 "metadata": {
  "name": "",
  "signature": "sha256:58c2702495e157500b53ba28943b3729a6db301d6e86d2f4e59c308967b9ad2d"
 },
 "nbformat": 3,
 "nbformat_minor": 0,
 "worksheets": [
  {
   "cells": [
    {
     "cell_type": "markdown",
     "metadata": {},
     "source": [
      "#Exploratory Data Analysis\n",
      "\n",
      "<img src=\"./images/explorer.png\">"
     ]
    },
    {
     "cell_type": "markdown",
     "metadata": {},
     "source": [
      "- Data Cleaning\n",
      "- Outliers\n",
      "- Remove those without data\n",
      "- Change the dates\n",
      "- Types (integer, string)"
     ]
    },
    {
     "cell_type": "markdown",
     "metadata": {},
     "source": [
      "###Preliminaries\n",
      "[back to top](#contents)"
     ]
    },
    {
     "cell_type": "code",
     "collapsed": false,
     "input": [
      "%matplotlib inline\n",
      "import pandas as pd\n",
      "import numpy as np\n",
      "import matplotlib.pyplot as plt\n",
      "import seaborn as sns\n",
      "sns.set(style=\"white\")\n",
      "sns.set(rc={\"figure.figsize\": (6, 6)})"
     ],
     "language": "python",
     "metadata": {},
     "outputs": []
    },
    {
     "cell_type": "code",
     "collapsed": false,
     "input": [],
     "language": "python",
     "metadata": {},
     "outputs": []
    },
    {
     "cell_type": "code",
     "collapsed": false,
     "input": [
      "data = iris.iloc[:,0:4] #set number of columns\n",
      "data = iris[['sepal_width', 'sepal_length', 'petal_length']]"
     ],
     "language": "python",
     "metadata": {},
     "outputs": []
    },
    {
     "cell_type": "markdown",
     "metadata": {},
     "source": [
      "###Cleaning Data"
     ]
    },
    {
     "cell_type": "code",
     "collapsed": false,
     "input": [
      "titanic[\"class\"] = titanic.pclass.map({1: \"First\", 2: \"Second\", 3: \"Third\"})\n",
      "titanic[\"who\"] = titanic[[\"age\", \"sex\"]].apply(woman_child_or_man, axis=1)\n",
      "titanic[\"adult_male\"] = titanic.who == \"man\"\n",
      "titanic[\"deck\"] = titanic.cabin.str[0].map(lambda s: np.nan if s == \"T\" else s)\n",
      "titanic[\"embark_town\"] = titanic.embarked.map({\"C\": \"Cherbourg\", \"Q\": \"Queenstown\", \"S\": \"Southampton\"})\n",
      "titanic[\"alive\"] = titanic.survived.map({0: \"no\", 1: \"yes\"})\n",
      "titanic[\"alone\"] = ~(titanic.parch + titanic.sibsp).astype(bool)\n",
      "titanic = titanic.drop([\"name\", \"ticket\", \"cabin\"], axis=1)"
     ],
     "language": "python",
     "metadata": {},
     "outputs": []
    },
    {
     "cell_type": "code",
     "collapsed": false,
     "input": [],
     "language": "python",
     "metadata": {},
     "outputs": []
    },
    {
     "cell_type": "code",
     "collapsed": false,
     "input": [
      "Create new columns to convert 1 to First, 2 to Second etc..."
     ],
     "language": "python",
     "metadata": {},
     "outputs": [
      {
       "ename": "SyntaxError",
       "evalue": "invalid syntax (<ipython-input-3-d16d3b057796>, line 1)",
       "output_type": "pyerr",
       "traceback": [
        "\u001b[0;36m  File \u001b[0;32m\"<ipython-input-3-d16d3b057796>\"\u001b[0;36m, line \u001b[0;32m1\u001b[0m\n\u001b[0;31m    Create new columns to convert 1 to First, 2 to Second etc...\u001b[0m\n\u001b[0m             ^\u001b[0m\n\u001b[0;31mSyntaxError\u001b[0m\u001b[0;31m:\u001b[0m invalid syntax\n"
       ]
      }
     ],
     "prompt_number": 3
    },
    {
     "cell_type": "markdown",
     "metadata": {},
     "source": [
      "###Outliers"
     ]
    },
    {
     "cell_type": "code",
     "collapsed": false,
     "input": [
      "titanic[\"fare_winsor\"] = titanic.fare.map(lambda f: min(f, 200))"
     ],
     "language": "python",
     "metadata": {},
     "outputs": []
    }
   ],
   "metadata": {}
  }
 ]
}