{
 "metadata": {
  "name": "",
  "signature": "sha256:3bf12338613f36e37035855cd01467736ffbe6562fa11419a51cbe75f79b94aa"
 },
 "nbformat": 3,
 "nbformat_minor": 0,
 "worksheets": [
  {
   "cells": [
    {
     "cell_type": "markdown",
     "metadata": {},
     "source": []
    }
   ],
   "metadata": {}
  }
 ]
}