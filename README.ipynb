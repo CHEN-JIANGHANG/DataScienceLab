{
 "metadata": {
  "name": "",
  "signature": "sha256:7940201a05b3d86bcb8f980cacc3468c8f7b8069aba31cf76272ffc7c83d0386"
 },
 "nbformat": 3,
 "nbformat_minor": 0,
 "worksheets": [
  {
   "cells": [
    {
     "cell_type": "heading",
     "level": 1,
     "metadata": {},
     "source": [
      "Data Science Lab"
     ]
    },
    {
     "cell_type": "markdown",
     "metadata": {},
     "source": [
      "Contents\n",
      "------\n",
      "- [Data Science Process](#Data-Science-Process)\n",
      "- [Data Collection](#Data-Collection)\n",
      "- [Pre-Processing](#Pre-Processing)\n",
      "- [Model Evaluation](#Model-Evaluation)\n",
      "- [Parameter Estimation](#Parameter-Estimation)\n",
      "- [Machine Learning Algorithms](#Machine-Learning-Algorithms)"
     ]
    },
    {
     "cell_type": "markdown",
     "metadata": {},
     "source": [
      "###Data Science Process"
     ]
    },
    {
     "cell_type": "markdown",
     "metadata": {},
     "source": [
      "<img src=\"./images/datascience_process.png\" style=\"width: 700px; height:600px;\">\n",
      "<br>\n",
      "<br>\n",
      "<img src=\"./images/datascience_flowchart.png\" style=\"width: 700px; height:600px;\">"
     ]
    },
    {
     "cell_type": "heading",
     "level": 1,
     "metadata": {},
     "source": [
      "Data Collection"
     ]
    },
    {
     "cell_type": "heading",
     "level": 1,
     "metadata": {},
     "source": [
      "Pre-Processing"
     ]
    },
    {
     "cell_type": "heading",
     "level": 1,
     "metadata": {},
     "source": [
      "Model-Evaluation"
     ]
    },
    {
     "cell_type": "heading",
     "level": 1,
     "metadata": {},
     "source": [
      "Parameter Estimation"
     ]
    },
    {
     "cell_type": "heading",
     "level": 1,
     "metadata": {},
     "source": [
      "Machine Learning Algorithms"
     ]
    }
   ],
   "metadata": {}
  }
 ]
}