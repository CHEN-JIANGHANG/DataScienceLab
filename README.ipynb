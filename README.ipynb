{
 "metadata": {
  "name": "",
  "signature": "sha256:a001eb1bcb709a22b29488bcb6072fe6c6a7e87c84b7b84a3819abbc8c1ce367"
 },
 "nbformat": 3,
 "nbformat_minor": 0,
 "worksheets": [
  {
   "cells": [
    {
     "cell_type": "heading",
     "level": 1,
     "metadata": {},
     "source": [
      "Data Science Lab"
     ]
    },
    {
     "cell_type": "markdown",
     "metadata": {},
     "source": [
      "Contents\n",
      "------\n",
      "- [Data Science Process](#data-science-process)\n",
      "- [Data Collection](#data-collection)\n",
      "- [Pre-Processing](#pre-processing)\n",
      "- [Model Evaluation](#model-evaluation)\n",
      "- [Parameter Estimation](#parameter-estimation)\n",
      "- [Machine Learning Algorithms](#machine-learning-algorithms)"
     ]
    },
    {
     "cell_type": "markdown",
     "metadata": {},
     "source": [
      "###Data Science Process"
     ]
    },
    {
     "cell_type": "markdown",
     "metadata": {},
     "source": [
      "<img src=\"./images/datascience_process.png\" style=\"width: 700px; height:600px;\">\n",
      "<br>\n",
      "<br>\n",
      "<img src=\"./images/datascience_flowchart.png\" style=\"width: 700px; height:600px;\">"
     ]
    },
    {
     "cell_type": "markdown",
     "metadata": {},
     "source": [
      "###Data Collection"
     ]
    },
    {
     "cell_type": "markdown",
     "metadata": {},
     "source": [
      "###Pre-Processing"
     ]
    },
    {
     "cell_type": "markdown",
     "metadata": {},
     "source": [
      "###Model-Evaluation"
     ]
    },
    {
     "cell_type": "markdown",
     "metadata": {},
     "source": [
      "###Parameter Estimation"
     ]
    },
    {
     "cell_type": "markdown",
     "metadata": {},
     "source": [
      "###Machine Learning Algorithms"
     ]
    }
   ],
   "metadata": {}
  }
 ]
}