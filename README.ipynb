{
 "metadata": {
  "name": "",
  "signature": "sha256:b78273fa9ccd21f758c518cd6a7cca36f6d9a6791d13c93784fb6a65e95929b0"
 },
 "nbformat": 3,
 "nbformat_minor": 0,
 "worksheets": [
  {
   "cells": [
    {
     "cell_type": "markdown",
     "metadata": {},
     "source": [
      "#Data Science Lab\n",
      "<img src=\"./images/brain.png\">"
     ]
    },
    {
     "cell_type": "markdown",
     "metadata": {},
     "source": [
      "###Contents\n",
      "- [Data Science Process](#data-science-process)\n",
      "- [Data Acquisition](#data-acquisition)\n",
      "- [Pre-Processing](#pre-processing)\n",
      "- [Parameter Estimation](#parameter-estimation)\n",
      "- [Machine Learning Algorithms](#machine-learning-algorithms)\n",
      "- [Model Selection and Evaluation](#model-selection-and-evaluation)\n",
      "- [Data Visualization](#data-visualization)\n",
      "- [References](#references)"
     ]
    },
    {
     "cell_type": "markdown",
     "metadata": {},
     "source": [
      "###Data Science Process\n",
      "[back to top](#contents)"
     ]
    },
    {
     "cell_type": "markdown",
     "metadata": {},
     "source": [
      "<img src=\"./images/datascience_process.png\">\n",
      "<br>\n",
      "<img src=\"./images/predictive_modeling.png\">\n",
      "<br>\n",
      "<img src=\"./images/datascience_flowchart.png\" style=\"width: 700px; height:600px;\">"
     ]
    },
    {
     "cell_type": "markdown",
     "metadata": {},
     "source": [
      "###Data Acquisition\n",
      "[back to top](#contents)\n",
      "- Requests - Web scraping\n",
      "- Mechanize - Web scraping\n",
      "- BeautifulSoup - HTML\n",
      "- Twitter API\n",
      "- Marvel API\n",
      "- Database (Relational database/SQL)"
     ]
    },
    {
     "cell_type": "markdown",
     "metadata": {},
     "source": [
      "###Pre-Processing\n",
      "[back to top](#contents)\n",
      "- Data Wrangling [[Notebook](http://nbviewer.ipython.org/github/jthang/DataScienceLab/blob/master/preprocessing/data_wrangling.ipynb)]\n",
      "- Standardization and Normalization\n",
      "- Feature Selection\n",
      "- Dimensionality Reduction (PCA, LDA)"
     ]
    },
    {
     "cell_type": "markdown",
     "metadata": {},
     "source": [
      "###Model Selection and Evaluation\n",
      "[back to top](#contents)\n",
      "- Metrics (Precision/Recall, ROC curve, Marginal Precision, Score Distribution - all items vs true items)\n",
      "- Cross-validation\n",
      "- Model Comparison\n",
      "- Feature Comparison"
     ]
    },
    {
     "cell_type": "markdown",
     "metadata": {},
     "source": [
      "###Parameter Estimation\n",
      "[back to top](#contents)\n",
      "- Model Fitting (MLE, GLM)\n",
      "- Grid Search with Cross Validation"
     ]
    },
    {
     "cell_type": "markdown",
     "metadata": {},
     "source": [
      "###Machine Learning Algorithms\n",
      "[back to top](#contents)\n",
      "- Linear Regression\n",
      "- Logistic Regression [[Notebook](http://nbviewer.ipython.org/github/jthang/DataScienceLab/blob/master/machine_learning/logistic_regression.ipynb)]\n",
      "- Gradient Descent\n",
      "- Support Vector Machine\n",
      "- Random Forest\n",
      "- Clustering (k-means)\n",
      "- Collaborative Filtering\n",
      "    - Cosine, magnitude-aware, Jaccard, Pearson\n",
      "    - User - clustering (KNN)\n",
      "    - SVD, ALS\n",
      "    - Coldstart problem, exploit strategy (multi-bandit)\n",
      "    - Restricted Boltzmann Machines\n",
      "- Inference via graphical models\n",
      "\n",
      "<img src=\"./images/ml_cheatsheet.png\">"
     ]
    },
    {
     "cell_type": "markdown",
     "metadata": {},
     "source": [
      "###Data Visualization\n",
      "[back to top](#contents)\n",
      "- Matplotlib / Seaborn [[Notebook](http://nbviewer.ipython.org/github/jthang/DataScienceLab/blob/master/data_viz/data_viz.ipynb)]\n",
      "<img src=\"./images/data_viz.png\">\n",
      "- plot.ly\n",
      "- d3.js"
     ]
    },
    {
     "cell_type": "markdown",
     "metadata": {},
     "source": [
      "###References\n",
      "[back to top](#contents)\n",
      "- [The Elements of Statistical Learning](http://statweb.stanford.edu/~tibs/ElemStatLearn/)\n",
      "- [Pattern Recognition and Machine Learning](http://research.microsoft.com/en-us/um/people/cmbishop/PRML/)\n",
      "- [Stanford CS229 - Machine Learning](http://cs229.stanford.edu/materials.html)\n",
      "- [Stanford - Probabilistic Graphical Models](https://www.coursera.org/course/pgm)\n",
      "- [Harvard CS109 - Data Science](https://github.com/cs109/content)\n",
      "- [Caltech - Learning From Data](https://work.caltech.edu/lectures.html)\n",
      "- [Carnegie Mellon University - Machine Learning](http://www.cs.cmu.edu/~tom/10701_sp11/lectures.shtml)\n",
      "- [University of Toronto - Neural Networks for Machine Learning](https://www.coursera.org/course/neuralnets)"
     ]
    }
   ],
   "metadata": {}
  }
 ]
}