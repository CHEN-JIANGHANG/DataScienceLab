{
 "metadata": {
  "name": "",
  "signature": "sha256:629959e4125fb3cebb80df6d3394593fa65c87a91051494930ba4d32d6c22c87"
 },
 "nbformat": 3,
 "nbformat_minor": 0,
 "worksheets": [
  {
   "cells": [
    {
     "cell_type": "heading",
     "level": 1,
     "metadata": {},
     "source": [
      "Data Science Lab"
     ]
    },
    {
     "cell_type": "markdown",
     "metadata": {},
     "source": [
      "Contents\n",
      "------\n",
      "- [Data Science Process](#data-science-process)\n",
      "- [Data Collection](#data-collection)\n",
      "- [Pre-Processing](#pre-processing)\n",
      "- [Model Selection and Evaluation](#model-selection-and-evaluation)\n",
      "- [Parameter Estimation](#parameter-estimation)\n",
      "- [Machine Learning Algorithms](#machine-learning-algorithms)\n",
      "- [Data Visualization](#data-visualization)\n",
      "- [External Resources](#external-resources)"
     ]
    },
    {
     "cell_type": "markdown",
     "metadata": {},
     "source": [
      "###Data Science Process"
     ]
    },
    {
     "cell_type": "markdown",
     "metadata": {},
     "source": [
      "<img src=\"./images/datascience_process.png\">\n",
      "<br>\n",
      "<br>\n",
      "<img src=\"./images/datascience_flowchart.png\" style=\"width: 700px; height:600px;\">"
     ]
    },
    {
     "cell_type": "markdown",
     "metadata": {},
     "source": [
      "###Data Collection\n",
      "- Wikipedia\n",
      "- Twitter\n",
      "- Facebook\n",
      "- Linkedin\n",
      "- Amazon"
     ]
    },
    {
     "cell_type": "markdown",
     "metadata": {},
     "source": [
      "###Pre-Processing\n",
      "- Data Cleaning\n",
      "- Standardization and Normalization\n",
      "- Feature Selection\n",
      "- Dimensionality Reduction (PCA, LDA)"
     ]
    },
    {
     "cell_type": "markdown",
     "metadata": {},
     "source": [
      "###Model Selection and Evaluation\n",
      "- Metrics\n",
      "- Cross-validation"
     ]
    },
    {
     "cell_type": "markdown",
     "metadata": {},
     "source": [
      "###Parameter Estimation\n",
      "- Grid Search with Cross Validation"
     ]
    },
    {
     "cell_type": "markdown",
     "metadata": {},
     "source": [
      "###Machine Learning Algorithms\n",
      "- Linear Regression\n",
      "- Logistic Regression\n",
      "- Gradient Descent\n",
      "- Support Vector Machine\n",
      "- Random Forest\n",
      "- Clustering (k-means)\n",
      "- Collaborative Filtering (neighborhood, SVD, ALS)\n",
      "- Inference via graphical models\n",
      "\n",
      "<img src=\"./images/ml_cheatsheet.png\", style=\"width: 700px;\">"
     ]
    },
    {
     "cell_type": "markdown",
     "metadata": {},
     "source": [
      "###Data Visualization\n",
      "- Matplotlib / Seaborn\n",
      "- d3.js"
     ]
    },
    {
     "cell_type": "markdown",
     "metadata": {},
     "source": [
      "###External Resources\n",
      "- [Machine Learning Concepts](http://www.metacademy.org/browse)\n",
      "- [Public Datasets](https://github.com/caesar0301/awesome-public-datasets)\n",
      "- [Interesting Notebooks](https://github.com/ipython/ipython/wiki/A-gallery-of-interesting-IPython-Notebooks)\n",
      "- [Latex Equations](https://github.com/rasbt/pattern_classification/blob/master/resources/latex_equations.md)"
     ]
    }
   ],
   "metadata": {}
  }
 ]
}