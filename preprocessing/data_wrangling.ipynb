{
 "metadata": {
  "name": "",
  "signature": "sha256:dbd00561881dc8cf6d72c0868972a0c3153bd3ec712620bc542208e3969d4d4d"
 },
 "nbformat": 3,
 "nbformat_minor": 0,
 "worksheets": [
  {
   "cells": [
    {
     "cell_type": "markdown",
     "metadata": {},
     "source": [
      "#Data Wrangling\n",
      "\n",
      "<img src=\"../images/data_wrangling.png\" style=\" height:400px;\">"
     ]
    },
    {
     "cell_type": "markdown",
     "metadata": {},
     "source": [
      "###Contents\n",
      "- [Preliminaries](#preliminaries)\n",
      "- [Loading](#loading)\n",
      "    - [CSV](#csv)\n",
      "    - [Text](#text)\n",
      "    - [TSV](#tsv)\n",
      "    - [JSON](#json)\n",
      "    - [Web API](#web-api)\n",
      "    - [Databases](#databases)\n",
      "- [Exporting](#exporting)\n",
      "- [Summarizing](#summarizing)\n",
      "- [Selecting](#selecting)\n",
      "- [Renaming](#renaming)\n",
      "- [Clean Data](#clean-data)\n",
      "- [Mapping](#mapping)\n",
      "- [Sorting](#sorting)\n",
      "- [Missing Data](#missing-data)\n",
      "- [Drop Data](#drop-data)\n",
      "- [Fill Data](#fill-data)\n",
      "- [Combining Datasets](#combining-datasets)\n",
      "- [Remove Duplicates](#remove-duplicates)\n",
      "- [Outliers](#outliers)\n",
      "- [Sampling](#sampling)\n",
      "- [New Columns](#new-columns)\n",
      "- [Groupby](#groupby)\n",
      "- [Date and Time](#date-and-time)\n",
      "- [References](#references)"
     ]
    },
    {
     "cell_type": "markdown",
     "metadata": {},
     "source": [
      "###Preliminaries\n",
      "[back to top](#contents)"
     ]
    },
    {
     "cell_type": "code",
     "collapsed": false,
     "input": [
      "%matplotlib inline\n",
      "import pandas as pd\n",
      "import numpy as np\n",
      "import matplotlib.pyplot as plt\n",
      "import seaborn as sns\n",
      "sns.set(style=\"white\")\n",
      "plt.rc(\"figure\", figsize=(10, 6))\n",
      "np.set_printoptions(precision=4)"
     ],
     "language": "python",
     "metadata": {},
     "outputs": [],
     "prompt_number": 1
    },
    {
     "cell_type": "markdown",
     "metadata": {},
     "source": [
      "###Loading\n",
      "[back to top](#contents)"
     ]
    },
    {
     "cell_type": "code",
     "collapsed": false,
     "input": [
      "tips = pd.read_csv('../data/tips.csv')\n",
      "iris = pd.read_csv('../data/iris.csv')\n",
      "titanic = pd.read_csv('../data/titanic.csv')"
     ],
     "language": "python",
     "metadata": {},
     "outputs": [],
     "prompt_number": 2
    },
    {
     "cell_type": "markdown",
     "metadata": {},
     "source": [
      "####CSV\n",
      "[back to top](#contents)"
     ]
    },
    {
     "cell_type": "code",
     "collapsed": false,
     "input": [
      "!head '../data/wine.data'\n",
      "# !cat '../data/wine.data'"
     ],
     "language": "python",
     "metadata": {},
     "outputs": [
      {
       "output_type": "stream",
       "stream": "stdout",
       "text": [
        "1,14.23,1.71,2.43,15.6,127,2.8,3.06,.28,2.29,5.64,1.04,3.92,1065\r\n",
        "1,13.2,1.78,2.14,11.2,100,2.65,2.76,.26,1.28,4.38,1.05,3.4,1050\r\n",
        "1,13.16,2.36,2.67,18.6,101,2.8,3.24,.3,2.81,5.68,1.03,3.17,1185\r\n",
        "1,14.37,1.95,2.5,16.8,113,3.85,3.49,.24,2.18,7.8,.86,3.45,1480\r\n",
        "1,13.24,2.59,2.87,21,118,2.8,2.69,.39,1.82,4.32,1.04,2.93,735\r\n",
        "1,14.2,1.76,2.45,15.2,112,3.27,3.39,.34,1.97,6.75,1.05,2.85,1450\r\n",
        "1,14.39,1.87,2.45,14.6,96,2.5,2.52,.3,1.98,5.25,1.02,3.58,1290\r\n",
        "1,14.06,2.15,2.61,17.6,121,2.6,2.51,.31,1.25,5.05,1.06,3.58,1295\r\n",
        "1,14.83,1.64,2.17,14,97,2.8,2.98,.29,1.98,5.2,1.08,2.85,1045\r\n",
        "1,13.86,1.35,2.27,16,98,2.98,3.15,.22,1.85,7.22,1.01,3.55,1045\r\n"
       ]
      }
     ],
     "prompt_number": 3
    },
    {
     "cell_type": "code",
     "collapsed": false,
     "input": [
      "wine = pd.read_csv('../data/wine.data', sep=',')\n",
      "wine.head(1)"
     ],
     "language": "python",
     "metadata": {},
     "outputs": [
      {
       "html": [
        "<div style=\"max-height:1000px;max-width:1500px;overflow:auto;\">\n",
        "<table border=\"1\" class=\"dataframe\">\n",
        "  <thead>\n",
        "    <tr style=\"text-align: right;\">\n",
        "      <th></th>\n",
        "      <th>1</th>\n",
        "      <th>14.23</th>\n",
        "      <th>1.71</th>\n",
        "      <th>2.43</th>\n",
        "      <th>15.6</th>\n",
        "      <th>127</th>\n",
        "      <th>2.8</th>\n",
        "      <th>3.06</th>\n",
        "      <th>.28</th>\n",
        "      <th>2.29</th>\n",
        "      <th>5.64</th>\n",
        "      <th>1.04</th>\n",
        "      <th>3.92</th>\n",
        "      <th>1065</th>\n",
        "    </tr>\n",
        "  </thead>\n",
        "  <tbody>\n",
        "    <tr>\n",
        "      <th>0</th>\n",
        "      <td> 1</td>\n",
        "      <td> 13.2</td>\n",
        "      <td> 1.78</td>\n",
        "      <td> 2.14</td>\n",
        "      <td> 11.2</td>\n",
        "      <td> 100</td>\n",
        "      <td> 2.65</td>\n",
        "      <td> 2.76</td>\n",
        "      <td> 0.26</td>\n",
        "      <td> 1.28</td>\n",
        "      <td> 4.38</td>\n",
        "      <td> 1.05</td>\n",
        "      <td> 3.4</td>\n",
        "      <td> 1050</td>\n",
        "    </tr>\n",
        "  </tbody>\n",
        "</table>\n",
        "</div>"
       ],
       "metadata": {},
       "output_type": "pyout",
       "prompt_number": 4,
       "text": [
        "   1  14.23  1.71  2.43  15.6  127   2.8  3.06   .28  2.29  5.64  1.04  3.92  \\\n",
        "0  1   13.2  1.78  2.14  11.2  100  2.65  2.76  0.26  1.28  4.38  1.05   3.4   \n",
        "\n",
        "   1065  \n",
        "0  1050  "
       ]
      }
     ],
     "prompt_number": 4
    },
    {
     "cell_type": "code",
     "collapsed": false,
     "input": [
      "names=['a', 'b', 'c', 'd',\n",
      "       'e', 'f', 'g', 'h',\n",
      "       'i', 'j', 'k', 'l',\n",
      "       'm', 'n']\n",
      "\n",
      "wine = pd.read_csv('../data/wine.data',\n",
      "                   sep=',',\n",
      "                   names=names,\n",
      "                   index_col=['d', 'j'],\n",
      "                   skiprows=[0,2,3],\n",
      "                   na_values=['NULL']).dropna()\n",
      "wine.head(2)"
     ],
     "language": "python",
     "metadata": {},
     "outputs": [
      {
       "html": [
        "<div style=\"max-height:1000px;max-width:1500px;overflow:auto;\">\n",
        "<table border=\"1\" class=\"dataframe\">\n",
        "  <thead>\n",
        "    <tr style=\"text-align: right;\">\n",
        "      <th></th>\n",
        "      <th></th>\n",
        "      <th>a</th>\n",
        "      <th>b</th>\n",
        "      <th>c</th>\n",
        "      <th>e</th>\n",
        "      <th>f</th>\n",
        "      <th>g</th>\n",
        "      <th>h</th>\n",
        "      <th>i</th>\n",
        "      <th>k</th>\n",
        "      <th>l</th>\n",
        "      <th>m</th>\n",
        "      <th>n</th>\n",
        "    </tr>\n",
        "    <tr>\n",
        "      <th>d</th>\n",
        "      <th>j</th>\n",
        "      <th></th>\n",
        "      <th></th>\n",
        "      <th></th>\n",
        "      <th></th>\n",
        "      <th></th>\n",
        "      <th></th>\n",
        "      <th></th>\n",
        "      <th></th>\n",
        "      <th></th>\n",
        "      <th></th>\n",
        "      <th></th>\n",
        "      <th></th>\n",
        "    </tr>\n",
        "  </thead>\n",
        "  <tbody>\n",
        "    <tr>\n",
        "      <th>2.14</th>\n",
        "      <th>1.28</th>\n",
        "      <td> 1</td>\n",
        "      <td> 13.20</td>\n",
        "      <td> 1.78</td>\n",
        "      <td> 11.2</td>\n",
        "      <td> 100</td>\n",
        "      <td> 2.65</td>\n",
        "      <td> 2.76</td>\n",
        "      <td> 0.26</td>\n",
        "      <td> 4.38</td>\n",
        "      <td> 1.05</td>\n",
        "      <td> 3.40</td>\n",
        "      <td> 1050</td>\n",
        "    </tr>\n",
        "    <tr>\n",
        "      <th>2.87</th>\n",
        "      <th>1.82</th>\n",
        "      <td> 1</td>\n",
        "      <td> 13.24</td>\n",
        "      <td> 2.59</td>\n",
        "      <td> 21.0</td>\n",
        "      <td> 118</td>\n",
        "      <td> 2.80</td>\n",
        "      <td> 2.69</td>\n",
        "      <td> 0.39</td>\n",
        "      <td> 4.32</td>\n",
        "      <td> 1.04</td>\n",
        "      <td> 2.93</td>\n",
        "      <td>  735</td>\n",
        "    </tr>\n",
        "  </tbody>\n",
        "</table>\n",
        "</div>"
       ],
       "metadata": {},
       "output_type": "pyout",
       "prompt_number": 5,
       "text": [
        "           a      b     c     e    f     g     h     i     k     l     m     n\n",
        "d    j                                                                        \n",
        "2.14 1.28  1  13.20  1.78  11.2  100  2.65  2.76  0.26  4.38  1.05  3.40  1050\n",
        "2.87 1.82  1  13.24  2.59  21.0  118  2.80  2.69  0.39  4.32  1.04  2.93   735"
       ]
      }
     ],
     "prompt_number": 5
    },
    {
     "cell_type": "code",
     "collapsed": false,
     "input": [
      "critics = pd.read_csv('../data/critics.csv')\n",
      "critics.head(1)"
     ],
     "language": "python",
     "metadata": {},
     "outputs": [
      {
       "html": [
        "<div style=\"max-height:1000px;max-width:1500px;overflow:auto;\">\n",
        "<table border=\"1\" class=\"dataframe\">\n",
        "  <thead>\n",
        "    <tr style=\"text-align: right;\">\n",
        "      <th></th>\n",
        "      <th>critic</th>\n",
        "      <th>date</th>\n",
        "      <th>fresh</th>\n",
        "      <th>imdb</th>\n",
        "      <th>original_score</th>\n",
        "      <th>publication</th>\n",
        "      <th>quote</th>\n",
        "      <th>review_date</th>\n",
        "      <th>rt_id</th>\n",
        "      <th>title</th>\n",
        "    </tr>\n",
        "  </thead>\n",
        "  <tbody>\n",
        "    <tr>\n",
        "      <th>0</th>\n",
        "      <td> Derek Adams</td>\n",
        "      <td> 2009-10-04</td>\n",
        "      <td> fresh</td>\n",
        "      <td> 114709</td>\n",
        "      <td> 5/5</td>\n",
        "      <td> Time Out</td>\n",
        "      <td> So ingenious in concept, design and execution ...</td>\n",
        "      <td> http://www.timeout.com/film/reviews/87745/toy-...</td>\n",
        "      <td> 9559</td>\n",
        "      <td> Toy Story</td>\n",
        "    </tr>\n",
        "  </tbody>\n",
        "</table>\n",
        "</div>"
       ],
       "metadata": {},
       "output_type": "pyout",
       "prompt_number": 6,
       "text": [
        "        critic        date  fresh    imdb original_score publication  \\\n",
        "0  Derek Adams  2009-10-04  fresh  114709            5/5    Time Out   \n",
        "\n",
        "                                               quote  \\\n",
        "0  So ingenious in concept, design and execution ...   \n",
        "\n",
        "                                         review_date  rt_id      title  \n",
        "0  http://www.timeout.com/film/reviews/87745/toy-...   9559  Toy Story  "
       ]
      }
     ],
     "prompt_number": 6
    },
    {
     "cell_type": "markdown",
     "metadata": {},
     "source": [
      "####Text\n",
      "[back to top](#contents)"
     ]
    },
    {
     "cell_type": "code",
     "collapsed": false,
     "input": [
      "!head '../data/imdb.txt'"
     ],
     "language": "python",
     "metadata": {},
     "outputs": [
      {
       "output_type": "stream",
       "stream": "stdout",
       "text": [
        "tt0111161\tThe Shawshank Redemption (1994)\t1994\t 9.2\t619479\t142 mins.\tCrime|Drama\r\n",
        "tt0110912\tPulp Fiction (1994)\t1994\t 9.0\t490065\t154 mins.\tCrime|Thriller\r\n",
        "tt0137523\tFight Club (1999)\t1999\t 8.8\t458173\t139 mins.\tDrama|Mystery|Thriller\r\n",
        "tt0133093\tThe Matrix (1999)\t1999\t 8.7\t448114\t136 mins.\tAction|Adventure|Sci-Fi\r\n",
        "tt1375666\tInception (2010)\t2010\t 8.9\t385149\t148 mins.\tAction|Adventure|Sci-Fi|Thriller\r\n",
        "tt0109830\tForrest Gump (1994)\t1994\t 8.7\t368994\t142 mins.\tComedy|Drama|Romance\r\n",
        "tt0169547\tAmerican Beauty (1999)\t1999\t 8.6\t338332\t122 mins.\tDrama\r\n",
        "tt0499549\tAvatar (2009)\t2009\t 8.1\t336855\t162 mins.\tAction|Adventure|Fantasy|Sci-Fi\r\n",
        "tt0108052\tSchindler's List (1993)\t1993\t 8.9\t325888\t195 mins.\tBiography|Drama|History|War\r\n",
        "tt0080684\tStar Wars: Episode V - The Empire Strikes Back (1980)\t1980\t 8.8\t320105\t124 mins.\tAction|Adventure|Family|Sci-Fi\r\n"
       ]
      }
     ],
     "prompt_number": 7
    },
    {
     "cell_type": "code",
     "collapsed": false,
     "input": [
      "names = ['imdbID', 'title', 'year', 'score', 'votes', 'runtime', 'genres']\n",
      "imdb = pd.read_csv('../data/imdb.txt',\n",
      "                     delimiter='\\t',\n",
      "                     names=names).dropna()\n",
      "# imdb.head(2)\n",
      "print imdb.keys()"
     ],
     "language": "python",
     "metadata": {},
     "outputs": [
      {
       "output_type": "stream",
       "stream": "stdout",
       "text": [
        "Index([u'imdbID', u'title', u'year', u'score', u'votes', u'runtime', u'genres'], dtype='object')\n"
       ]
      }
     ],
     "prompt_number": 8
    },
    {
     "cell_type": "markdown",
     "metadata": {},
     "source": [
      "####TSV\n",
      "[back to top](#contents)"
     ]
    },
    {
     "cell_type": "code",
     "collapsed": false,
     "input": [
      "!head '../data/movies.tsv'"
     ],
     "language": "python",
     "metadata": {},
     "outputs": [
      {
       "output_type": "stream",
       "stream": "stdout",
       "text": [
        "PhraseId\tSentenceId\tPhrase\tSentiment\r\n",
        "1\t1\tA series of escapades demonstrating the adage that what is good for the goose is also good for the gander , some of which occasionally amuses but none of which amounts to much of a story .\t1\r\n",
        "2\t1\tA series of escapades demonstrating the adage that what is good for the goose\t2\r\n",
        "3\t1\tA series\t2\r\n",
        "4\t1\tA\t2\r\n",
        "5\t1\tseries\t2\r\n",
        "6\t1\tof escapades demonstrating the adage that what is good for the goose\t2\r\n",
        "7\t1\tof\t2\r\n",
        "8\t1\tescapades demonstrating the adage that what is good for the goose\t2\r\n",
        "9\t1\tescapades\t2\r\n"
       ]
      }
     ],
     "prompt_number": 9
    },
    {
     "cell_type": "code",
     "collapsed": false,
     "input": [
      "movies = pd.DataFrame.from_csv('../data/movies.tsv', sep='\\t')\n",
      "movies.head(10)"
     ],
     "language": "python",
     "metadata": {},
     "outputs": [
      {
       "html": [
        "<div style=\"max-height:1000px;max-width:1500px;overflow:auto;\">\n",
        "<table border=\"1\" class=\"dataframe\">\n",
        "  <thead>\n",
        "    <tr style=\"text-align: right;\">\n",
        "      <th></th>\n",
        "      <th>SentenceId</th>\n",
        "      <th>Phrase</th>\n",
        "      <th>Sentiment</th>\n",
        "    </tr>\n",
        "    <tr>\n",
        "      <th>PhraseId</th>\n",
        "      <th></th>\n",
        "      <th></th>\n",
        "      <th></th>\n",
        "    </tr>\n",
        "  </thead>\n",
        "  <tbody>\n",
        "    <tr>\n",
        "      <th>1 </th>\n",
        "      <td> 1</td>\n",
        "      <td> A series of escapades demonstrating the adage ...</td>\n",
        "      <td> 1</td>\n",
        "    </tr>\n",
        "    <tr>\n",
        "      <th>2 </th>\n",
        "      <td> 1</td>\n",
        "      <td> A series of escapades demonstrating the adage ...</td>\n",
        "      <td> 2</td>\n",
        "    </tr>\n",
        "    <tr>\n",
        "      <th>3 </th>\n",
        "      <td> 1</td>\n",
        "      <td>                                          A series</td>\n",
        "      <td> 2</td>\n",
        "    </tr>\n",
        "    <tr>\n",
        "      <th>4 </th>\n",
        "      <td> 1</td>\n",
        "      <td>                                                 A</td>\n",
        "      <td> 2</td>\n",
        "    </tr>\n",
        "    <tr>\n",
        "      <th>5 </th>\n",
        "      <td> 1</td>\n",
        "      <td>                                            series</td>\n",
        "      <td> 2</td>\n",
        "    </tr>\n",
        "    <tr>\n",
        "      <th>6 </th>\n",
        "      <td> 1</td>\n",
        "      <td> of escapades demonstrating the adage that what...</td>\n",
        "      <td> 2</td>\n",
        "    </tr>\n",
        "    <tr>\n",
        "      <th>7 </th>\n",
        "      <td> 1</td>\n",
        "      <td>                                                of</td>\n",
        "      <td> 2</td>\n",
        "    </tr>\n",
        "    <tr>\n",
        "      <th>8 </th>\n",
        "      <td> 1</td>\n",
        "      <td> escapades demonstrating the adage that what is...</td>\n",
        "      <td> 2</td>\n",
        "    </tr>\n",
        "    <tr>\n",
        "      <th>9 </th>\n",
        "      <td> 1</td>\n",
        "      <td>                                         escapades</td>\n",
        "      <td> 2</td>\n",
        "    </tr>\n",
        "    <tr>\n",
        "      <th>10</th>\n",
        "      <td> 1</td>\n",
        "      <td> demonstrating the adage that what is good for ...</td>\n",
        "      <td> 2</td>\n",
        "    </tr>\n",
        "  </tbody>\n",
        "</table>\n",
        "</div>"
       ],
       "metadata": {},
       "output_type": "pyout",
       "prompt_number": 10,
       "text": [
        "          SentenceId                                             Phrase  \\\n",
        "PhraseId                                                                  \n",
        "1                  1  A series of escapades demonstrating the adage ...   \n",
        "2                  1  A series of escapades demonstrating the adage ...   \n",
        "3                  1                                           A series   \n",
        "4                  1                                                  A   \n",
        "5                  1                                             series   \n",
        "6                  1  of escapades demonstrating the adage that what...   \n",
        "7                  1                                                 of   \n",
        "8                  1  escapades demonstrating the adage that what is...   \n",
        "9                  1                                          escapades   \n",
        "10                 1  demonstrating the adage that what is good for ...   \n",
        "\n",
        "          Sentiment  \n",
        "PhraseId             \n",
        "1                 1  \n",
        "2                 2  \n",
        "3                 2  \n",
        "4                 2  \n",
        "5                 2  \n",
        "6                 2  \n",
        "7                 2  \n",
        "8                 2  \n",
        "9                 2  \n",
        "10                2  "
       ]
      }
     ],
     "prompt_number": 10
    },
    {
     "cell_type": "markdown",
     "metadata": {},
     "source": [
      "####JSON\n",
      "[back to top](#contents)"
     ]
    },
    {
     "cell_type": "code",
     "collapsed": false,
     "input": [
      "# !head '../data/bitly.txt'"
     ],
     "language": "python",
     "metadata": {},
     "outputs": [],
     "prompt_number": 11
    },
    {
     "cell_type": "code",
     "collapsed": false,
     "input": [
      "import json\n",
      "\n",
      "path = '../data/bitly.txt'\n",
      "lines = open(path).readlines()\n",
      "records = [json.loads(line) for line in lines]\n",
      "bitly = pd.DataFrame(records)\n",
      "bitly.head(2)"
     ],
     "language": "python",
     "metadata": {},
     "outputs": [
      {
       "html": [
        "<div style=\"max-height:1000px;max-width:1500px;overflow:auto;\">\n",
        "<table border=\"1\" class=\"dataframe\">\n",
        "  <thead>\n",
        "    <tr style=\"text-align: right;\">\n",
        "      <th></th>\n",
        "      <th>_heartbeat_</th>\n",
        "      <th>a</th>\n",
        "      <th>al</th>\n",
        "      <th>c</th>\n",
        "      <th>cy</th>\n",
        "      <th>g</th>\n",
        "      <th>gr</th>\n",
        "      <th>h</th>\n",
        "      <th>hc</th>\n",
        "      <th>hh</th>\n",
        "      <th>kw</th>\n",
        "      <th>l</th>\n",
        "      <th>ll</th>\n",
        "      <th>nk</th>\n",
        "      <th>r</th>\n",
        "      <th>t</th>\n",
        "      <th>tz</th>\n",
        "      <th>u</th>\n",
        "    </tr>\n",
        "  </thead>\n",
        "  <tbody>\n",
        "    <tr>\n",
        "      <th>0</th>\n",
        "      <td>NaN</td>\n",
        "      <td> Mozilla/5.0 (Windows NT 6.1; WOW64) AppleWebKi...</td>\n",
        "      <td> en-US,en;q=0.8</td>\n",
        "      <td> US</td>\n",
        "      <td> Danvers</td>\n",
        "      <td> A6qOVH</td>\n",
        "      <td> MA</td>\n",
        "      <td> wfLQtf</td>\n",
        "      <td> 1331822918</td>\n",
        "      <td> 1.usa.gov</td>\n",
        "      <td> NaN</td>\n",
        "      <td> orofrog</td>\n",
        "      <td>  [42.576698, -70.954903]</td>\n",
        "      <td> 1</td>\n",
        "      <td> http://www.facebook.com/l/7AQEFzjSi/1.usa.gov/...</td>\n",
        "      <td> 1331923247</td>\n",
        "      <td> America/New_York</td>\n",
        "      <td> http://www.ncbi.nlm.nih.gov/pubmed/22415991</td>\n",
        "    </tr>\n",
        "    <tr>\n",
        "      <th>1</th>\n",
        "      <td>NaN</td>\n",
        "      <td>                            GoogleMaps/RochesterNY</td>\n",
        "      <td>            NaN</td>\n",
        "      <td> US</td>\n",
        "      <td>   Provo</td>\n",
        "      <td> mwszkS</td>\n",
        "      <td> UT</td>\n",
        "      <td> mwszkS</td>\n",
        "      <td> 1308262393</td>\n",
        "      <td>      j.mp</td>\n",
        "      <td> NaN</td>\n",
        "      <td>   bitly</td>\n",
        "      <td> [40.218102, -111.613297]</td>\n",
        "      <td> 0</td>\n",
        "      <td>                          http://www.AwareMap.com/</td>\n",
        "      <td> 1331923249</td>\n",
        "      <td>   America/Denver</td>\n",
        "      <td> http://www.monroecounty.gov/etc/911/rss.php</td>\n",
        "    </tr>\n",
        "  </tbody>\n",
        "</table>\n",
        "</div>"
       ],
       "metadata": {},
       "output_type": "pyout",
       "prompt_number": 12,
       "text": [
        "   _heartbeat_                                                  a  \\\n",
        "0          NaN  Mozilla/5.0 (Windows NT 6.1; WOW64) AppleWebKi...   \n",
        "1          NaN                             GoogleMaps/RochesterNY   \n",
        "\n",
        "               al   c       cy       g  gr       h          hc         hh  \\\n",
        "0  en-US,en;q=0.8  US  Danvers  A6qOVH  MA  wfLQtf  1331822918  1.usa.gov   \n",
        "1             NaN  US    Provo  mwszkS  UT  mwszkS  1308262393       j.mp   \n",
        "\n",
        "    kw        l                        ll  nk  \\\n",
        "0  NaN  orofrog   [42.576698, -70.954903]   1   \n",
        "1  NaN    bitly  [40.218102, -111.613297]   0   \n",
        "\n",
        "                                                   r           t  \\\n",
        "0  http://www.facebook.com/l/7AQEFzjSi/1.usa.gov/...  1331923247   \n",
        "1                           http://www.AwareMap.com/  1331923249   \n",
        "\n",
        "                 tz                                            u  \n",
        "0  America/New_York  http://www.ncbi.nlm.nih.gov/pubmed/22415991  \n",
        "1    America/Denver  http://www.monroecounty.gov/etc/911/rss.php  "
       ]
      }
     ],
     "prompt_number": 12
    },
    {
     "cell_type": "markdown",
     "metadata": {},
     "source": [
      "####Web API\n",
      "[back to top](#contents)"
     ]
    },
    {
     "cell_type": "code",
     "collapsed": false,
     "input": [
      "from urllib2 import Request, urlopen\n",
      "import json\n",
      "from pandas.io.json import json_normalize\n",
      "\n",
      "path1 = '42.974049,-81.205203|42.974298,-81.195755'\n",
      "request=Request('http://maps.googleapis.com/maps/api/elevation/json?locations='+path1+'&sensor=false')\n",
      "response = urlopen(request)\n",
      "elevations = response.read()\n",
      "data = json.loads(elevations)\n",
      "google = json_normalize(data['results'])\n",
      "google.head()"
     ],
     "language": "python",
     "metadata": {},
     "outputs": [
      {
       "html": [
        "<div style=\"max-height:1000px;max-width:1500px;overflow:auto;\">\n",
        "<table border=\"1\" class=\"dataframe\">\n",
        "  <thead>\n",
        "    <tr style=\"text-align: right;\">\n",
        "      <th></th>\n",
        "      <th>elevation</th>\n",
        "      <th>location.lat</th>\n",
        "      <th>location.lng</th>\n",
        "      <th>resolution</th>\n",
        "    </tr>\n",
        "  </thead>\n",
        "  <tbody>\n",
        "    <tr>\n",
        "      <th>0</th>\n",
        "      <td> 243.346268</td>\n",
        "      <td> 42.974049</td>\n",
        "      <td>-81.205203</td>\n",
        "      <td> 19.087904</td>\n",
        "    </tr>\n",
        "    <tr>\n",
        "      <th>1</th>\n",
        "      <td> 244.131866</td>\n",
        "      <td> 42.974298</td>\n",
        "      <td>-81.195755</td>\n",
        "      <td> 19.087904</td>\n",
        "    </tr>\n",
        "  </tbody>\n",
        "</table>\n",
        "</div>"
       ],
       "metadata": {},
       "output_type": "pyout",
       "prompt_number": 13,
       "text": [
        "    elevation  location.lat  location.lng  resolution\n",
        "0  243.346268     42.974049    -81.205203   19.087904\n",
        "1  244.131866     42.974298    -81.195755   19.087904"
       ]
      }
     ],
     "prompt_number": 13
    },
    {
     "cell_type": "markdown",
     "metadata": {},
     "source": [
      "####Databases\n",
      "[back to top](#contents)"
     ]
    },
    {
     "cell_type": "markdown",
     "metadata": {},
     "source": [
      "###Exporting\n",
      "[back to top](#contents)"
     ]
    },
    {
     "cell_type": "code",
     "collapsed": false,
     "input": [
      "import sys\n",
      "wine.to_csv('../data/out.csv')\n",
      "!head '../data/out.csv'"
     ],
     "language": "python",
     "metadata": {},
     "outputs": [
      {
       "output_type": "stream",
       "stream": "stdout",
       "text": [
        "d,j,a,b,c,e,f,g,h,i,k,l,m,n\r\n",
        "2.14,1.28,1,13.2,1.78,11.2,100,2.65,2.76,0.26,4.38,1.05,3.4,1050\r\n",
        "2.87,1.82,1,13.24,2.59,21.0,118,2.8,2.69,0.39,4.32,1.04,2.93,735\r\n",
        "2.45,1.97,1,14.2,1.76,15.2,112,3.27,3.39,0.34,6.75,1.05,2.85,1450\r\n",
        "2.45,1.98,1,14.39,1.87,14.6,96,2.5,2.52,0.3,5.25,1.02,3.58,1290\r\n",
        "2.61,1.25,1,14.06,2.15,17.6,121,2.6,2.51,0.31,5.05,1.06,3.58,1295\r\n",
        "2.17,1.98,1,14.83,1.64,14.0,97,2.8,2.98,0.29,5.2,1.08,2.85,1045\r\n",
        "2.27,1.85,1,13.86,1.35,16.0,98,2.98,3.15,0.22,7.22,1.01,3.55,1045\r\n",
        "2.3,2.38,1,14.1,2.16,18.0,105,2.95,3.32,0.22,5.75,1.25,3.17,1510\r\n",
        "2.32,1.57,1,14.12,1.48,16.8,95,2.2,2.43,0.26,5.0,1.17,2.82,1280\r\n"
       ]
      }
     ],
     "prompt_number": 14
    },
    {
     "cell_type": "markdown",
     "metadata": {},
     "source": [
      "###Summarizing\n",
      "[back to top](#contents)"
     ]
    },
    {
     "cell_type": "code",
     "collapsed": false,
     "input": [
      "print \"No. of rows:\", imdb.shape[0]\n",
      "print \"No. of columns:\", imdb.shape[1]\n",
      "print \"No. of genres:\", imdb.genres.unique().shape[0]\n",
      "print imdb[['title', 'year', 'votes']].describe()\n",
      "print \"Total Bill:\", tips.total_bill.sum()\n",
      "print tips['sex'].value_counts()\n",
      "print imdb.cov()\n",
      "print imdb.corr()\n",
      "imdb.count()\n",
      "imdb.head()\n",
      "imdb.info()\n",
      "imdb.keys()"
     ],
     "language": "python",
     "metadata": {},
     "outputs": [
      {
       "output_type": "stream",
       "stream": "stdout",
       "text": [
        "No. of rows: 9999\n",
        "No. of columns: 7\n",
        "No. of genres: 1643\n",
        "              year          votes\n",
        "count  9999.000000    9999.000000\n",
        "mean   1993.471447   16605.462946\n",
        "std      14.830049   34564.883945\n",
        "min    1950.000000    1356.000000\n",
        "25%    1986.000000    2334.500000\n",
        "50%    1998.000000    4981.000000\n",
        "75%    2005.000000   15278.500000\n",
        "max    2011.000000  619479.000000\n",
        "Total Bill: 4827.77\n",
        "Male      157\n",
        "Female     87\n",
        "dtype: int64\n",
        "               year         score         votes\n",
        "year     219.930346     -3.694534  5.758078e+04\n",
        "score     -3.694534      1.416016  1.094042e+04\n",
        "votes  57580.779523  10940.419310  1.194731e+09\n",
        "           year     score     votes\n",
        "year   1.000000 -0.209355  0.112331\n",
        "score -0.209355  1.000000  0.265990\n",
        "votes  0.112331  0.265990  1.000000\n",
        "<class 'pandas.core.frame.DataFrame'>\n",
        "Int64Index: 9999 entries, 0 to 9999\n",
        "Data columns (total 7 columns):\n",
        "imdbID     9999 non-null object\n",
        "title      9999 non-null object\n",
        "year       9999 non-null int64\n",
        "score      9999 non-null float64\n",
        "votes      9999 non-null int64\n",
        "runtime    9999 non-null object\n",
        "genres     9999 non-null object\n",
        "dtypes: float64(1), int64(2), object(4)\n",
        "memory usage: 624.9+ KB\n"
       ]
      },
      {
       "metadata": {},
       "output_type": "pyout",
       "prompt_number": 15,
       "text": [
        "Index([u'imdbID', u'title', u'year', u'score', u'votes', u'runtime', u'genres'], dtype='object')"
       ]
      }
     ],
     "prompt_number": 15
    },
    {
     "cell_type": "markdown",
     "metadata": {},
     "source": [
      "###Selecting\n",
      "[back to top](#contents)"
     ]
    },
    {
     "cell_type": "code",
     "collapsed": false,
     "input": [
      "#Rows\n",
      "baseball.ix[22]\n",
      "baseball.loc['Addison']\n",
      "tips[:2]"
     ],
     "language": "python",
     "metadata": {},
     "outputs": [
      {
       "ename": "NameError",
       "evalue": "name 'baseball' is not defined",
       "output_type": "pyerr",
       "traceback": [
        "\u001b[0;31m---------------------------------------------------------------------------\u001b[0m\n\u001b[0;31mNameError\u001b[0m                                 Traceback (most recent call last)",
        "\u001b[0;32m<ipython-input-16-87f622b16dd3>\u001b[0m in \u001b[0;36m<module>\u001b[0;34m()\u001b[0m\n\u001b[1;32m      1\u001b[0m \u001b[0;31m#Rows\u001b[0m\u001b[0;34m\u001b[0m\u001b[0;34m\u001b[0m\u001b[0m\n\u001b[0;32m----> 2\u001b[0;31m \u001b[0mbaseball\u001b[0m\u001b[0;34m.\u001b[0m\u001b[0mix\u001b[0m\u001b[0;34m[\u001b[0m\u001b[0;36m22\u001b[0m\u001b[0;34m]\u001b[0m\u001b[0;34m\u001b[0m\u001b[0m\n\u001b[0m\u001b[1;32m      3\u001b[0m \u001b[0mbaseball\u001b[0m\u001b[0;34m.\u001b[0m\u001b[0mloc\u001b[0m\u001b[0;34m[\u001b[0m\u001b[0;34m'Addison'\u001b[0m\u001b[0;34m]\u001b[0m\u001b[0;34m\u001b[0m\u001b[0m\n\u001b[1;32m      4\u001b[0m \u001b[0mtips\u001b[0m\u001b[0;34m[\u001b[0m\u001b[0;34m:\u001b[0m\u001b[0;36m2\u001b[0m\u001b[0;34m]\u001b[0m\u001b[0;34m\u001b[0m\u001b[0m\n",
        "\u001b[0;31mNameError\u001b[0m: name 'baseball' is not defined"
       ]
      }
     ],
     "prompt_number": 16
    },
    {
     "cell_type": "code",
     "collapsed": false,
     "input": [
      "#Columns\n",
      "tips[['total_bill', 'smoker']]\n",
      "tips.set_index(['total_bill', 'tip'])\n",
      "tips.ix[:,1:3].head(2)"
     ],
     "language": "python",
     "metadata": {},
     "outputs": []
    },
    {
     "cell_type": "code",
     "collapsed": false,
     "input": [
      "tips[tips['total_bill'] > 45]\n",
      "tips[(tips['total_bill'] > 45) & (tips['smoker'] == 'Yes')]"
     ],
     "language": "python",
     "metadata": {},
     "outputs": []
    },
    {
     "cell_type": "code",
     "collapsed": false,
     "input": [
      "###Specific Cells\n",
      "tips.ix[102, ['total_bill', 'sex', 'smoker']]"
     ],
     "language": "python",
     "metadata": {},
     "outputs": []
    },
    {
     "cell_type": "markdown",
     "metadata": {},
     "source": [
      "###Renaming\n",
      "[back to top](#contents)"
     ]
    },
    {
     "cell_type": "code",
     "collapsed": false,
     "input": [
      "#Columns\n",
      "tips1 = tips.rename(columns={'total_bill': 'kickass'})\n",
      "tips1.columns = map(str.lower, tips1.columns)\n",
      "tips1.head(2)"
     ],
     "language": "python",
     "metadata": {},
     "outputs": []
    },
    {
     "cell_type": "code",
     "collapsed": false,
     "input": [
      "#Rows\n",
      "tips1 = tips.rename(index={0: 'change_index'})\n",
      "tips1.head(2)"
     ],
     "language": "python",
     "metadata": {},
     "outputs": []
    },
    {
     "cell_type": "markdown",
     "metadata": {},
     "source": [
      "###Clean Data\n",
      "[back to top](#contents)"
     ]
    },
    {
     "cell_type": "code",
     "collapsed": false,
     "input": [
      "imdb.head(2)"
     ],
     "language": "python",
     "metadata": {},
     "outputs": []
    },
    {
     "cell_type": "code",
     "collapsed": false,
     "input": [
      "#Rename data in a column\n",
      "imdb['title'] = [c[0:-7] for c in imdb.title]\n",
      "imdb['runtime'] = [float(c.split(' ')[0]) for c in imdb.runtime]\n",
      "\n",
      "#remove non-letter characters from columns\n",
      "import re\n",
      "def _strip(s):\n",
      "    return re.sub(r'[\\W_]+', '', s)\n",
      "imdb = imdb.rename(columns={c: _strip(c) for c in imdb.columns})\n",
      "\n",
      "#e.g. hello.bye\n",
      "df = df.rename(columns=lambda x: x.split('.')[-1], inplace=True)\n",
      "\n",
      "#To edit and sub in multiple columns (e.g divide 2 columns by 100)\n",
      "columnlist = ['col1', 'col2']\n",
      "df2 = df[columnlist].apply(lambda x: x/100.0)\n",
      "df[columnlist] = df2"
     ],
     "language": "python",
     "metadata": {},
     "outputs": []
    },
    {
     "cell_type": "markdown",
     "metadata": {},
     "source": [
      "###Mapping\n",
      "[back to top](#contents)"
     ]
    },
    {
     "cell_type": "code",
     "collapsed": false,
     "input": [
      "titanic.head(2)"
     ],
     "language": "python",
     "metadata": {},
     "outputs": []
    },
    {
     "cell_type": "code",
     "collapsed": false,
     "input": [
      "#map data to a new column\n",
      "titanic2 = titanic.copy()\n",
      "titanic2[\"status\"] = titanic.survived.map({0: \"Dead\", 1: \"Alive\"})\n",
      "\n",
      "titanic2[[\"survived\", \"status\"]].head()"
     ],
     "language": "python",
     "metadata": {},
     "outputs": []
    },
    {
     "cell_type": "code",
     "collapsed": false,
     "input": [
      "#Apply\n",
      "def woman_child_or_man(passenger):\n",
      "    age, sex = passenger\n",
      "    if age < 16:\n",
      "        return \"child\"\n",
      "    else:\n",
      "        return dict(male=\"man\", female=\"woman\")[sex]\n",
      "\n",
      "titanic[\"who\"] = titanic[[\"age\", \"sex\"]].apply(woman_child_or_man, axis=1)"
     ],
     "language": "python",
     "metadata": {},
     "outputs": []
    },
    {
     "cell_type": "markdown",
     "metadata": {},
     "source": [
      "###Sorting\n",
      "[back to top](#contents)"
     ]
    },
    {
     "cell_type": "code",
     "collapsed": false,
     "input": [
      "#Rows\n",
      "tips1 = tips.sort_index(ascending=True)\n",
      "tips1.head(2)"
     ],
     "language": "python",
     "metadata": {},
     "outputs": []
    },
    {
     "cell_type": "code",
     "collapsed": false,
     "input": [
      "#Columns\n",
      "tips1 = tips.sort_index(axis=1, ascending=True)\n",
      "tips1.head(2)"
     ],
     "language": "python",
     "metadata": {},
     "outputs": []
    },
    {
     "cell_type": "code",
     "collapsed": false,
     "input": [
      "tips1 = tips.sort(['total_bill', 'sex'], ascending=False)\n",
      "tips1.head(2)"
     ],
     "language": "python",
     "metadata": {},
     "outputs": []
    },
    {
     "cell_type": "markdown",
     "metadata": {},
     "source": [
      "###Missing Data\n",
      "[back to top](#contents)"
     ]
    },
    {
     "cell_type": "code",
     "collapsed": false,
     "input": [
      "toy = pd.DataFrame(np.random.randn(10,3),columns=list('ABC'))\n",
      "toy.iloc[3:5,0] = np.nan\n",
      "toy.iloc[4:6,1] = np.nan\n",
      "toy.iloc[5:8,2] = np.nan\n",
      "toy"
     ],
     "language": "python",
     "metadata": {},
     "outputs": []
    },
    {
     "cell_type": "code",
     "collapsed": false,
     "input": [
      "#Check for missing data\n",
      "print pd.isnull(toy['A'])\n",
      "print \"No. of missing data:\", len(np.where((toy)['A'].isnull())[0])"
     ],
     "language": "python",
     "metadata": {},
     "outputs": []
    },
    {
     "cell_type": "markdown",
     "metadata": {},
     "source": [
      "###Drop Data\n",
      "[back to top](#contents)"
     ]
    },
    {
     "cell_type": "code",
     "collapsed": false,
     "input": [
      "#drop data\n",
      "toy1 = toy.dropna()\n",
      "\n",
      "#drop columns\n",
      "toy1 = toy.drop(['A', 'B'], axis=1)\n",
      "\n",
      "#drop rows\n",
      "toy1 = toy.drop(toy.index[[1,3]])\n",
      "\n",
      "#Conditional dropping\n",
      "toy1 = toy[toy.B < 0]\n",
      "\n",
      "#Drop rows with missing data in col1\n",
      "df = df[~df.col1.isnull()]\n",
      "\n",
      "# toy1"
     ],
     "language": "python",
     "metadata": {},
     "outputs": []
    },
    {
     "cell_type": "markdown",
     "metadata": {},
     "source": [
      "###Fill Data\n",
      "[back to top](#contents)"
     ]
    },
    {
     "cell_type": "code",
     "collapsed": false,
     "input": [
      "#fill data\n",
      "toy.fillna(0)\n",
      "toy.fillna(method='ffill')\n",
      "toy.fillna(method='bfill')\n",
      "toy.fillna(toy.mean())\n",
      "toy.fillna(toy.dropna().median())"
     ],
     "language": "python",
     "metadata": {},
     "outputs": []
    },
    {
     "cell_type": "markdown",
     "metadata": {},
     "source": [
      "###Combining Datasets\n",
      "[back to top](#contents)"
     ]
    },
    {
     "cell_type": "code",
     "collapsed": false,
     "input": [
      "#generate dataframe\n",
      "df1 = pd.DataFrame(data={\"A\":[1,2,3,4], \"B\":[1.2,1.3,1.4,1.6], \"C\":[\"a\",\"b\",\"c\",\"a\"]})\n",
      "df2 = pd.DataFrame({'C' : ['a','b'], 'A' : [1, 2]})\n",
      "df1"
     ],
     "language": "python",
     "metadata": {},
     "outputs": []
    },
    {
     "cell_type": "code",
     "collapsed": false,
     "input": [
      "df2"
     ],
     "language": "python",
     "metadata": {},
     "outputs": []
    },
    {
     "cell_type": "code",
     "collapsed": false,
     "input": [
      "pd.merge(df1, df2, on='C',how='inner')\n",
      "# pd.merge(df1, df2, on='C',how='left')\n",
      "# pd.merge(df1, df2, on='C',how='right')\n",
      "# pd.merge(df1, df2, on='C',how='outer')"
     ],
     "language": "python",
     "metadata": {},
     "outputs": []
    },
    {
     "cell_type": "code",
     "collapsed": false,
     "input": [
      "df3 = pd.concat([df1, df2])\n",
      "df3"
     ],
     "language": "python",
     "metadata": {},
     "outputs": []
    },
    {
     "cell_type": "markdown",
     "metadata": {},
     "source": [
      "###Remove Duplicates\n",
      "[back to top](#contents)"
     ]
    },
    {
     "cell_type": "code",
     "collapsed": false,
     "input": [
      "data = pd.DataFrame({'k1': ['one'] * 3 + ['two'] * 4,\n",
      "                  'k2': [1, 1, 2, 3, 3, 4, 4]})\n",
      "data.duplicated()"
     ],
     "language": "python",
     "metadata": {},
     "outputs": []
    },
    {
     "cell_type": "code",
     "collapsed": false,
     "input": [
      "data.drop_duplicates()"
     ],
     "language": "python",
     "metadata": {},
     "outputs": []
    },
    {
     "cell_type": "markdown",
     "metadata": {},
     "source": [
      "###Outliers\n",
      "[back to top](#contents)"
     ]
    },
    {
     "cell_type": "code",
     "collapsed": false,
     "input": [
      "#Detect outliers\n",
      "plt.hist(titanic.fare, bins=100);"
     ],
     "language": "python",
     "metadata": {},
     "outputs": []
    },
    {
     "cell_type": "code",
     "collapsed": false,
     "input": [
      "#finding the max/min\n",
      "titanic[titanic.fare == titanic.fare.max()][['survived', 'fare']]\n",
      "\n",
      "#find the range\n",
      "titanic[(titanic.fare > 200)][['survived', 'fare']]\n",
      "\n",
      "#condition\n",
      "titanic[(titanic.fare > 200) & (titanic.survived == 0)][['survived', 'fare']]"
     ],
     "language": "python",
     "metadata": {},
     "outputs": []
    },
    {
     "cell_type": "code",
     "collapsed": false,
     "input": [
      "#Convert those above 200 to be 200\n",
      "titanic[\"fare_winsor\"] = titanic.fare.map(lambda f: min(f, 200))"
     ],
     "language": "python",
     "metadata": {},
     "outputs": []
    },
    {
     "cell_type": "markdown",
     "metadata": {},
     "source": [
      "###Sampling\n",
      "[back to top](#contents)"
     ]
    },
    {
     "cell_type": "code",
     "collapsed": false,
     "input": [
      "#Take a random subset\n",
      "df = tips\n",
      "df_small = df.take(np.random.permutation(len(df))[:20])\n",
      "df_small.shape"
     ],
     "language": "python",
     "metadata": {},
     "outputs": []
    },
    {
     "cell_type": "code",
     "collapsed": false,
     "input": [
      "#Subset based on conditions\n",
      "tips_small = tips[(tips.tip > 5) & (tips.total_bill > 20)]\n",
      "print tips.shape\n",
      "print tips_small.shape"
     ],
     "language": "python",
     "metadata": {},
     "outputs": []
    },
    {
     "cell_type": "code",
     "collapsed": false,
     "input": [
      "#Re-ordering\n",
      "sampler = np.random.permutation(len(tips))\n",
      "tips_reorder = tips.take(sampler)\n",
      "tips_reorder.head(5)"
     ],
     "language": "python",
     "metadata": {},
     "outputs": []
    },
    {
     "cell_type": "markdown",
     "metadata": {},
     "source": [
      "###New Columns\n",
      "[back to top](#contents)"
     ]
    },
    {
     "cell_type": "code",
     "collapsed": false,
     "input": [
      "#single column as a function of multiple columns\n",
      "def tips_pct_total(tips):\n",
      "    return tips['tip'] /tips['total_bill']\n",
      "\n",
      "tips['Pct'] = tips.apply(tips_pct_total, axis=1)\n",
      "tips.head(2)"
     ],
     "language": "python",
     "metadata": {},
     "outputs": []
    },
    {
     "cell_type": "markdown",
     "metadata": {},
     "source": [
      "###Groupby\n",
      "[back to top](#contents)"
     ]
    },
    {
     "cell_type": "code",
     "collapsed": false,
     "input": [
      "df = titanic\n",
      "data1 = \"survived\" #categorical\n",
      "data2 = \"class\" #categorical\n",
      "\n",
      "grouped = df[data1].groupby(df[data2])\n",
      "grouped.value_counts()"
     ],
     "language": "python",
     "metadata": {},
     "outputs": []
    },
    {
     "cell_type": "code",
     "collapsed": false,
     "input": [
      "df = tips\n",
      "data1 = \"total_bill\" #continuous\n",
      "data2 = \"smoker\" #categorical\n",
      "\n",
      "grouped = df[data1].groupby(df[data2])\n",
      "grouped.mean()"
     ],
     "language": "python",
     "metadata": {},
     "outputs": []
    },
    {
     "cell_type": "code",
     "collapsed": false,
     "input": [
      "critics.head(2)"
     ],
     "language": "python",
     "metadata": {},
     "outputs": []
    },
    {
     "cell_type": "code",
     "collapsed": false,
     "input": [
      "df = critics\n",
      "data1 = \"critic\" #categorical\n",
      "data2 = \"rt_id\" #categorical\n",
      "\n",
      "grouped = df.groupby(data1)[data2].count().hist(log=True, bins=range(20))\n",
      "plt.xlabel(\"Number of reviews per critic\")\n",
      "plt.ylabel(\"N\");"
     ],
     "language": "python",
     "metadata": {},
     "outputs": []
    },
    {
     "cell_type": "markdown",
     "metadata": {},
     "source": [
      "###Date and Time\n",
      "[back to top](#contents)"
     ]
    },
    {
     "cell_type": "code",
     "collapsed": false,
     "input": [
      "#Convert dates from strings to date objects\n",
      "df = date\n",
      "col_date = \"date\"\n",
      "df.col_date = df.col_date.apply(pd.datetools.parse)\n",
      "\n",
      "#Compute no. of days from today (in days format)\n",
      "df['age_days'] = (today - df['col_date']).values / np.timedelta64(1, 'D')"
     ],
     "language": "python",
     "metadata": {},
     "outputs": []
    },
    {
     "cell_type": "markdown",
     "metadata": {},
     "source": [
      "###References\n",
      "[back to top](#contents)\n",
      "- [Pandas Doc](http://pandas.pydata.org/pandas-docs/dev/missing_data.html)\n",
      "- [Rubric for Data Wrangling and Exploration](http://nbviewer.ipython.org/github/cs109/content/blob/master/lec_04_wrangling.ipynb)"
     ]
    },
    {
     "cell_type": "code",
     "collapsed": false,
     "input": [
      "from IPython.display import display, HTML\n",
      "display(HTML(open('../style/custom.css').read()))"
     ],
     "language": "python",
     "metadata": {},
     "outputs": []
    }
   ],
   "metadata": {}
  }
 ]
}