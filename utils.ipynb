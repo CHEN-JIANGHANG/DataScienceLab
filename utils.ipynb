{
 "metadata": {
  "name": "",
  "signature": "sha256:890be18e3e17f72c8e970b66f5256ac169731979db8394b53ec138e0fd468968"
 },
 "nbformat": 3,
 "nbformat_minor": 0,
 "worksheets": [
  {
   "cells": [
    {
     "cell_type": "markdown",
     "metadata": {},
     "source": [
      "#Preliminaries"
     ]
    },
    {
     "cell_type": "code",
     "collapsed": false,
     "input": [
      "%matplotlib inline\n",
      "import pandas as pd\n",
      "import numpy as np\n",
      "import matplotlib.pyplot as plt\n",
      "import seaborn as sns\n",
      "from matplotlib import rcParams\n",
      "\n",
      "pd.options.display.max_columns = 10 \n",
      "pd.options.display.width = 134\n",
      "pd.options.display.max_rows = 20\n",
      "rcParams['figure.figsize'] = (10, 6)\n",
      "\n",
      "import warnings\n",
      "warnings.filterwarnings(\"ignore\", category=DeprecationWarning)"
     ],
     "language": "python",
     "metadata": {},
     "outputs": [],
     "prompt_number": 1
    },
    {
     "cell_type": "code",
     "collapsed": false,
     "input": [
      "plt.style.use('ggplot')\n",
      "colors = plt.rcParams['axes.color_cycle']"
     ],
     "language": "python",
     "metadata": {},
     "outputs": []
    }
   ],
   "metadata": {}
  }
 ]
}