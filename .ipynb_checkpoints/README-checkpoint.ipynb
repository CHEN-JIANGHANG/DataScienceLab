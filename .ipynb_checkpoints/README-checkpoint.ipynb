{
 "metadata": {
  "name": "",
  "signature": "sha256:08d0367b98d5adce48df43ae2ff63d7b3c3614b291fd9d319ffddb48bd9cf3d0"
 },
 "nbformat": 3,
 "nbformat_minor": 0,
 "worksheets": [
  {
   "cells": [
    {
     "cell_type": "heading",
     "level": 1,
     "metadata": {},
     "source": [
      "Data Science Lab"
     ]
    },
    {
     "cell_type": "markdown",
     "metadata": {},
     "source": [
      "Contents\n",
      "------\n",
      "- [Data Science Process](#data-science-process)\n",
      "- [Data Collection](#data-collection)\n",
      "- [Pre-Processing](#pre-processing)\n",
      "- [Model Evaluation](#model-evaluation)\n",
      "- [Parameter Estimation](#parameter-estimation)\n",
      "- [Machine Learning Algorithms](#machine-learning-algorithms)"
     ]
    },
    {
     "cell_type": "markdown",
     "metadata": {},
     "source": [
      "###Data Science Process"
     ]
    },
    {
     "cell_type": "markdown",
     "metadata": {},
     "source": [
      "<img src=\"./images/datascience_process.png\" style=\"width: 700px; height:600px;\">\n",
      "<br>\n",
      "<br>\n",
      "<img src=\"./images/datascience_flowchart.png\" style=\"width: 700px; height:600px;\">"
     ]
    },
    {
     "cell_type": "heading",
     "level": 1,
     "metadata": {},
     "source": [
      "Data Collection"
     ]
    },
    {
     "cell_type": "heading",
     "level": 1,
     "metadata": {},
     "source": [
      "Pre-Processing"
     ]
    },
    {
     "cell_type": "heading",
     "level": 1,
     "metadata": {},
     "source": [
      "Model-Evaluation"
     ]
    },
    {
     "cell_type": "heading",
     "level": 1,
     "metadata": {},
     "source": [
      "Parameter Estimation"
     ]
    },
    {
     "cell_type": "heading",
     "level": 1,
     "metadata": {},
     "source": [
      "Machine Learning Algorithms"
     ]
    }
   ],
   "metadata": {}
  }
 ]
}