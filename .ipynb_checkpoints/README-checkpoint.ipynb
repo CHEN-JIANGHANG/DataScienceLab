{
 "metadata": {
  "name": "",
  "signature": "sha256:0155abf593d552fc18644f584e7b8eedffa3b9f5eadc29e457080f5df08b5639"
 },
 "nbformat": 3,
 "nbformat_minor": 0,
 "worksheets": [
  {
   "cells": [
    {
     "cell_type": "markdown",
     "metadata": {},
     "source": [
      "#Data Science Lab\n",
      "<img src=\"./images/brain.png\">"
     ]
    },
    {
     "cell_type": "markdown",
     "metadata": {},
     "source": [
      "###Contents\n",
      "- [Data Science Process](#data-science-process)\n",
      "- [Data Acquisition](#data-acquisition)\n",
      "- [Pre-Processing](#pre-processing)\n",
      "- [Parameter Estimation](#parameter-estimation)\n",
      "- [Machine Learning Algorithms](#machine-learning-algorithms)\n",
      "- [Model Selection and Evaluation](#model-selection-and-evaluation)\n",
      "- [Data Visualization](#data-visualization)\n",
      "- [External Resources](#external-resources)"
     ]
    },
    {
     "cell_type": "markdown",
     "metadata": {},
     "source": [
      "###Data Science Process\n",
      "[back to top](#contents)"
     ]
    },
    {
     "cell_type": "markdown",
     "metadata": {},
     "source": [
      "<img src=\"./images/datascience_process.png\">\n",
      "<br>\n",
      "<br>\n",
      "<img src=\"./images/datascience_flowchart.png\" style=\"width: 700px; height:600px;\">"
     ]
    },
    {
     "cell_type": "markdown",
     "metadata": {},
     "source": [
      "###Data Acquisition\n",
      "[back to top](#contents)\n",
      "- Requests - Web scraping\n",
      "- Mechanize - Web scraping\n",
      "- BeautifulSoup - HTML\n",
      "- Twitter API\n",
      "- Marvel API\n",
      "- Database (Relational database/SQL)"
     ]
    },
    {
     "cell_type": "markdown",
     "metadata": {},
     "source": [
      "###Pre-Processing\n",
      "[back to top](#contents)\n",
      "- Data Wrangling [[Notebook](http://nbviewer.ipython.org/urls/raw.github.com/jthang/DataScienceLab/master/pre-processing/data_wrangling.ipynb)]\n",
      "- Standardization and Normalization\n",
      "- Feature Selection\n",
      "- Dimensionality Reduction (PCA, LDA)"
     ]
    },
    {
     "cell_type": "markdown",
     "metadata": {},
     "source": [
      "###Model Selection and Evaluation\n",
      "[back to top](#contents)\n",
      "- Metrics (Precision/Recall, ROC curve, Marginal Precision, Score Distribution - all items vs true items)\n",
      "- Cross-validation\n",
      "- Model Comparison\n",
      "- Feature Comparison"
     ]
    },
    {
     "cell_type": "markdown",
     "metadata": {},
     "source": [
      "###Parameter Estimation\n",
      "[back to top](#contents)\n",
      "- Model Fitting (MLE, GLM)\n",
      "- Grid Search with Cross Validation"
     ]
    },
    {
     "cell_type": "markdown",
     "metadata": {},
     "source": [
      "###Machine Learning Algorithms\n",
      "[back to top](#contents)\n",
      "- Linear Regression\n",
      "- Logistic Regression\n",
      "- Gradient Descent\n",
      "- Support Vector Machine\n",
      "- Random Forest\n",
      "- Clustering (k-means)\n",
      "- Collaborative Filtering\n",
      "    - Cosine, magnitude-aware, Jaccard, Pearson\n",
      "    - User - clustering (KNN)\n",
      "    - SVD, ALS\n",
      "    - Coldstart problem, exploit strategy (multi-bandit)\n",
      "    - Restricted Boltzmann Machines\n",
      "- Inference via graphical models\n",
      "\n",
      "<img src=\"./images/ml_cheatsheet.png\">"
     ]
    },
    {
     "cell_type": "markdown",
     "metadata": {},
     "source": [
      "###Data Visualization\n",
      "[back to top](#contents)\n",
      "- Matplotlib / Seaborn [[Notebook](http://nbviewer.ipython.org/github/jthang/DataScienceLab/blob/master/data_viz/data_viz.ipynb)]\n",
      "<img src=\"./images/data_viz.png\">\n",
      "- plot.ly\n",
      "- d3.js"
     ]
    },
    {
     "cell_type": "markdown",
     "metadata": {},
     "source": [
      "###External Resources\n",
      "[back to top](#contents)\n",
      "- [Machine Learning Concepts](http://www.metacademy.org/browse)\n",
      "- [Public Datasets](https://github.com/caesar0301/awesome-public-datasets)\n",
      "- [Interesting Notebooks](https://github.com/ipython/ipython/wiki/A-gallery-of-interesting-IPython-Notebooks)\n",
      "- [Latex Equations](https://github.com/rasbt/pattern_classification/blob/master/resources/latex_equations.md)"
     ]
    }
   ],
   "metadata": {}
  }
 ]
}