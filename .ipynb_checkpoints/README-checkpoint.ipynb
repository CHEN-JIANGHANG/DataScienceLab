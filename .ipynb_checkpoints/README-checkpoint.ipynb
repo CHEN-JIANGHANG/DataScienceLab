{
 "metadata": {
  "name": "",
  "signature": "sha256:db367a8c8519710656ccd456eba57e196be45524a37d35a8637ea8a2510bf716"
 },
 "nbformat": 3,
 "nbformat_minor": 0,
 "worksheets": [
  {
   "cells": [
    {
     "cell_type": "markdown",
     "metadata": {},
     "source": [
      "#Data Science Lab\n",
      "<img src=\"./images/brain.png\">"
     ]
    },
    {
     "cell_type": "markdown",
     "metadata": {},
     "source": [
      "###Contents\n",
      "- [Data Science Process](#data-science-process)\n",
      "- [Data Acquisition](#data-acquisition)\n",
      "- [Feature Extraction and Transformation](#feature-extraction-and-transformation)\n",
      "- [Model Selection and Evaluation](#model-selection-and-evaluation)\n",
      "- [Machine Learning Algorithms](#machine-learning-algorithms)\n",
      "- [Data Visualization](#data-visualization)\n",
      "- [References](#references)"
     ]
    },
    {
     "cell_type": "markdown",
     "metadata": {},
     "source": [
      "#Machine Learning Algorithms\n",
      "[back to top](#contents)\n",
      "\n",
      "**Classification and Regression**\n",
      "- Generalized Linear Models [[Notebook](http://nbviewer.ipython.org/github/jthang/DataScienceLab/blob/master/machine_learning/glm.ipynb)]\n",
      "- Logistic Regression [[Notebook](http://nbviewer.ipython.org/github/jthang/DataScienceLab/blob/master/machine_learning/logistic_regression.ipynb)]\n",
      "- Support Vector Machine [[Notebook](http://nbviewer.ipython.org/urls/raw.github.com/jthang/DataScienceLab/master/machine_learning/svm.ipynb)]\n",
      "- Random Forest [[Notebook](http://nbviewer.ipython.org/urls/raw.github.com/jthang/DataScienceLab/master/machine_learning/random_forest.ipynb)]\n",
      "- Gradient Boosting Regression Trees [[Notebook](http://nbviewer.ipython.org/urls/raw.github.com/jthang/DataScienceLab/master/machine_learning/gbrt.ipynb)]\n",
      "- Naive Bayes [[Notebook](http://nbviewer.ipython.org/urls/raw.github.com/jthang/DataScienceLab/master/machine_learning/naive_bayes.ipynb)]\n",
      "\n",
      "**Clustering and Dimensionality Reduction**\n",
      "- k-means [[Notebook](http://nbviewer.ipython.org/urls/raw.github.com/jthang/DataScienceLab/master/machine_learning/kmeans.ipynb)]\n",
      "- Principal Component Analysis (PCA) [[Notebook](http://nbviewer.ipython.org/urls/raw.github.com/jthang/DataScienceLab/master/machine_learning/pca.ipynb)]\n",
      "\n",
      "**Recommender Systems**\n",
      "- Collaborative Filtering\n",
      "- Singular Value Decomposition (SVD)\n",
      "- Alternating Least Squares (ALS)"
     ]
    },
    {
     "cell_type": "markdown",
     "metadata": {},
     "source": [
      "#Feature Extraction and Transformation\n",
      "[back to top](#contents)\n",
      "- Data Wrangling [[Notebook](http://nbviewer.ipython.org/github/jthang/DataScienceLab/blob/master/preprocessing/data_wrangling.ipynb)]\n",
      "- TF-IDF\n",
      "- Word2Vec\n",
      "- Standard Scaler\n",
      "- Normalizer\n",
      "- Encoding Categorical\n",
      "- Principal Component Analysis"
     ]
    },
    {
     "cell_type": "markdown",
     "metadata": {},
     "source": [
      "#Data Visualization\n",
      "[back to top](#contents)\n",
      "- Matplotlib / Seaborn [[Notebook](http://nbviewer.ipython.org/github/jthang/DataScienceLab/blob/master/data_viz/data_viz.ipynb)]\n",
      "- plot.ly\n",
      "- d3.js"
     ]
    },
    {
     "cell_type": "markdown",
     "metadata": {},
     "source": [
      "#Data Acquisition\n",
      "[back to top](#contents)\n",
      "- Requests - Web scraping\n",
      "- Mechanize - Web scraping\n",
      "- BeautifulSoup - HTML\n",
      "- Twitter API\n",
      "- Marvel API\n",
      "- Database (Relational database/SQL)"
     ]
    },
    {
     "cell_type": "markdown",
     "metadata": {},
     "source": [
      "#Model Selection and Evaluation\n",
      "[back to top](#contents)\n",
      "- Cross Validation\n",
      "- Classification Metrics\n",
      "- Regression Metrics\n",
      "- Clustering Metrics\n",
      "- Learning and Validation Curves"
     ]
    },
    {
     "cell_type": "markdown",
     "metadata": {},
     "source": [
      "###References\n",
      "[back to top](#contents)\n",
      "- [The Elements of Statistical Learning](http://statweb.stanford.edu/~tibs/ElemStatLearn/)\n",
      "- [Pattern Recognition and Machine Learning](http://research.microsoft.com/en-us/um/people/cmbishop/PRML/)\n",
      "- [Stanford CS229 - Machine Learning](http://cs229.stanford.edu/materials.html)\n",
      "- [Stanford - Probabilistic Graphical Models](https://www.coursera.org/course/pgm)\n",
      "- [Harvard CS109 - Data Science](https://github.com/cs109/content)\n",
      "- [Caltech - Learning From Data](https://work.caltech.edu/lectures.html)\n",
      "- [Carnegie Mellon University - Machine Learning](http://www.cs.cmu.edu/~tom/10701_sp11/lectures.shtml)\n",
      "- [University of Toronto - Neural Networks for Machine Learning](https://www.coursera.org/course/neuralnets)"
     ]
    },
    {
     "cell_type": "markdown",
     "metadata": {},
     "source": [
      "###Data Science Process\n",
      "[back to top](#contents)"
     ]
    },
    {
     "cell_type": "markdown",
     "metadata": {},
     "source": [
      "<img src=\"./images/ml_cheatsheet.png\">\n",
      "<img src=\"./images/chart_suggestions.png\">\n",
      "<img src=\"./images/datascience_process.png\">\n",
      "<img src=\"./images/zip.png\">\n",
      "<img src=\"./images/predictive_modeling.png\">\n",
      "<br>\n",
      "<img src=\"./images/datascience_flowchart.png\" style=\"width: 700px; height:600px;\">"
     ]
    }
   ],
   "metadata": {}
  }
 ]
}