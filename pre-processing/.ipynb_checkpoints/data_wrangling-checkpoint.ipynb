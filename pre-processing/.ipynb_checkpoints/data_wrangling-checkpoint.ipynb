{
 "metadata": {
  "name": "",
  "signature": "sha256:3f7fe3a93029595462af89b3f3f8d3068f12141e1bd611d838330b983b2c5980"
 },
 "nbformat": 3,
 "nbformat_minor": 0,
 "worksheets": [
  {
   "cells": [
    {
     "cell_type": "markdown",
     "metadata": {},
     "source": [
      "#Data Wrangling\n",
      "\n",
      "<img src=\"../images/data_wrangling.png\" style=\" height:400px;\">"
     ]
    },
    {
     "cell_type": "markdown",
     "metadata": {},
     "source": [
      "###Contents\n",
      "- [Preliminaries](#preliminaries)\n",
      "- [Loading](#loading)\n",
      "    - [CSV](#csv)\n",
      "    - [Text](#text)\n",
      "    - [TSV](#tsv)\n",
      "    - [JSON](#json)\n",
      "    - [Web API](#web-api)\n",
      "    - [Databases](#databases)\n",
      "- [Exporting](#exporting)\n",
      "- [Summarizing](#summarizing)\n",
      "- [Selecting](#selecting)\n",
      "- [Renaming](#renaming)\n",
      "- [Clean Data](#clean-data)\n",
      "- [Mapping](#mapping)\n",
      "- [Sorting](#sorting)\n",
      "- [Missing Data](#missing-data)\n",
      "- [Drop Data](#drop-data)\n",
      "- [Fill Data](#fill-data)\n",
      "- [Combining Datasets](#combining-datasets)\n",
      "- [Remove Duplicates](#remove-duplicates)\n",
      "- [Outliers](#outliers)\n",
      "- [Sampling](#sampling)\n",
      "- [New Columns](#new-columns)\n",
      "- [Groupby](#groupby)\n",
      "- [Date and Time](#date-and-time)\n",
      "- [References](#references)"
     ]
    },
    {
     "cell_type": "markdown",
     "metadata": {},
     "source": [
      "###Preliminaries\n",
      "[back to top](#contents)"
     ]
    },
    {
     "cell_type": "code",
     "collapsed": false,
     "input": [
      "%matplotlib inline\n",
      "import pandas as pd\n",
      "import numpy as np\n",
      "import matplotlib.pyplot as plt\n",
      "import seaborn as sns\n",
      "sns.set(style=\"white\")\n",
      "plt.rc(\"figure\", figsize=(10, 6))\n",
      "np.set_printoptions(precision=4)"
     ],
     "language": "python",
     "metadata": {},
     "outputs": []
    },
    {
     "cell_type": "markdown",
     "metadata": {},
     "source": [
      "###Loading\n",
      "[back to top](#contents)"
     ]
    },
    {
     "cell_type": "code",
     "collapsed": false,
     "input": [
      "tips = pd.read_csv('../data/tips.csv')\n",
      "iris = pd.read_csv('../data/iris.csv')\n",
      "titanic = pd.read_csv('../data/titanic.csv')"
     ],
     "language": "python",
     "metadata": {},
     "outputs": []
    },
    {
     "cell_type": "markdown",
     "metadata": {},
     "source": [
      "####CSV\n",
      "[back to top](#contents)"
     ]
    },
    {
     "cell_type": "code",
     "collapsed": false,
     "input": [
      "!head '../data/wine.data'\n",
      "# !cat '../data/wine.data'"
     ],
     "language": "python",
     "metadata": {},
     "outputs": []
    },
    {
     "cell_type": "code",
     "collapsed": false,
     "input": [
      "wine = pd.read_csv('../data/wine.data', sep=',')\n",
      "wine.head(1)"
     ],
     "language": "python",
     "metadata": {},
     "outputs": []
    },
    {
     "cell_type": "code",
     "collapsed": false,
     "input": [
      "names=['a', 'b', 'c', 'd',\n",
      "       'e', 'f', 'g', 'h',\n",
      "       'i', 'j', 'k', 'l',\n",
      "       'm', 'n']\n",
      "\n",
      "wine = pd.read_csv('../data/wine.data',\n",
      "                   sep=',',\n",
      "                   names=names,\n",
      "                   index_col=['d', 'j'],\n",
      "                   skiprows=[0,2,3],\n",
      "                   na_values=['NULL']).dropna()\n",
      "wine.head(2)"
     ],
     "language": "python",
     "metadata": {},
     "outputs": []
    },
    {
     "cell_type": "code",
     "collapsed": false,
     "input": [
      "critics = pd.read_csv('../data/critics.csv')\n",
      "critics.head(1)"
     ],
     "language": "python",
     "metadata": {},
     "outputs": []
    },
    {
     "cell_type": "markdown",
     "metadata": {},
     "source": [
      "####Text\n",
      "[back to top](#contents)"
     ]
    },
    {
     "cell_type": "code",
     "collapsed": false,
     "input": [
      "!head '../data/imdb.txt'"
     ],
     "language": "python",
     "metadata": {},
     "outputs": []
    },
    {
     "cell_type": "code",
     "collapsed": false,
     "input": [
      "names = ['imdbID', 'title', 'year', 'score', 'votes', 'runtime', 'genres']\n",
      "imdb = pd.read_csv('../data/imdb.txt',\n",
      "                     delimiter='\\t',\n",
      "                     names=names).dropna()\n",
      "imdb.head(2)"
     ],
     "language": "python",
     "metadata": {},
     "outputs": []
    },
    {
     "cell_type": "markdown",
     "metadata": {},
     "source": [
      "####TSV\n",
      "[back to top](#contents)"
     ]
    },
    {
     "cell_type": "code",
     "collapsed": false,
     "input": [
      "!head '../data/movies.tsv'"
     ],
     "language": "python",
     "metadata": {},
     "outputs": []
    },
    {
     "cell_type": "code",
     "collapsed": false,
     "input": [
      "movies = pd.DataFrame.from_csv('../data/movies.tsv', sep='\\t')\n",
      "movies.head(10)"
     ],
     "language": "python",
     "metadata": {},
     "outputs": []
    },
    {
     "cell_type": "markdown",
     "metadata": {},
     "source": [
      "####JSON\n",
      "[back to top](#contents)"
     ]
    },
    {
     "cell_type": "code",
     "collapsed": false,
     "input": [
      "# !head '../data/bitly.txt'"
     ],
     "language": "python",
     "metadata": {},
     "outputs": []
    },
    {
     "cell_type": "code",
     "collapsed": false,
     "input": [
      "import json\n",
      "\n",
      "path = '../data/bitly.txt'\n",
      "lines = open(path).readlines()\n",
      "records = [json.loads(line) for line in lines]\n",
      "bitly = pd.DataFrame(records)\n",
      "bitly.head(2)"
     ],
     "language": "python",
     "metadata": {},
     "outputs": []
    },
    {
     "cell_type": "markdown",
     "metadata": {},
     "source": [
      "####Web API\n",
      "[back to top](#contents)"
     ]
    },
    {
     "cell_type": "code",
     "collapsed": false,
     "input": [
      "from urllib2 import Request, urlopen\n",
      "import json\n",
      "from pandas.io.json import json_normalize\n",
      "\n",
      "path1 = '42.974049,-81.205203|42.974298,-81.195755'\n",
      "request=Request('http://maps.googleapis.com/maps/api/elevation/json?locations='+path1+'&sensor=false')\n",
      "response = urlopen(request)\n",
      "elevations = response.read()\n",
      "data = json.loads(elevations)\n",
      "google = json_normalize(data['results'])\n",
      "google.head()"
     ],
     "language": "python",
     "metadata": {},
     "outputs": []
    },
    {
     "cell_type": "markdown",
     "metadata": {},
     "source": [
      "####Databases\n",
      "[back to top](#contents)"
     ]
    },
    {
     "cell_type": "markdown",
     "metadata": {},
     "source": [
      "###Exporting\n",
      "[back to top](#contents)"
     ]
    },
    {
     "cell_type": "code",
     "collapsed": false,
     "input": [
      "import sys\n",
      "wine.to_csv('../data/out.csv')\n",
      "!head '../data/out.csv'"
     ],
     "language": "python",
     "metadata": {},
     "outputs": []
    },
    {
     "cell_type": "markdown",
     "metadata": {},
     "source": [
      "###Summarizing\n",
      "[back to top](#contents)"
     ]
    },
    {
     "cell_type": "code",
     "collapsed": false,
     "input": [
      "print \"No. of rows:\", imdb.shape[0]\n",
      "print \"No. of columns:\", imdb.shape[1]\n",
      "print imdb.columns\n",
      "print \"No. of genres:\", imdb.genres.unique().shape[0]\n",
      "print imdb[['title', 'year', 'votes']].describe()\n",
      "print \"Total Bill:\", tips.total_bill.sum()\n",
      "print tips['sex'].value_counts()\n",
      "print imdb.cov()\n",
      "print imdb.corr()\n",
      "imdb.head()\n",
      "imdb.info()\n",
      "imdb.dtypes"
     ],
     "language": "python",
     "metadata": {},
     "outputs": []
    },
    {
     "cell_type": "markdown",
     "metadata": {},
     "source": [
      "###Selecting\n",
      "[back to top](#contents)"
     ]
    },
    {
     "cell_type": "code",
     "collapsed": false,
     "input": [
      "#Rows\n",
      "baseball.ix[22]\n",
      "baseball.loc['Addison']\n",
      "tips[:2]"
     ],
     "language": "python",
     "metadata": {},
     "outputs": []
    },
    {
     "cell_type": "code",
     "collapsed": false,
     "input": [
      "#Columns\n",
      "tips[['total_bill', 'smoker']]\n",
      "tips.set_index(['total_bill', 'tip'])\n",
      "tips.ix[:,1:3].head(2)"
     ],
     "language": "python",
     "metadata": {},
     "outputs": []
    },
    {
     "cell_type": "code",
     "collapsed": false,
     "input": [
      "tips[tips['total_bill'] > 45]\n",
      "tips[(tips['total_bill'] > 45) & (tips['smoker'] == 'Yes')]"
     ],
     "language": "python",
     "metadata": {},
     "outputs": []
    },
    {
     "cell_type": "code",
     "collapsed": false,
     "input": [
      "###Specific Cells\n",
      "tips.ix[102, ['total_bill', 'sex', 'smoker']]"
     ],
     "language": "python",
     "metadata": {},
     "outputs": []
    },
    {
     "cell_type": "markdown",
     "metadata": {},
     "source": [
      "###Renaming\n",
      "[back to top](#contents)"
     ]
    },
    {
     "cell_type": "code",
     "collapsed": false,
     "input": [
      "#Columns\n",
      "tips1 = tips.rename(columns={'total_bill': 'kickass'})\n",
      "tips1.columns = map(str.lower, tips1.columns)\n",
      "tips1.head(2)"
     ],
     "language": "python",
     "metadata": {},
     "outputs": []
    },
    {
     "cell_type": "code",
     "collapsed": false,
     "input": [
      "#Rows\n",
      "tips1 = tips.rename(index={0: 'change_index'})\n",
      "tips1.head(2)"
     ],
     "language": "python",
     "metadata": {},
     "outputs": []
    },
    {
     "cell_type": "markdown",
     "metadata": {},
     "source": [
      "###Clean Data\n",
      "[back to top](#contents)"
     ]
    },
    {
     "cell_type": "code",
     "collapsed": false,
     "input": [
      "imdb.head(2)"
     ],
     "language": "python",
     "metadata": {},
     "outputs": []
    },
    {
     "cell_type": "code",
     "collapsed": false,
     "input": [
      "#Rename data in a column\n",
      "imdb['title'] = [c[0:-7] for c in imdb.title]\n",
      "imdb['runtime'] = [float(c.split(' ')[0]) for c in imdb.runtime]\n",
      "\n",
      "#remove non-letter characters from columns\n",
      "import re\n",
      "def _strip(s):\n",
      "    return re.sub(r'[\\W_]+', '', s)\n",
      "imdb = imdb.rename(columns={c: _strip(c) for c in imdb.columns})\n",
      "\n",
      "#e.g. hello.bye\n",
      "df = df.rename(columns=lambda x: x.split('.')[-1], inplace=True)\n",
      "\n",
      "#To edit and sub in multiple columns (e.g divide 2 columns by 100)\n",
      "columnlist = ['col1', 'col2']\n",
      "df2 = df[columnlist].apply(lambda x: x/100.0)\n",
      "df[columnlist] = df2"
     ],
     "language": "python",
     "metadata": {},
     "outputs": []
    },
    {
     "cell_type": "markdown",
     "metadata": {},
     "source": [
      "###Mapping\n",
      "[back to top](#contents)"
     ]
    },
    {
     "cell_type": "code",
     "collapsed": false,
     "input": [
      "titanic.head(2)"
     ],
     "language": "python",
     "metadata": {},
     "outputs": []
    },
    {
     "cell_type": "code",
     "collapsed": false,
     "input": [
      "#map data to a new column\n",
      "titanic2 = titanic.copy()\n",
      "titanic2[\"status\"] = titanic.survived.map({0: \"Dead\", 1: \"Alive\"})\n",
      "\n",
      "titanic2[[\"survived\", \"status\"]].head()"
     ],
     "language": "python",
     "metadata": {},
     "outputs": []
    },
    {
     "cell_type": "code",
     "collapsed": false,
     "input": [
      "#Apply\n",
      "def woman_child_or_man(passenger):\n",
      "    age, sex = passenger\n",
      "    if age < 16:\n",
      "        return \"child\"\n",
      "    else:\n",
      "        return dict(male=\"man\", female=\"woman\")[sex]\n",
      "\n",
      "titanic[\"who\"] = titanic[[\"age\", \"sex\"]].apply(woman_child_or_man, axis=1)"
     ],
     "language": "python",
     "metadata": {},
     "outputs": []
    },
    {
     "cell_type": "markdown",
     "metadata": {},
     "source": [
      "###Sorting\n",
      "[back to top](#contents)"
     ]
    },
    {
     "cell_type": "code",
     "collapsed": false,
     "input": [
      "#Rows\n",
      "tips1 = tips.sort_index(ascending=True)\n",
      "tips1.head(2)"
     ],
     "language": "python",
     "metadata": {},
     "outputs": []
    },
    {
     "cell_type": "code",
     "collapsed": false,
     "input": [
      "#Columns\n",
      "tips1 = tips.sort_index(axis=1, ascending=True)\n",
      "tips1.head(2)"
     ],
     "language": "python",
     "metadata": {},
     "outputs": []
    },
    {
     "cell_type": "code",
     "collapsed": false,
     "input": [
      "tips1 = tips.sort(['total_bill', 'sex'], ascending=False)\n",
      "tips1.head(2)"
     ],
     "language": "python",
     "metadata": {},
     "outputs": []
    },
    {
     "cell_type": "markdown",
     "metadata": {},
     "source": [
      "###Missing Data\n",
      "[back to top](#contents)"
     ]
    },
    {
     "cell_type": "code",
     "collapsed": false,
     "input": [
      "toy = pd.DataFrame(np.random.randn(10,3),columns=list('ABC'))\n",
      "toy.iloc[3:5,0] = np.nan\n",
      "toy.iloc[4:6,1] = np.nan\n",
      "toy.iloc[5:8,2] = np.nan\n",
      "toy"
     ],
     "language": "python",
     "metadata": {},
     "outputs": []
    },
    {
     "cell_type": "code",
     "collapsed": false,
     "input": [
      "#Check for missing data\n",
      "print pd.isnull(toy['A'])\n",
      "print \"No. of missing data:\", len(np.where((toy)['A'].isnull())[0])"
     ],
     "language": "python",
     "metadata": {},
     "outputs": []
    },
    {
     "cell_type": "markdown",
     "metadata": {},
     "source": [
      "###Drop Data\n",
      "[back to top](#contents)"
     ]
    },
    {
     "cell_type": "code",
     "collapsed": false,
     "input": [
      "#drop data\n",
      "toy1 = toy.dropna()\n",
      "\n",
      "#drop columns\n",
      "toy1 = toy.drop(['A', 'B'], axis=1)\n",
      "\n",
      "#drop rows\n",
      "toy1 = toy.drop(toy.index[[1,3]])\n",
      "\n",
      "#Conditional dropping\n",
      "toy1 = toy[toy.B < 0]\n",
      "\n",
      "#Drop rows with missing data in col1\n",
      "df = df[~df.col1.isnull()]\n",
      "\n",
      "# toy1"
     ],
     "language": "python",
     "metadata": {},
     "outputs": []
    },
    {
     "cell_type": "markdown",
     "metadata": {},
     "source": [
      "###Fill Data\n",
      "[back to top](#contents)"
     ]
    },
    {
     "cell_type": "code",
     "collapsed": false,
     "input": [
      "#fill data\n",
      "toy.fillna(0)\n",
      "toy.fillna(method='ffill')\n",
      "toy.fillna(method='bfill')\n",
      "toy.fillna(toy.mean())"
     ],
     "language": "python",
     "metadata": {},
     "outputs": []
    },
    {
     "cell_type": "markdown",
     "metadata": {},
     "source": [
      "###Combining Datasets\n",
      "[back to top](#contents)"
     ]
    },
    {
     "cell_type": "code",
     "collapsed": false,
     "input": [
      "#generate dataframe\n",
      "df1 = pd.DataFrame(data={\"A\":[1,2,3,4], \"B\":[1.2,1.3,1.4,1.6], \"C\":[\"a\",\"b\",\"c\",\"a\"]})\n",
      "df2 = pd.DataFrame({'C' : ['a','b'], 'A' : [1, 2]})\n",
      "df1"
     ],
     "language": "python",
     "metadata": {},
     "outputs": []
    },
    {
     "cell_type": "code",
     "collapsed": false,
     "input": [
      "df2"
     ],
     "language": "python",
     "metadata": {},
     "outputs": []
    },
    {
     "cell_type": "code",
     "collapsed": false,
     "input": [
      "pd.merge(df1, df2, on='C',how='inner')\n",
      "# pd.merge(df1, df2, on='C',how='left')\n",
      "# pd.merge(df1, df2, on='C',how='right')\n",
      "# pd.merge(df1, df2, on='C',how='outer')"
     ],
     "language": "python",
     "metadata": {},
     "outputs": []
    },
    {
     "cell_type": "code",
     "collapsed": false,
     "input": [
      "df3 = pd.concat([df1, df2])\n",
      "df3"
     ],
     "language": "python",
     "metadata": {},
     "outputs": []
    },
    {
     "cell_type": "markdown",
     "metadata": {},
     "source": [
      "###Remove Duplicates\n",
      "[back to top](#contents)"
     ]
    },
    {
     "cell_type": "code",
     "collapsed": false,
     "input": [
      "data = pd.DataFrame({'k1': ['one'] * 3 + ['two'] * 4,\n",
      "                  'k2': [1, 1, 2, 3, 3, 4, 4]})\n",
      "data.duplicated()"
     ],
     "language": "python",
     "metadata": {},
     "outputs": []
    },
    {
     "cell_type": "code",
     "collapsed": false,
     "input": [
      "data.drop_duplicates()"
     ],
     "language": "python",
     "metadata": {},
     "outputs": []
    },
    {
     "cell_type": "markdown",
     "metadata": {},
     "source": [
      "###Outliers\n",
      "[back to top](#contents)"
     ]
    },
    {
     "cell_type": "code",
     "collapsed": false,
     "input": [
      "#Detect outliers\n",
      "plt.hist(titanic.fare, bins=100);"
     ],
     "language": "python",
     "metadata": {},
     "outputs": []
    },
    {
     "cell_type": "code",
     "collapsed": false,
     "input": [
      "#finding the max/min\n",
      "titanic[titanic.fare == titanic.fare.max()][['survived', 'fare']]\n",
      "\n",
      "#find the range\n",
      "titanic[(titanic.fare > 200)][['survived', 'fare']]\n",
      "\n",
      "#condition\n",
      "titanic[(titanic.fare > 200) & (titanic.survived == 0)][['survived', 'fare']]"
     ],
     "language": "python",
     "metadata": {},
     "outputs": []
    },
    {
     "cell_type": "code",
     "collapsed": false,
     "input": [
      "#Convert those above 200 to be 200\n",
      "titanic[\"fare_winsor\"] = titanic.fare.map(lambda f: min(f, 200))"
     ],
     "language": "python",
     "metadata": {},
     "outputs": []
    },
    {
     "cell_type": "markdown",
     "metadata": {},
     "source": [
      "###Sampling\n",
      "[back to top](#contents)"
     ]
    },
    {
     "cell_type": "code",
     "collapsed": false,
     "input": [
      "#Take a random subset\n",
      "df = tips\n",
      "df_small = df.take(np.random.permutation(len(df))[:20])\n",
      "df_small.shape"
     ],
     "language": "python",
     "metadata": {},
     "outputs": []
    },
    {
     "cell_type": "code",
     "collapsed": false,
     "input": [
      "#Subset based on conditions\n",
      "tips_small = tips[(tips.tip > 5) & (tips.total_bill > 20)]\n",
      "print tips.shape\n",
      "print tips_small.shape"
     ],
     "language": "python",
     "metadata": {},
     "outputs": []
    },
    {
     "cell_type": "code",
     "collapsed": false,
     "input": [
      "#Re-ordering\n",
      "sampler = np.random.permutation(len(tips))\n",
      "tips_reorder = tips.take(sampler)\n",
      "tips_reorder.head(5)"
     ],
     "language": "python",
     "metadata": {},
     "outputs": []
    },
    {
     "cell_type": "markdown",
     "metadata": {},
     "source": [
      "###New Columns\n",
      "[back to top](#contents)"
     ]
    },
    {
     "cell_type": "code",
     "collapsed": false,
     "input": [
      "#single column as a function of multiple columns\n",
      "def tips_pct_total(tips):\n",
      "    return tips['tip'] /tips['total_bill']\n",
      "\n",
      "tips['Pct'] = tips.apply(tips_pct_total, axis=1)\n",
      "tips.head(2)"
     ],
     "language": "python",
     "metadata": {},
     "outputs": []
    },
    {
     "cell_type": "markdown",
     "metadata": {},
     "source": [
      "###Groupby\n",
      "[back to top](#contents)"
     ]
    },
    {
     "cell_type": "code",
     "collapsed": false,
     "input": [
      "df = titanic\n",
      "data1 = \"survived\" #categorical\n",
      "data2 = \"class\" #categorical\n",
      "\n",
      "grouped = df[data1].groupby(df[data2])\n",
      "grouped.value_counts()"
     ],
     "language": "python",
     "metadata": {},
     "outputs": []
    },
    {
     "cell_type": "code",
     "collapsed": false,
     "input": [
      "df = tips\n",
      "data1 = \"total_bill\" #continuous\n",
      "data2 = \"smoker\" #categorical\n",
      "\n",
      "grouped = df[data1].groupby(df[data2])\n",
      "grouped.mean()"
     ],
     "language": "python",
     "metadata": {},
     "outputs": []
    },
    {
     "cell_type": "code",
     "collapsed": false,
     "input": [
      "critics.head(2)"
     ],
     "language": "python",
     "metadata": {},
     "outputs": []
    },
    {
     "cell_type": "code",
     "collapsed": false,
     "input": [
      "df = critics\n",
      "data1 = \"critic\" #categorical\n",
      "data2 = \"rt_id\" #categorical\n",
      "\n",
      "grouped = df.groupby(data1)[data2].count().hist(log=True, bins=range(20))\n",
      "plt.xlabel(\"Number of reviews per critic\")\n",
      "plt.ylabel(\"N\");"
     ],
     "language": "python",
     "metadata": {},
     "outputs": []
    },
    {
     "cell_type": "markdown",
     "metadata": {},
     "source": [
      "###Date and Time\n",
      "[back to top](#contents)"
     ]
    },
    {
     "cell_type": "code",
     "collapsed": false,
     "input": [
      "#Convert dates from strings to date objects\n",
      "df = date\n",
      "col_date = \"date\"\n",
      "df.col_date = df.col_date.apply(pd.datetools.parse)\n",
      "\n",
      "#Compute no. of days from today (in days format)\n",
      "df['age_days'] = (today - df['col_date']).values / np.timedelta64(1, 'D')"
     ],
     "language": "python",
     "metadata": {},
     "outputs": []
    },
    {
     "cell_type": "markdown",
     "metadata": {},
     "source": [
      "###References\n",
      "[back to top](#contents)\n",
      "- [Pandas Doc](http://pandas.pydata.org/pandas-docs/dev/missing_data.html)\n",
      "- [Rubric for Data Wrangling and Exploration](http://nbviewer.ipython.org/github/cs109/content/blob/master/lec_04_wrangling.ipynb)"
     ]
    },
    {
     "cell_type": "code",
     "collapsed": false,
     "input": [
      "from IPython.display import display, HTML\n",
      "display(HTML(open('../style/custom.css').read()))"
     ],
     "language": "python",
     "metadata": {},
     "outputs": [
      {
       "html": [
        "<style>\n",
        "    @font-face {\n",
        "        font-family: \"Computer Modern\";\n",
        "        src: url('http://9dbb143991406a7c655e-aa5fcb0a5a4ec34cff238a2d56ca4144.r56.cf5.rackcdn.com/cmunss.otf');\n",
        "    }\n",
        "    @font-face {\n",
        "        font-family: \"Computer Modern\";\n",
        "        font-weight: bold;\n",
        "        src: url('http://9dbb143991406a7c655e-aa5fcb0a5a4ec34cff238a2d56ca4144.r56.cf5.rackcdn.com/cmunsx.otf');\n",
        "    }\n",
        "    @font-face {\n",
        "        font-family: \"Computer Modern\";\n",
        "        font-style: oblique;\n",
        "        src: url('http://9dbb143991406a7c655e-aa5fcb0a5a4ec34cff238a2d56ca4144.r56.cf5.rackcdn.com/cmunsi.otf');\n",
        "    }\n",
        "    @font-face {\n",
        "        font-family: \"Computer Modern\";\n",
        "        font-weight: bold;\n",
        "        font-style: oblique;\n",
        "        src: url('http://9dbb143991406a7c655e-aa5fcb0a5a4ec34cff238a2d56ca4144.r56.cf5.rackcdn.com/cmunso.otf');\n",
        "    }\n",
        "    div.cell{\n",
        "        width:800px;\n",
        "        margin-left:16% !important;\n",
        "        margin-right:auto;\n",
        "    }\n",
        "    h1 {\n",
        "        font-family: Helvetica, serif;\n",
        "    }\n",
        "    h4{\n",
        "        margin-top:12px;\n",
        "        margin-bottom: 3px;\n",
        "       }\n",
        "    div.text_cell_render{\n",
        "        font-family: Computer Modern, \"Helvetica Neue\", Arial, Helvetica, Geneva, sans-serif;\n",
        "        line-height: 145%;\n",
        "        font-size: 130%;\n",
        "        width:800px;\n",
        "        margin-left:auto;\n",
        "        margin-right:auto;\n",
        "    }\n",
        "    .CodeMirror{\n",
        "            font-family: \"Source Code Pro\", source-code-pro,Consolas, monospace;\n",
        "    }\n",
        "    .prompt{\n",
        "        display: None;\n",
        "    }\n",
        "    .text_cell_render h5 {\n",
        "        font-weight: 300;\n",
        "        font-size: 22pt;\n",
        "        color: #4057A1;\n",
        "        font-style: italic;\n",
        "        margin-bottom: .5em;\n",
        "        margin-top: 0.5em;\n",
        "        display: block;\n",
        "    }\n",
        "    \n",
        "    .warning{\n",
        "        color: rgb( 240, 20, 20 )\n",
        "        }  \n",
        "</style>\n",
        "<script>\n",
        "    MathJax.Hub.Config({\n",
        "                        TeX: {\n",
        "                           extensions: [\"AMSmath.js\"]\n",
        "                           },\n",
        "                tex2jax: {\n",
        "                    inlineMath: [ ['$','$'], [\"\\\\(\",\"\\\\)\"] ],\n",
        "                    displayMath: [ ['$$','$$'], [\"\\\\[\",\"\\\\]\"] ]\n",
        "                },\n",
        "                displayAlign: 'center', // Change this to 'center' to center equations.\n",
        "                \"HTML-CSS\": {\n",
        "                    styles: {'.MathJax_Display': {\"margin\": 4}}\n",
        "                }\n",
        "        });\n",
        "</script>\n"
       ],
       "metadata": {},
       "output_type": "display_data",
       "text": [
        "<IPython.core.display.HTML at 0x109cf7f90>"
       ]
      }
     ],
     "prompt_number": 616
    }
   ],
   "metadata": {}
  }
 ]
}