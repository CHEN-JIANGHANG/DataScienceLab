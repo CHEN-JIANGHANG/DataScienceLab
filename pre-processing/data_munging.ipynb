{
 "metadata": {
  "name": "",
  "signature": "sha256:8054a9226b943bacf89e6d680db765b996617399084138f6b360b188ea0cfcb6"
 },
 "nbformat": 3,
 "nbformat_minor": 0,
 "worksheets": [
  {
   "cells": [
    {
     "cell_type": "markdown",
     "metadata": {},
     "source": [
      "#Data Munging\n",
      "\n",
      "<img src=\"../images/data_munging.png\" style=\" height:400px;\">"
     ]
    },
    {
     "cell_type": "markdown",
     "metadata": {},
     "source": [
      "###Contents\n",
      "- [Preliminaries](#preliminaries)\n",
      "- [Load Datasets](#load-datasets)\n",
      "- Data Cleaning\n",
      "- Outliers\n",
      "- Remove those without data\n",
      "- Change the dates\n",
      "- Types (integer, string)"
     ]
    },
    {
     "cell_type": "markdown",
     "metadata": {},
     "source": [
      "###Preliminaries\n",
      "[back to top](#contents)"
     ]
    },
    {
     "cell_type": "code",
     "collapsed": false,
     "input": [
      "%matplotlib inline\n",
      "import pandas as pd\n",
      "import numpy as np\n",
      "import matplotlib.pyplot as plt\n",
      "import seaborn as sns\n",
      "sns.set(style=\"white\")\n",
      "plt.rc(\"figure\", figsize=(12.5, 5))"
     ],
     "language": "python",
     "metadata": {},
     "outputs": [],
     "prompt_number": 2
    },
    {
     "cell_type": "markdown",
     "metadata": {},
     "source": [
      "###Loading\n",
      "[back to top](#contents)"
     ]
    },
    {
     "cell_type": "code",
     "collapsed": false,
     "input": [],
     "language": "python",
     "metadata": {},
     "outputs": []
    },
    {
     "cell_type": "code",
     "collapsed": false,
     "input": [],
     "language": "python",
     "metadata": {},
     "outputs": []
    },
    {
     "cell_type": "code",
     "collapsed": false,
     "input": [],
     "language": "python",
     "metadata": {},
     "outputs": []
    },
    {
     "cell_type": "code",
     "collapsed": false,
     "input": [],
     "language": "python",
     "metadata": {},
     "outputs": []
    },
    {
     "cell_type": "code",
     "collapsed": false,
     "input": [],
     "language": "python",
     "metadata": {},
     "outputs": []
    },
    {
     "cell_type": "code",
     "collapsed": false,
     "input": [
      "Building Dataframe\n",
      "-------------------\n",
      "df = pd.DataFrame(dict(names=names,\n",
      "                       teams=teams, \n",
      "                       redsox_count=redsox_count, \n",
      "                       cardinals_count=cardinals_count))\n",
      "\n",
      "df.set_index('names', inplace=True)\n",
      "df.head()\n",
      "\n",
      "CSV Files\n",
      "---------\n",
      "df = pd.read_csv(\"data/data.csv\")\n",
      "df.set_index('col1', inplace=True)\n",
      "df = df.sort_index()\n",
      "print \"Number of rows: %i\" % df.shape[0]\n",
      "print \"Number of columns: %i\" % df.shape[1]\n",
      "df.head()\n",
      "\n",
      "Text Files\n",
      "-----------\n",
      "!head \"folder/name.txt\"\n",
      "names = ['col1', 'col2', 'col3']\n",
      "df = pd.read_csv('name.txt', delimiter='\\t', index_col=0, names=names).dropna()\n",
      "\n",
      "data = np.array([[float(j) for j in datae.strip().split()] for datae in open('./data/lab_scikit_learn/chall.txt')])\n",
      "\n",
      "#dat files\n",
      "pd.read_csv('data/movies.dat', delimiter='\\t')\n",
      "JSON files (.out)\n",
      "------------------\n",
      "import pandas as pd\n",
      "import json\n",
      "\n",
      "result_file = \"data/baseball_friends.out\"\n",
      "result = [[json.loads(field) for field in line.strip().split('\\t')] for line in open(result_file)]\n",
      "\n",
      "names = [x[0] for x in result]\n",
      "teams = [x[1][0] for x in result]\n",
      "redsox_count = [x[1][1] for x in result]\n",
      "cardinals_count = [x[1][2] for x in result]\n",
      "\n",
      "df = pd.DataFrame(dict(names=names,\n",
      "                       teams=teams, \n",
      "                       redsox_count=redsox_count, \n",
      "                       cardinals_count=cardinals_count))\n",
      "\n",
      "df.set_index('names', inplace=True)\n",
      "df.head()"
     ],
     "language": "python",
     "metadata": {},
     "outputs": []
    },
    {
     "cell_type": "markdown",
     "metadata": {},
     "source": [
      "###Summarizing\n",
      "[back to top](#contents)"
     ]
    },
    {
     "cell_type": "code",
     "collapsed": false,
     "input": [
      "print \"Number of Reviews:\",smalldf.review_id.unique().shape[0]\n",
      "print \"Number of Users:\", smalldf.user_id.unique().shape[0]\n",
      "print \"Number of Businesses\", smalldf.business_id.unique().shape[0]\n",
      "\n",
      "df[['col1', 'col2', 'col3']].describe()\n",
      "df.cov()\n",
      "df.corr()\n"
     ],
     "language": "python",
     "metadata": {},
     "outputs": []
    },
    {
     "cell_type": "markdown",
     "metadata": {},
     "source": [
      "###Selecting\n",
      "[back to top](#contents)"
     ]
    },
    {
     "cell_type": "code",
     "collapsed": false,
     "input": [
      "df.ix[3] #Select the row\n",
      "df.loc['row_name'] #Select row by name\n",
      "df.iloc[1,1] #Select cell in col1 and row1\n",
      "df.loc['row1'].col1 #Select by row name and col name - play around with the '\n",
      "df.xs(row1)['col1'] #Select cell in col1 and row1 (does not always work...)\n",
      "df[['id', 'title', 'imdbID', 'year']].loc[0] #select row and list only a few columns\n",
      "df.columns #list columns names\n",
      "df.ix[:,['float_col','int_col']]\n",
      "df[['float_col','int_col']]\n",
      "df[df['float_col'] > 0.15]\n",
      "df[df['float_col'] == 0.1]\n",
      "df[(df['float_col'] > 0.1) & (df['int_col']>2)]"
     ],
     "language": "python",
     "metadata": {},
     "outputs": []
    },
    {
     "cell_type": "markdown",
     "metadata": {},
     "source": [
      "###Renaming\n",
      "[back to top](#contents)"
     ]
    },
    {
     "cell_type": "code",
     "collapsed": false,
     "input": [
      "df = df.rename(columns={0: 'class1', 1:'class2'})\n",
      "df = df.rename(columns={'col_old':'col_new'}, inplace=True)\n",
      "df = df.rename(columns = {'col1 old name':'col1 new name', 'col2 old name':'col2 new name'})\n",
      "df = df.columns = map(str.lower, df.columns) #lower-case all column names\n",
      "df = df.rename(index={1: 'a'})\n",
      "df = df.rename(columns=lambda x: x.split('.')[-1], inplace=True)\n",
      "df.col1 = df.col1.str.lower() #lower-case everything in a column\n",
      "df2 = df.rename(columns={'int_col' : 'some_other_name'})\n",
      "df2.rename(columns={'some_other_name' : 'int_col'}, inplace = True)"
     ],
     "language": "python",
     "metadata": {},
     "outputs": []
    },
    {
     "cell_type": "markdown",
     "metadata": {},
     "source": [
      "###Sorting\n",
      "[back to top](#contents)"
     ]
    },
    {
     "cell_type": "code",
     "collapsed": false,
     "input": [
      "df = df.sort_index()\n",
      "df = df.sort_index(axis=1) #sort by column index\n",
      "df = df.sort(['col1','col2','col3'],ascending=[1,1,0]) #Sort by multiple columns"
     ],
     "language": "python",
     "metadata": {},
     "outputs": []
    },
    {
     "cell_type": "markdown",
     "metadata": {},
     "source": [
      "###Dropping Values\n",
      "[back to top](#contents)"
     ]
    },
    {
     "cell_type": "code",
     "collapsed": false,
     "input": [
      "df2.dropna()"
     ],
     "language": "python",
     "metadata": {},
     "outputs": []
    },
    {
     "cell_type": "markdown",
     "metadata": {},
     "source": [
      "###Missing Values\n",
      "[back to top](#contents)"
     ]
    },
    {
     "cell_type": "code",
     "collapsed": false,
     "input": [
      "df3['float_col'].fillna(mean)"
     ],
     "language": "python",
     "metadata": {},
     "outputs": []
    },
    {
     "cell_type": "markdown",
     "metadata": {},
     "source": [
      "###Combining Datasets\n",
      "[back to top](#contents)"
     ]
    },
    {
     "cell_type": "code",
     "collapsed": false,
     "input": [
      "other = DataFrame({'str_col' : ['a','b'], 'some_val' : [1, 2]})"
     ],
     "language": "python",
     "metadata": {},
     "outputs": []
    },
    {
     "cell_type": "code",
     "collapsed": false,
     "input": [
      "pd.merge(df,other,on='str_col',how='inner')"
     ],
     "language": "python",
     "metadata": {},
     "outputs": []
    },
    {
     "cell_type": "code",
     "collapsed": false,
     "input": [
      "pd.merge(df,other,on='str_col',how='outer')"
     ],
     "language": "python",
     "metadata": {},
     "outputs": []
    },
    {
     "cell_type": "code",
     "collapsed": false,
     "input": [
      "pd.merge(df,other,on='str_col',how='left')"
     ],
     "language": "python",
     "metadata": {},
     "outputs": []
    },
    {
     "cell_type": "code",
     "collapsed": false,
     "input": [
      "pd.merge(df,other,on='str_col',how='right')"
     ],
     "language": "python",
     "metadata": {},
     "outputs": []
    },
    {
     "cell_type": "markdown",
     "metadata": {},
     "source": [
      "###Remove Duplicates\n",
      "[back to top](#contents)"
     ]
    },
    {
     "cell_type": "markdown",
     "metadata": {},
     "source": [
      "###Outliers\n",
      "[back to top](#contents)"
     ]
    },
    {
     "cell_type": "code",
     "collapsed": false,
     "input": [
      "titanic[\"fare_winsor\"] = titanic.fare.map(lambda f: min(f, 200))\n",
      "\n",
      "df[(df.col1 > 1e3) & (df.col1 < 5)][['col1', 'col2', 'col3']]\n",
      "df[df.col1 == df.col1.max()][['col1', 'col2', 'col3']] #use min for lowest"
     ],
     "language": "python",
     "metadata": {},
     "outputs": []
    },
    {
     "cell_type": "markdown",
     "metadata": {},
     "source": [
      "###Sampling\n",
      "[back to top](#contents)"
     ]
    },
    {
     "cell_type": "code",
     "collapsed": false,
     "input": [
      "smalldf = fulldf[(fulldf.user_review_count > 60) & (fulldf.business_review_count > 150)]"
     ],
     "language": "python",
     "metadata": {},
     "outputs": []
    },
    {
     "cell_type": "markdown",
     "metadata": {},
     "source": [
      "###Mapping\n",
      "[back to top](#contents)"
     ]
    },
    {
     "cell_type": "code",
     "collapsed": false,
     "input": [
      "titanic[\"class\"] = titanic.pclass.map({1: \"First\", 2: \"Second\", 3: \"Third\"})\n",
      "titanic[\"who\"] = titanic[[\"age\", \"sex\"]].apply(woman_child_or_man, axis=1)\n",
      "titanic[\"adult_male\"] = titanic.who == \"man\"\n",
      "titanic[\"deck\"] = titanic.cabin.str[0].map(lambda s: np.nan if s == \"T\" else s)\n",
      "titanic[\"embark_town\"] = titanic.embarked.map({\"C\": \"Cherbourg\", \"Q\": \"Queenstown\", \"S\": \"Southampton\"})\n",
      "titanic[\"alive\"] = titanic.survived.map({0: \"no\", 1: \"yes\"})\n",
      "titanic[\"alone\"] = ~(titanic.parch + titanic.sibsp).astype(bool)\n",
      "titanic = titanic.drop([\"name\", \"ticket\", \"cabin\"], axis=1)"
     ],
     "language": "python",
     "metadata": {},
     "outputs": []
    },
    {
     "cell_type": "markdown",
     "metadata": {},
     "source": [
      "###Regular Expression\n",
      "[back to top](#contents)"
     ]
    },
    {
     "cell_type": "markdown",
     "metadata": {},
     "source": [
      "###New Columns\n",
      "[back to top](#contents)"
     ]
    },
    {
     "cell_type": "code",
     "collapsed": false,
     "input": [
      "def two_three_strings(x):\n",
      "   ....:   return x*2, x*3\n",
      "df4['twice'],df4['thrice'] = zip(*df4['int_col'].map(two_three_strings))"
     ],
     "language": "python",
     "metadata": {},
     "outputs": []
    },
    {
     "cell_type": "code",
     "collapsed": false,
     "input": [
      "#single column as a function of multiple columns\n",
      "\n",
      " def sum_two_cols(series):\n",
      "   ....:   return series['int_col'] + series['float_col']\n",
      "        \n",
      "df5['sum_col'] = df5.apply(sum_two_cols,axis=1)"
     ],
     "language": "python",
     "metadata": {},
     "outputs": []
    },
    {
     "cell_type": "code",
     "collapsed": false,
     "input": [
      "#multiple columns as a function of multiple columns\n",
      "def int_float_squares(series):\n",
      "   ....:   return pd.Series({'int_sq' : series['int_col']**2, 'flt_sq' : series['float_col']**2})\n",
      "    \n",
      "df.apply(int_float_squares, axis = 1)"
     ],
     "language": "python",
     "metadata": {},
     "outputs": []
    },
    {
     "cell_type": "markdown",
     "metadata": {},
     "source": [
      "###Groupby\n",
      "[back to top](#contents)"
     ]
    },
    {
     "cell_type": "code",
     "collapsed": false,
     "input": [
      "grouped = df['float_col'].groupby(df['str_col'])"
     ],
     "language": "python",
     "metadata": {},
     "outputs": []
    },
    {
     "cell_type": "markdown",
     "metadata": {},
     "source": [
      "###Date and Time\n",
      "[back to top](#contents)"
     ]
    },
    {
     "cell_type": "markdown",
     "metadata": {},
     "source": [
      "###Normalization\n",
      "[back to top](#contents)"
     ]
    },
    {
     "cell_type": "markdown",
     "metadata": {},
     "source": []
    },
    {
     "cell_type": "code",
     "collapsed": false,
     "input": [
      "#Remove text in columns which have numbers (e.g 142 mins)\n",
      "clean_col1 = [float(c.split(' ')[0]) for c in df.col1]\n",
      "data['col1'] = clean_col1\n",
      "\n",
      "#Remove useless info in columns (e.g Pulp Fiction (1994))\n",
      "df['col1'] = [c[0:-7] for c in df.col1]\n",
      "\n",
      "#remove non-letter characters from columns\n",
      "df = df.rename(columns={c: _strip(c) for c in df.columns})\n",
      "\n",
      "#Remove useless numbering (e.g 2.New York)\n",
      "df.col1 = df.col1.map(lambda x: x.split('.')[-1])\n",
      "\n",
      "#To edit and sub in multiple columns (e.g divide 2 columns by 100)\n",
      "columnlist = ['col1', 'col2']\n",
      "df2 = df[columnlist].apply(lambda x: x/100.0)\n",
      "df[columnlist] = df2\n",
      "\n",
      "#Drop rows with missing data in col1\n",
      "df = df[~df.col1.isnull()]\n",
      "\n",
      "#Split columns into diff columns (e.g Crime|Drama)\n",
      "col1 = set()\n",
      "for m in df.col1:\n",
      "    col1.update(g for g in m.split('|'))\n",
      "col1 = sorted(col1)\n",
      "for x in col1:\n",
      "    df[x] = [x in m.split('|') for m in df.col1]\n",
      "    \n",
      "#Convert dates from strings to date objects\n",
      "df.col_date = df.col_date.apply(pd.datetools.parse)\n",
      "\n",
      "#Compute no. of days from today (in days format)\n",
      "df['age_days'] = (today - df['col_date']).values / np.timedelta64(1, 'D')\n",
      "\n",
      "#Dropping rows which are after certain dates\n",
      "df = df[df.age_days > 0]\n",
      "\n",
      "#Drop columns which are unneeded\n",
      "df = df.drop(['col1', 'col2'], axis=1)\n",
      "\n",
      "#add another day frame\n",
      "df = df.join(df2, on='col_to_join')\n",
      "df = df.join(df2, how='outer')\n",
      "\n",
      "#drop rows with missing data\n",
      "df.dropna()\n",
      "\n",
      "#Clean up missing values in multiple DataFrame columns\n",
      "df = df.fillna({\n",
      "    'col1': 'missing',\n",
      "    'col2': '99.999',\n",
      "    'col3': '999',\n",
      "    'col4': 'missing',\n",
      "    'col5': 'missing',\n",
      "    'col6': '99'\n",
      "})"
     ],
     "language": "python",
     "metadata": {},
     "outputs": []
    },
    {
     "cell_type": "markdown",
     "metadata": {},
     "source": []
    },
    {
     "cell_type": "markdown",
     "metadata": {},
     "source": []
    },
    {
     "cell_type": "code",
     "collapsed": false,
     "input": [],
     "language": "python",
     "metadata": {},
     "outputs": []
    },
    {
     "cell_type": "code",
     "collapsed": false,
     "input": [],
     "language": "python",
     "metadata": {},
     "outputs": []
    },
    {
     "cell_type": "code",
     "collapsed": false,
     "input": [],
     "language": "python",
     "metadata": {},
     "outputs": []
    },
    {
     "cell_type": "code",
     "collapsed": false,
     "input": [
      "data = iris.iloc[:,0:4] #set number of columns\n",
      "data = iris[['sepal_width', 'sepal_length', 'petal_length']]"
     ],
     "language": "python",
     "metadata": {},
     "outputs": []
    },
    {
     "cell_type": "code",
     "collapsed": false,
     "input": [
      "Create new columns to convert 1 to First, 2 to Second etc..."
     ],
     "language": "python",
     "metadata": {},
     "outputs": []
    },
    {
     "cell_type": "markdown",
     "metadata": {},
     "source": [
      "###Outliers"
     ]
    },
    {
     "cell_type": "code",
     "collapsed": false,
     "input": [],
     "language": "python",
     "metadata": {},
     "outputs": []
    },
    {
     "cell_type": "code",
     "collapsed": false,
     "input": [],
     "language": "python",
     "metadata": {},
     "outputs": []
    },
    {
     "cell_type": "code",
     "collapsed": false,
     "input": [],
     "language": "python",
     "metadata": {},
     "outputs": []
    },
    {
     "cell_type": "code",
     "collapsed": false,
     "input": [
      "# from IPython.display import display, HTML\n",
      "# display(HTML(open('../style/custom.css').read()))"
     ],
     "language": "python",
     "metadata": {},
     "outputs": []
    }
   ],
   "metadata": {}
  }
 ]
}