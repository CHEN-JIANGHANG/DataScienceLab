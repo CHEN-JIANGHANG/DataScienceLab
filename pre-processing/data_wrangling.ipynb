{
 "metadata": {
  "name": "",
  "signature": "sha256:0f569a379ab15afb214485117640ad98e0046408ac11750125770589c658ac0b"
 },
 "nbformat": 3,
 "nbformat_minor": 0,
 "worksheets": [
  {
   "cells": [
    {
     "cell_type": "markdown",
     "metadata": {},
     "source": [
      "#Data Wrangling\n",
      "\n",
      "<img src=\"../images/data_wrangling.png\" style=\" height:400px;\">"
     ]
    },
    {
     "cell_type": "markdown",
     "metadata": {},
     "source": [
      "###Contents\n",
      "- [Preliminaries](#preliminaries)\n",
      "- [Load Datasets](#load-datasets)\n",
      "- Data Cleaning\n",
      "- Outliers\n",
      "- Remove those without data\n",
      "- Change the dates\n",
      "- Types (integer, string)"
     ]
    },
    {
     "cell_type": "markdown",
     "metadata": {},
     "source": [
      "###Preliminaries\n",
      "[back to top](#contents)"
     ]
    },
    {
     "cell_type": "code",
     "collapsed": false,
     "input": [
      "%matplotlib inline\n",
      "import pandas as pd\n",
      "import numpy as np\n",
      "import matplotlib.pyplot as plt\n",
      "import seaborn as sns\n",
      "sns.set(style=\"white\")\n",
      "plt.rc(\"figure\", figsize=(10, 6))\n",
      "np.set_printoptions(precision=4)"
     ],
     "language": "python",
     "metadata": {},
     "outputs": []
    },
    {
     "cell_type": "markdown",
     "metadata": {},
     "source": [
      "###Loading\n",
      "[back to top](#contents)"
     ]
    },
    {
     "cell_type": "code",
     "collapsed": false,
     "input": [
      "tips = pd.read_csv('../data/tips.csv')\n",
      "iris = pd.read_csv('../data/iris.csv')\n",
      "titanic = pd.read_csv('../data/titanic.csv')"
     ],
     "language": "python",
     "metadata": {},
     "outputs": []
    },
    {
     "cell_type": "markdown",
     "metadata": {},
     "source": [
      "####CSV"
     ]
    },
    {
     "cell_type": "code",
     "collapsed": false,
     "input": [
      "!head '../data/wine.data'\n",
      "# !cat '../data/wine.data'"
     ],
     "language": "python",
     "metadata": {},
     "outputs": []
    },
    {
     "cell_type": "code",
     "collapsed": false,
     "input": [
      "wine = pd.read_csv('../data/wine.data', sep=',')\n",
      "wine.head(1)"
     ],
     "language": "python",
     "metadata": {},
     "outputs": []
    },
    {
     "cell_type": "code",
     "collapsed": false,
     "input": [
      "names=['a', 'b', 'c', 'd',\n",
      "       'e', 'f', 'g', 'h',\n",
      "       'i', 'j', 'k', 'l',\n",
      "       'm', 'n']\n",
      "\n",
      "wine = pd.read_csv('../data/wine.data',\n",
      "                   sep=',',\n",
      "                   names=names,\n",
      "                   index_col=['d', 'j'],\n",
      "                   skiprows=[0,2,3],\n",
      "                   na_values=['NULL']).dropna()\n",
      "wine.head(2)"
     ],
     "language": "python",
     "metadata": {},
     "outputs": []
    },
    {
     "cell_type": "markdown",
     "metadata": {},
     "source": [
      "####Text"
     ]
    },
    {
     "cell_type": "code",
     "collapsed": false,
     "input": [
      "!head '../data/imdb.txt'"
     ],
     "language": "python",
     "metadata": {},
     "outputs": []
    },
    {
     "cell_type": "code",
     "collapsed": false,
     "input": [
      "names = ['imdbID', 'title', 'year', 'score', 'votes', 'runtime', 'genres']\n",
      "imdb = pd.read_csv('../data/imdb.txt',\n",
      "                     delimiter='\\t',\n",
      "                     names=names).dropna()\n",
      "imdb.head(2)"
     ],
     "language": "python",
     "metadata": {},
     "outputs": []
    },
    {
     "cell_type": "markdown",
     "metadata": {},
     "source": [
      "####TSV"
     ]
    },
    {
     "cell_type": "code",
     "collapsed": false,
     "input": [
      "!head '../data/movies.tsv'"
     ],
     "language": "python",
     "metadata": {},
     "outputs": []
    },
    {
     "cell_type": "code",
     "collapsed": false,
     "input": [
      "movies = pd.DataFrame.from_csv('../data/movies.tsv', sep='\\t')\n",
      "movies.head(10)"
     ],
     "language": "python",
     "metadata": {},
     "outputs": []
    },
    {
     "cell_type": "markdown",
     "metadata": {},
     "source": [
      "####JSON"
     ]
    },
    {
     "cell_type": "code",
     "collapsed": false,
     "input": [
      "# !head '../data/bitly.txt'"
     ],
     "language": "python",
     "metadata": {},
     "outputs": []
    },
    {
     "cell_type": "code",
     "collapsed": false,
     "input": [
      "import json\n",
      "\n",
      "path = '../data/bitly.txt'\n",
      "lines = open(path).readlines()\n",
      "records = [json.loads(line) for line in lines]\n",
      "bitly = pd.DataFrame(records)\n",
      "bitly.head(2)"
     ],
     "language": "python",
     "metadata": {},
     "outputs": []
    },
    {
     "cell_type": "markdown",
     "metadata": {},
     "source": [
      "####Web API"
     ]
    },
    {
     "cell_type": "code",
     "collapsed": false,
     "input": [
      "from urllib2 import Request, urlopen\n",
      "import json\n",
      "from pandas.io.json import json_normalize\n",
      "\n",
      "path1 = '42.974049,-81.205203|42.974298,-81.195755'\n",
      "request=Request('http://maps.googleapis.com/maps/api/elevation/json?locations='+path1+'&sensor=false')\n",
      "response = urlopen(request)\n",
      "elevations = response.read()\n",
      "data = json.loads(elevations)\n",
      "google = json_normalize(data['results'])\n",
      "google.head()"
     ],
     "language": "python",
     "metadata": {},
     "outputs": []
    },
    {
     "cell_type": "markdown",
     "metadata": {},
     "source": [
      "####Databases"
     ]
    },
    {
     "cell_type": "code",
     "collapsed": false,
     "input": [],
     "language": "python",
     "metadata": {},
     "outputs": []
    },
    {
     "cell_type": "markdown",
     "metadata": {},
     "source": [
      "###Exporting\n",
      "[back to top](#contents)"
     ]
    },
    {
     "cell_type": "code",
     "collapsed": false,
     "input": [
      "import sys\n",
      "wine.to_csv('../data/out.csv')\n",
      "!head '../data/out.csv'"
     ],
     "language": "python",
     "metadata": {},
     "outputs": []
    },
    {
     "cell_type": "markdown",
     "metadata": {},
     "source": [
      "###Summarizing\n",
      "[back to top](#contents)"
     ]
    },
    {
     "cell_type": "code",
     "collapsed": false,
     "input": [
      "print \"No. of rows:\", movies.shape[0]\n",
      "print \"No. of columns:\", movies.shape[1]\n",
      "print movies.columns\n",
      "print \"No. of genres:\", movies.genres.unique().shape[0]\n",
      "print movies[['title', 'year', 'votes']].describe()\n",
      "print \"Total Bill:\", tips.total_bill.sum()\n",
      "print tips['sex'].value_counts()\n",
      "print movies.cov()\n",
      "print movies.corr()\n",
      "movies.head()\n",
      "movies.info()\n",
      "movies.dtypes"
     ],
     "language": "python",
     "metadata": {},
     "outputs": []
    },
    {
     "cell_type": "markdown",
     "metadata": {},
     "source": [
      "###Selecting\n",
      "[back to top](#contents)"
     ]
    },
    {
     "cell_type": "code",
     "collapsed": false,
     "input": [
      "#Rows\n",
      "baseball.ix[22]\n",
      "baseball.loc['Addison']\n",
      "tips[:2]"
     ],
     "language": "python",
     "metadata": {},
     "outputs": []
    },
    {
     "cell_type": "code",
     "collapsed": false,
     "input": [
      "#Columns\n",
      "tips[['total_bill', 'smoker']]\n",
      "tips.ix[:,1:3].head(2)"
     ],
     "language": "python",
     "metadata": {},
     "outputs": []
    },
    {
     "cell_type": "code",
     "collapsed": false,
     "input": [
      "tips[tips['total_bill'] > 45]\n",
      "tips[(tips['total_bill'] > 45) & (tips['smoker'] == 'Yes')]"
     ],
     "language": "python",
     "metadata": {},
     "outputs": []
    },
    {
     "cell_type": "code",
     "collapsed": false,
     "input": [
      "###Specific Cells\n",
      "tips.ix[102, ['total_bill', 'sex', 'smoker']]"
     ],
     "language": "python",
     "metadata": {},
     "outputs": []
    },
    {
     "cell_type": "markdown",
     "metadata": {},
     "source": [
      "###Renaming\n",
      "[back to top](#contents)"
     ]
    },
    {
     "cell_type": "code",
     "collapsed": false,
     "input": [
      "#Columns\n",
      "tips1 = tips.rename(columns={'total_bill': 'kickass'})\n",
      "tips1.columns = map(str.lower, tips1.columns)\n",
      "tips1.head(2)"
     ],
     "language": "python",
     "metadata": {},
     "outputs": []
    },
    {
     "cell_type": "code",
     "collapsed": false,
     "input": [
      "#Rows\n",
      "tips1 = tips.rename(index={0: 'change_index'})\n",
      "tips1.head(2)"
     ],
     "language": "python",
     "metadata": {},
     "outputs": []
    },
    {
     "cell_type": "markdown",
     "metadata": {},
     "source": [
      "###Clean Data"
     ]
    },
    {
     "cell_type": "code",
     "collapsed": false,
     "input": [
      "imdb.head(2)"
     ],
     "language": "python",
     "metadata": {},
     "outputs": []
    },
    {
     "cell_type": "code",
     "collapsed": false,
     "input": [
      "#Rename data in a column\n",
      "imdb['title'] = [c[0:-7] for c in imdb.title]\n",
      "imdb['runtime'] = [float(c.split(' ')[0]) for c in imdb.runtime]\n",
      "\n",
      "#remove non-letter characters from columns\n",
      "import re\n",
      "def _strip(s):\n",
      "    return re.sub(r'[\\W_]+', '', s)\n",
      "imdb = imdb.rename(columns={c: _strip(c) for c in imdb.columns})\n",
      "\n",
      "#e.g. hello.bye\n",
      "df = df.rename(columns=lambda x: x.split('.')[-1], inplace=True)\n",
      "\n",
      "#To edit and sub in multiple columns (e.g divide 2 columns by 100)\n",
      "columnlist = ['col1', 'col2']\n",
      "df2 = df[columnlist].apply(lambda x: x/100.0)\n",
      "df[columnlist] = df2"
     ],
     "language": "python",
     "metadata": {},
     "outputs": []
    },
    {
     "cell_type": "markdown",
     "metadata": {},
     "source": [
      "###Mapping\n",
      "[back to top](#contents)"
     ]
    },
    {
     "cell_type": "code",
     "collapsed": false,
     "input": [
      "titanic.head(2)"
     ],
     "language": "python",
     "metadata": {},
     "outputs": []
    },
    {
     "cell_type": "code",
     "collapsed": false,
     "input": [
      "#map data to a new column\n",
      "titanic2 = titanic.copy()\n",
      "titanic2[\"status\"] = titanic.survived.map({0: \"Dead\", 1: \"Alive\"})\n",
      "\n",
      "titanic2[[\"survived\", \"status\"]].head()"
     ],
     "language": "python",
     "metadata": {},
     "outputs": []
    },
    {
     "cell_type": "code",
     "collapsed": false,
     "input": [
      "#Apply\n",
      "def woman_child_or_man(passenger):\n",
      "    age, sex = passenger\n",
      "    if age < 16:\n",
      "        return \"child\"\n",
      "    else:\n",
      "        return dict(male=\"man\", female=\"woman\")[sex]\n",
      "\n",
      "titanic[\"who\"] = titanic[[\"age\", \"sex\"]].apply(woman_child_or_man, axis=1)"
     ],
     "language": "python",
     "metadata": {},
     "outputs": []
    },
    {
     "cell_type": "markdown",
     "metadata": {},
     "source": [
      "###Sorting\n",
      "[back to top](#contents)"
     ]
    },
    {
     "cell_type": "code",
     "collapsed": false,
     "input": [
      "#Rows\n",
      "tips1 = tips.sort_index(ascending=True)\n",
      "tips1.head(2)"
     ],
     "language": "python",
     "metadata": {},
     "outputs": []
    },
    {
     "cell_type": "code",
     "collapsed": false,
     "input": [
      "#Columns\n",
      "tips1 = tips.sort_index(axis=1, ascending=True)\n",
      "tips1.head(2)"
     ],
     "language": "python",
     "metadata": {},
     "outputs": []
    },
    {
     "cell_type": "code",
     "collapsed": false,
     "input": [
      "tips1 = tips.sort(['total_bill', 'sex'], ascending=False)\n",
      "tips1.head(2)"
     ],
     "language": "python",
     "metadata": {},
     "outputs": []
    },
    {
     "cell_type": "markdown",
     "metadata": {},
     "source": [
      "###Missing Data\n",
      "[back to top](#contents)"
     ]
    },
    {
     "cell_type": "code",
     "collapsed": false,
     "input": [
      "toy = pd.DataFrame(np.random.randn(10,3),columns=list('ABC'))\n",
      "toy.iloc[3:5,0] = np.nan\n",
      "toy.iloc[4:6,1] = np.nan\n",
      "toy.iloc[5:8,2] = np.nan\n",
      "toy"
     ],
     "language": "python",
     "metadata": {},
     "outputs": []
    },
    {
     "cell_type": "code",
     "collapsed": false,
     "input": [
      "#Check for missing data\n",
      "print pd.isnull(toy['A'])\n",
      "print \"No. of missing data:\", len(np.where((toy)['A'].isnull())[0])"
     ],
     "language": "python",
     "metadata": {},
     "outputs": []
    },
    {
     "cell_type": "markdown",
     "metadata": {},
     "source": [
      "###Drop Data"
     ]
    },
    {
     "cell_type": "code",
     "collapsed": false,
     "input": [
      "#drop data\n",
      "toy1 = toy.dropna()\n",
      "\n",
      "#drop columns\n",
      "toy1 = toy.drop(['A', 'B'], axis=1)\n",
      "\n",
      "#drop rows\n",
      "toy1 = toy.drop(toy.index[[1,3]])\n",
      "\n",
      "#Conditional dropping\n",
      "toy1 = toy[toy.B < 0]\n",
      "\n",
      "#Drop rows with missing data in col1\n",
      "df = df[~df.col1.isnull()]\n",
      "\n",
      "# toy1"
     ],
     "language": "python",
     "metadata": {},
     "outputs": []
    },
    {
     "cell_type": "markdown",
     "metadata": {},
     "source": [
      "###Fill Data"
     ]
    },
    {
     "cell_type": "code",
     "collapsed": false,
     "input": [
      "#fill data\n",
      "toy.fillna(0)\n",
      "toy.fillna(method='ffill')\n",
      "toy.fillna(method='bfill')\n",
      "toy.fillna(toy.mean())"
     ],
     "language": "python",
     "metadata": {},
     "outputs": []
    },
    {
     "cell_type": "markdown",
     "metadata": {},
     "source": [
      "###Combining Datasets\n",
      "[back to top](#contents)"
     ]
    },
    {
     "cell_type": "code",
     "collapsed": false,
     "input": [],
     "language": "python",
     "metadata": {},
     "outputs": []
    },
    {
     "cell_type": "code",
     "collapsed": false,
     "input": [
      "#add another day frame\n",
      "df = df.join(df2, on='col_to_join')\n",
      "df = df.join(df2, how='outer')"
     ],
     "language": "python",
     "metadata": {},
     "outputs": []
    },
    {
     "cell_type": "code",
     "collapsed": false,
     "input": [
      "other = DataFrame({'str_col' : ['a','b'], 'some_val' : [1, 2]})"
     ],
     "language": "python",
     "metadata": {},
     "outputs": []
    },
    {
     "cell_type": "code",
     "collapsed": false,
     "input": [
      "pd.merge(df,other,on='str_col',how='inner')"
     ],
     "language": "python",
     "metadata": {},
     "outputs": []
    },
    {
     "cell_type": "code",
     "collapsed": false,
     "input": [
      "pd.merge(df,other,on='str_col',how='outer')"
     ],
     "language": "python",
     "metadata": {},
     "outputs": []
    },
    {
     "cell_type": "code",
     "collapsed": false,
     "input": [
      "pd.merge(df,other,on='str_col',how='left')"
     ],
     "language": "python",
     "metadata": {},
     "outputs": []
    },
    {
     "cell_type": "code",
     "collapsed": false,
     "input": [
      "pd.merge(df,other,on='str_col',how='right')"
     ],
     "language": "python",
     "metadata": {},
     "outputs": []
    },
    {
     "cell_type": "markdown",
     "metadata": {},
     "source": [
      "###Remove Duplicates\n",
      "[back to top](#contents)"
     ]
    },
    {
     "cell_type": "markdown",
     "metadata": {},
     "source": [
      "###Outliers\n",
      "[back to top](#contents)"
     ]
    },
    {
     "cell_type": "code",
     "collapsed": false,
     "input": [
      "titanic[\"fare_winsor\"] = titanic.fare.map(lambda f: min(f, 200))\n",
      "\n",
      "df[(df.col1 > 1e3) & (df.col1 < 5)][['col1', 'col2', 'col3']]\n",
      "df[df.col1 == df.col1.max()][['col1', 'col2', 'col3']] #use min for lowest"
     ],
     "language": "python",
     "metadata": {},
     "outputs": []
    },
    {
     "cell_type": "markdown",
     "metadata": {},
     "source": [
      "###Sampling\n",
      "[back to top](#contents)"
     ]
    },
    {
     "cell_type": "code",
     "collapsed": false,
     "input": [
      "smalldf = fulldf[(fulldf.user_review_count > 60) & (fulldf.business_review_count > 150)]"
     ],
     "language": "python",
     "metadata": {},
     "outputs": []
    },
    {
     "cell_type": "markdown",
     "metadata": {},
     "source": [
      "###Regular Expression\n",
      "[back to top](#contents)"
     ]
    },
    {
     "cell_type": "markdown",
     "metadata": {},
     "source": [
      "###New Columns\n",
      "[back to top](#contents)"
     ]
    },
    {
     "cell_type": "code",
     "collapsed": false,
     "input": [
      "def two_three_strings(x):\n",
      "   ....:   return x*2, x*3\n",
      "df4['twice'],df4['thrice'] = zip(*df4['int_col'].map(two_three_strings))"
     ],
     "language": "python",
     "metadata": {},
     "outputs": []
    },
    {
     "cell_type": "code",
     "collapsed": false,
     "input": [
      "#single column as a function of multiple columns\n",
      "\n",
      " def sum_two_cols(series):\n",
      "   ....:   return series['int_col'] + series['float_col']\n",
      "        \n",
      "df5['sum_col'] = df5.apply(sum_two_cols,axis=1)"
     ],
     "language": "python",
     "metadata": {},
     "outputs": []
    },
    {
     "cell_type": "code",
     "collapsed": false,
     "input": [
      "#multiple columns as a function of multiple columns\n",
      "def int_float_squares(series):\n",
      "   ....:   return pd.Series({'int_sq' : series['int_col']**2, 'flt_sq' : series['float_col']**2})\n",
      "    \n",
      "df.apply(int_float_squares, axis = 1)"
     ],
     "language": "python",
     "metadata": {},
     "outputs": []
    },
    {
     "cell_type": "markdown",
     "metadata": {},
     "source": [
      "###Groupby\n",
      "[back to top](#contents)"
     ]
    },
    {
     "cell_type": "code",
     "collapsed": false,
     "input": [
      "df = pd.DataFrame({'key1' : ['a', 'a', 'b', 'b', 'a'],\n",
      "                'key2' : ['one', 'two', 'one', 'two', 'one'],\n",
      "                'data1' : np.random.randn(5),\n",
      "                'data2' : np.random.randn(5)})\n",
      "df"
     ],
     "language": "python",
     "metadata": {},
     "outputs": []
    },
    {
     "cell_type": "code",
     "collapsed": false,
     "input": [
      "grouped = df['data1'].groupby(df['key1'])"
     ],
     "language": "python",
     "metadata": {},
     "outputs": []
    },
    {
     "cell_type": "code",
     "collapsed": false,
     "input": [
      "grouped.mean()"
     ],
     "language": "python",
     "metadata": {},
     "outputs": []
    },
    {
     "cell_type": "code",
     "collapsed": false,
     "input": [
      "means = df['data1'].groupby([df['key1'], df['key2']]).mean()"
     ],
     "language": "python",
     "metadata": {},
     "outputs": []
    },
    {
     "cell_type": "code",
     "collapsed": false,
     "input": [
      "means"
     ],
     "language": "python",
     "metadata": {},
     "outputs": []
    },
    {
     "cell_type": "code",
     "collapsed": false,
     "input": [],
     "language": "python",
     "metadata": {},
     "outputs": []
    },
    {
     "cell_type": "code",
     "collapsed": false,
     "input": [],
     "language": "python",
     "metadata": {},
     "outputs": []
    },
    {
     "cell_type": "code",
     "collapsed": false,
     "input": [],
     "language": "python",
     "metadata": {},
     "outputs": []
    },
    {
     "cell_type": "code",
     "collapsed": false,
     "input": [
      "grouped = df['float_col'].groupby(df['str_col'])\n",
      "by_series = mattermark_df.groupby('series') group records by series column (stored in a variable)\n",
      "\n",
      "print by_series['amount'].mean().astype(int) within each grouping, calculate the mean (and do some explicit type conversion)"
     ],
     "language": "python",
     "metadata": {},
     "outputs": []
    },
    {
     "cell_type": "markdown",
     "metadata": {},
     "source": [
      "###Date and Time\n",
      "[back to top](#contents)"
     ]
    },
    {
     "cell_type": "code",
     "collapsed": false,
     "input": [
      "#Convert dates from strings to date objects\n",
      "df.col_date = df.col_date.apply(pd.datetools.parse)\n",
      "\n",
      "#Compute no. of days from today (in days format)\n",
      "df['age_days'] = (today - df['col_date']).values / np.timedelta64(1, 'D')\n"
     ],
     "language": "python",
     "metadata": {},
     "outputs": []
    },
    {
     "cell_type": "markdown",
     "metadata": {},
     "source": [
      "###Normalization\n",
      "[back to top](#contents)"
     ]
    },
    {
     "cell_type": "code",
     "collapsed": false,
     "input": [],
     "language": "python",
     "metadata": {},
     "outputs": []
    },
    {
     "cell_type": "code",
     "collapsed": false,
     "input": [],
     "language": "python",
     "metadata": {},
     "outputs": []
    },
    {
     "cell_type": "code",
     "collapsed": false,
     "input": [],
     "language": "python",
     "metadata": {},
     "outputs": []
    },
    {
     "cell_type": "code",
     "collapsed": false,
     "input": [],
     "language": "python",
     "metadata": {},
     "outputs": []
    },
    {
     "cell_type": "markdown",
     "metadata": {},
     "source": [
      "###References\n",
      "[back to top](#contents)\n",
      "- [Pandas Doc](http://pandas.pydata.org/pandas-docs/dev/missing_data.html)\n",
      "- [Rubric for Data Wrangling and Exploration](http://nbviewer.ipython.org/github/cs109/content/blob/master/lec_04_wrangling.ipynb)"
     ]
    },
    {
     "cell_type": "code",
     "collapsed": false,
     "input": [
      "# from IPython.display import display, HTML\n",
      "# display(HTML(open('../style/custom.css').read()))"
     ],
     "language": "python",
     "metadata": {},
     "outputs": []
    }
   ],
   "metadata": {}
  }
 ]
}